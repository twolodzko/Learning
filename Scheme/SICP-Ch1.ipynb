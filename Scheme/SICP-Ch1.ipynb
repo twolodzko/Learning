{
 "cells": [
  {
   "cell_type": "markdown",
   "id": "stuffed-mitchell",
   "metadata": {},
   "source": [
    "# Notes and excercises from *Structure and Interpretation of Computer Programs*\n",
    "\n",
    "The book is [available online on MIT's site](https://mitpress.mit.edu/sites/default/files/sicp/full-text/book/book.html), there are also [recorded lectures on MIT's OCW](https://www.youtube.com/playlist?list=PLE18841CABEA24090).\n",
    "\n",
    "I'm using the [Calysto Scheme](https://github.com/Calysto/calysto_scheme) notebooks.\n",
    "\n",
    "```python\n",
    "pip install calysto_scheme\n",
    "```"
   ]
  },
  {
   "cell_type": "markdown",
   "id": "occupational-tattoo",
   "metadata": {},
   "source": [
    "## Chapter 1. Building Abstractions with Procedures"
   ]
  },
  {
   "cell_type": "markdown",
   "id": "stainless-cause",
   "metadata": {},
   "source": [
    "### `lambda` vs `define`\n",
    "\n",
    "Definitions have the form\n",
    "\n",
    "```scheme\n",
    "(define <var> <value>)\n",
    "```\n",
    "\n",
    "or the form\n",
    "\n",
    "```scheme\n",
    "(define (<var> <parameter1> ... <parametern>)\n",
    "  <body>)\n",
    "```\n",
    "\n",
    "The latter form (standard procedure definition) is syntactic sugar for\n",
    "\n",
    "```scheme\n",
    "(define <var>\n",
    "  (lambda (<parameter1> ... <parametern>)\n",
    "    <body>))\n",
    "```"
   ]
  },
  {
   "cell_type": "markdown",
   "id": "welcome-swiss",
   "metadata": {},
   "source": [
    "### `let`\n",
    "\n",
    "The general form of a `let` expression is\n",
    "\n",
    "```scheme\n",
    "(let ((<var1> <exp1>)\n",
    "      (<var2> <exp2>)\n",
    "      \n",
    "      (<varn> <expn>))\n",
    "   <body>)\n",
    "```\n",
    "\n",
    "[...] the `let` expression is interpreted as an alternate syntax for\n",
    "\n",
    "```scheme\n",
    "((lambda (<var1> ...<varn>)\n",
    "    <body>)\n",
    " <exp1>\n",
    " \n",
    " <expn>)\n",
    "```"
   ]
  },
  {
   "cell_type": "code",
   "execution_count": 1,
   "id": "stainless-trinidad",
   "metadata": {},
   "outputs": [],
   "source": [
    ";; math functions missig from Calysto Scheme\n",
    "\n",
    "(import \"math\")\n",
    "\n",
    "(define sin math.sin)\n",
    "(define cos math.cos)\n",
    "(define tan math.tan)\n",
    "(define atan math.atan)\n",
    "(define log math.log)"
   ]
  },
  {
   "cell_type": "code",
   "execution_count": 2,
   "id": "consistent-newfoundland",
   "metadata": {},
   "outputs": [
    {
     "data": {
      "text/plain": [
       "ok"
      ]
     },
     "execution_count": 2,
     "metadata": {},
     "output_type": "execute_result"
    }
   ],
   "source": [
    "(define (square x) (* x x))\n",
    "\n",
    "(assert = (square 2) 4)\n",
    "(assert = (square 3) 9)"
   ]
  },
  {
   "cell_type": "code",
   "execution_count": 3,
   "id": "empty-bookmark",
   "metadata": {},
   "outputs": [
    {
     "data": {
      "text/plain": [
       "ok"
      ]
     },
     "execution_count": 3,
     "metadata": {},
     "output_type": "execute_result"
    }
   ],
   "source": [
    "(define ε 0.01)\n",
    "\n",
    "(define (approx x y)\n",
    "  (< (abs (- x y)) ε))\n",
    "\n",
    "(assert = (approx 1 1) #t)\n",
    "(assert = (approx (+ 1 (/ ε 2)) 1) #t)\n",
    "(assert = (approx (- 1 (/ ε 2)) 1) #t)\n",
    "(assert = (approx 2 1) #f)\n",
    "(assert = (approx (+ 1 (* ε 1.1)) 1) #f)"
   ]
  },
  {
   "cell_type": "code",
   "execution_count": 4,
   "id": "sunrise-affiliation",
   "metadata": {},
   "outputs": [
    {
     "data": {
      "text/plain": [
       "ok"
      ]
     },
     "execution_count": 4,
     "metadata": {},
     "output_type": "execute_result"
    }
   ],
   "source": [
    "(define π 3.1415)\n",
    "\n",
    "(define (circle-area r)\n",
    "  (* π (square r)))\n",
    "\n",
    "(assert = (circle-area 1) π)\n",
    "(assert approx (circle-area 2) 12.56)"
   ]
  },
  {
   "cell_type": "code",
   "execution_count": 5,
   "id": "fuzzy-kentucky",
   "metadata": {},
   "outputs": [
    {
     "data": {
      "text/plain": [
       "ok"
      ]
     },
     "execution_count": 5,
     "metadata": {},
     "output_type": "execute_result"
    }
   ],
   "source": [
    "(define (sqrt-iter guess x)\n",
    "  (if (good-enough? guess x)\n",
    "      guess\n",
    "      (sqrt-iter (improve guess x)\n",
    "                 x)))\n",
    "\n",
    "(define (improve guess x)\n",
    "  (average guess (/ x guess)))\n",
    "\n",
    "(define (average x y)\n",
    "  (/ (+ x y) 2))\n",
    "\n",
    "(define (good-enough? guess x)\n",
    "  (< (abs (- (square guess) x)) ε))\n",
    "\n",
    "(define (sqrt x)\n",
    "  (sqrt-iter 1 x))\n",
    "\n",
    "(assert approx (sqrt 4) 2)\n",
    "(assert approx (sqrt 9) 3)"
   ]
  },
  {
   "cell_type": "code",
   "execution_count": 6,
   "id": "distinguished-frank",
   "metadata": {},
   "outputs": [
    {
     "data": {
      "text/plain": [
       "ok"
      ]
     },
     "execution_count": 6,
     "metadata": {},
     "output_type": "execute_result"
    }
   ],
   "source": [
    "(define (good-enough? guess x)\n",
    "    (< (abs (- (square guess) x)) ε))\n",
    "\n",
    "(define (improve guess x)\n",
    "    (average guess (/ x guess)))\n",
    "\n",
    "(define (sqrt-iter guess x)\n",
    "  (if (good-enough? guess x)\n",
    "      guess\n",
    "      (sqrt-iter (improve guess x) x)))\n",
    "\n",
    "(assert approx (sqrt-iter 1 4) 2)\n",
    "(assert approx (sqrt-iter 1 9) 3)"
   ]
  },
  {
   "cell_type": "markdown",
   "id": "relative-burke",
   "metadata": {},
   "source": [
    "We would like to localize the subprocedures, hiding them inside `sqrt` so that `sqrt` could coexist with other successive approximations, each having its own private good-enough? procedure. [...]  Such nesting of definitions, called *block structure*, is basically the right solution to the simplest name-packaging problem.  [...] Since `x` is bound in the definition of sqrt, the procedures `good-enough?`, `improve`, and `sqrt-iter`, which are defined internally to sqrt, are in the scope of `x`. Thus, it is not necessary to pass x explicitly to each of these procedures. Instead, we allow `x` to be a free variable in the internal definitions, as shown below. Then `x` gets its value from the argument with which the enclosing procedure sqrt is called. This discipline is called *lexical scoping*."
   ]
  },
  {
   "cell_type": "code",
   "execution_count": 7,
   "id": "egyptian-disability",
   "metadata": {},
   "outputs": [
    {
     "data": {
      "text/plain": [
       "ok"
      ]
     },
     "execution_count": 7,
     "metadata": {},
     "output_type": "execute_result"
    }
   ],
   "source": [
    "(define (sqrt x)\n",
    "  (define (good-enough? guess)\n",
    "    (< (abs (- (square guess) x)) ε))\n",
    "  (define (improve guess)\n",
    "    (average guess (/ x guess)))\n",
    "  (define (sqrt-iter guess)\n",
    "    (if (good-enough? guess)\n",
    "        guess\n",
    "        (sqrt-iter (improve guess))))\n",
    "  (sqrt-iter 1.0))\n",
    "\n",
    "(assert approx (sqrt 4) 2)\n",
    "(assert approx (sqrt 9) 3)"
   ]
  },
  {
   "cell_type": "code",
   "execution_count": 8,
   "id": "significant-kelly",
   "metadata": {},
   "outputs": [
    {
     "name": "stdout",
     "output_type": "stream",
     "text": [
      "0\n",
      "3.1415\n"
     ]
    }
   ],
   "source": [
    ";; local scope\n",
    "\n",
    "(define (foo)\n",
    "  (define π 0)\n",
    "  π)\n",
    "\n",
    "(print (foo))\n",
    "(print π)"
   ]
  },
  {
   "cell_type": "code",
   "execution_count": 9,
   "id": "intended-margin",
   "metadata": {},
   "outputs": [
    {
     "data": {
      "text/plain": [
       "10"
      ]
     },
     "execution_count": 9,
     "metadata": {},
     "output_type": "execute_result"
    }
   ],
   "source": [
    ";; we can replace the methods easily\n",
    "\n",
    "(define (bar x) (* 2 x))\n",
    "\n",
    "(define (foo x) (bar x))\n",
    "\n",
    "(foo 5)"
   ]
  },
  {
   "cell_type": "code",
   "execution_count": 10,
   "id": "intelligent-poetry",
   "metadata": {},
   "outputs": [
    {
     "data": {
      "text/plain": [
       "500"
      ]
     },
     "execution_count": 10,
     "metadata": {},
     "output_type": "execute_result"
    }
   ],
   "source": [
    "(define (bar x) (* 100 x))\n",
    "\n",
    "(foo 5)"
   ]
  },
  {
   "cell_type": "markdown",
   "id": "agricultural-antenna",
   "metadata": {},
   "source": [
    "**Exercise 1.6.**  Alyssa P. Hacker doesn't see why if needs to be provided as a special form. \"Why can't I just define it as an ordinary procedure in terms of `cond`?\" she asks. Alyssa's friend Eva Lu Ator claims this can indeed be done, and she defines a new version of `if`:"
   ]
  },
  {
   "cell_type": "code",
   "execution_count": 11,
   "id": "printable-divorce",
   "metadata": {},
   "outputs": [
    {
     "data": {
      "text/plain": [
       "ok"
      ]
     },
     "execution_count": 11,
     "metadata": {},
     "output_type": "execute_result"
    }
   ],
   "source": [
    "(define (new-if predicate then-clause else-clause)\n",
    "  (cond (predicate then-clause)\n",
    "        (else else-clause)))\n",
    "\n",
    "(assert = (new-if (= 2 3) 0 5) 5)\n",
    "(assert = (new-if (= 1 1) 0 5) 0)"
   ]
  },
  {
   "cell_type": "code",
   "execution_count": 12,
   "id": "deadly-anthony",
   "metadata": {},
   "outputs": [],
   "source": [
    "(define (sqrt-iter-bad guess x)\n",
    "  (new-if (good-enough? guess x)\n",
    "          guess\n",
    "          (sqrt-iter-bad (improve guess x) x)))\n",
    "\n",
    ";; (sqrt-iter-2 1 2)"
   ]
  },
  {
   "cell_type": "markdown",
   "id": "alone-taste",
   "metadata": {},
   "source": [
    "**Exercise 1.7.**  The `good-enough?` test used in computing square roots will not be very effective for finding the square roots of very small numbers. Also, in real computers, arithmetic operations are almost always performed with limited precision. This makes our test inadequate for very large numbers. Explain these statements, with examples showing how the test fails for small and large numbers. An alternative strategy for implementing `good-enough?` is to watch how guess changes from one iteration to the next and to stop when the change is a very small fraction of the `guess`. Design a square-root procedure that uses this kind of end test. Does this work better for small and large numbers? "
   ]
  },
  {
   "cell_type": "code",
   "execution_count": 13,
   "id": "impossible-barrier",
   "metadata": {},
   "outputs": [
    {
     "data": {
      "text/plain": [
       "ok"
      ]
     },
     "execution_count": 13,
     "metadata": {},
     "output_type": "execute_result"
    }
   ],
   "source": [
    "(define (good-enough? guess x)\n",
    "    (< (/ (abs (- (square guess) x)) guess) ε))\n",
    "\n",
    "(assert approx (sqrt-iter 1.0 4) 2)\n",
    "(assert approx (sqrt-iter 1.0 9) 3)"
   ]
  },
  {
   "cell_type": "markdown",
   "id": "choice-gardening",
   "metadata": {},
   "source": [
    "**Exercise 1.8.**  Newton's method for cube roots is based on the fact that if $y$ is an approximation to the cube root of $x$, then a better approximation is given by the value \n",
    "\n",
    "$$\n",
    "\\frac{x / y^2 + 2y}{3}\n",
    "$$\n",
    "\n",
    "Use this formula to implement a cube-root procedure analogous to the square-root procedure. (In section 1.3.4 we will see how to implement Newton's method in general as an abstraction of these square-root and cube-root procedures.) "
   ]
  },
  {
   "cell_type": "code",
   "execution_count": 14,
   "id": "positive-command",
   "metadata": {},
   "outputs": [
    {
     "data": {
      "text/plain": [
       "ok"
      ]
     },
     "execution_count": 14,
     "metadata": {},
     "output_type": "execute_result"
    }
   ],
   "source": [
    "(define (cube x) (* x x x))\n",
    "\n",
    "(define (good-enough? guess x)\n",
    "    (< (/ (abs (- (cube guess) x)) guess) ε))\n",
    "\n",
    "(define (improve guess x)\n",
    "    (/ (+ (/ x (square guess)) (* 2 guess)) 3))\n",
    "\n",
    "(define (cube-root x)\n",
    "  (define (iter guess x)\n",
    "    (if (good-enough? guess x)\n",
    "        guess\n",
    "        (iter (improve guess x) x)))\n",
    "  (iter 1.0 x))\n",
    "\n",
    "(assert approx (cube-root 27) 3)\n",
    "(assert approx (cube-root (cube 18)) 18)"
   ]
  },
  {
   "cell_type": "code",
   "execution_count": 15,
   "id": "judicial-february",
   "metadata": {},
   "outputs": [
    {
     "name": "stdout",
     "output_type": "stream",
     "text": [
      "Time: 1.018855333328247 seconds.\n",
      "\n"
     ]
    },
    {
     "data": {
      "text/plain": [
       "610"
      ]
     },
     "execution_count": 15,
     "metadata": {},
     "output_type": "execute_result"
    }
   ],
   "source": [
    "%%time\n",
    "\n",
    ";; Naive Fibonacci sequence implementation with exponential O(ϕ^n) time and O(n) space usage.\n",
    "(define (fib n)\n",
    "  (cond ((= n 0) 0)\n",
    "        ((= n 1) 1)\n",
    "        (else (+ (fib (- n 1))\n",
    "                 (fib (- n 2))))))\n",
    "\n",
    "(fib 15)"
   ]
  },
  {
   "cell_type": "code",
   "execution_count": 16,
   "id": "sustainable-thousand",
   "metadata": {},
   "outputs": [
    {
     "name": "stdout",
     "output_type": "stream",
     "text": [
      "Time: 0.018756389617919922 seconds.\n",
      "\n"
     ]
    },
    {
     "data": {
      "text/plain": [
       "610"
      ]
     },
     "execution_count": 16,
     "metadata": {},
     "output_type": "execute_result"
    }
   ],
   "source": [
    "%%time\n",
    "\n",
    "(define (fib-iter a b count)\n",
    "  (if (= count 0)\n",
    "      b\n",
    "      (fib-iter (+ a b) a (- count 1))))\n",
    "\n",
    ";; Iterative Fibonacci sequence implementation with linear O(n) time and O(1) space usage.\n",
    "(define (fib n)\n",
    "  (fib-iter 1 0 n))\n",
    "\n",
    "(fib 15)"
   ]
  },
  {
   "cell_type": "markdown",
   "id": "solar-bridges",
   "metadata": {},
   "source": [
    "**Exercise 1.11.**  A function $f$ is defined by the rule that $f(n) = n$ if $n<3$ and $f(n) = f(n - 1) + 2f(n - 2) + 3f(n - 3)$ if $n> 3$. Write a procedure that computes $f$ by means of a recursive process. Write a procedure that computes $f$ by means of an iterative process. "
   ]
  },
  {
   "cell_type": "code",
   "execution_count": 17,
   "id": "respective-tower",
   "metadata": {},
   "outputs": [
    {
     "data": {
      "text/plain": [
       "ok"
      ]
     },
     "execution_count": 17,
     "metadata": {},
     "output_type": "execute_result"
    }
   ],
   "source": [
    "(define (wsum fn1 fn2 fn3)\n",
    "  (+ fn1 (* 2 fn2) (* 3 fn3)))\n",
    "\n",
    "(define (f n)\n",
    "  (if (< n 3) n\n",
    "      (wsum (f (- n 1)) (f (- n 2)) (f (- n 3)))))\n",
    "\n",
    "(assert = (f 1) 1)\n",
    "(assert = (f 2) 2)\n",
    "(assert = (f 3) 4)\n",
    "(assert = (f 4) 11)\n",
    "(assert = (f 5) 25)"
   ]
  },
  {
   "cell_type": "code",
   "execution_count": 18,
   "id": "varied-document",
   "metadata": {},
   "outputs": [
    {
     "name": "stdout",
     "output_type": "stream",
     "text": [
      "Time: 2.8630692958831787 seconds.\n",
      "\n"
     ]
    },
    {
     "data": {
      "text/plain": [
       "142717"
      ]
     },
     "execution_count": 18,
     "metadata": {},
     "output_type": "execute_result"
    }
   ],
   "source": [
    "%%time\n",
    "(f 15)"
   ]
  },
  {
   "cell_type": "code",
   "execution_count": 19,
   "id": "fitting-embassy",
   "metadata": {},
   "outputs": [
    {
     "data": {
      "text/plain": [
       "ok"
      ]
     },
     "execution_count": 19,
     "metadata": {},
     "output_type": "execute_result"
    }
   ],
   "source": [
    "(define (f n)\n",
    "  (define (recur i fn1 fn2 fn3)\n",
    "    (cond\n",
    "     ((> i n) fn1)\n",
    "     ((< i 3) (recur (+ i 1) i fn1 fn2))\n",
    "     (else    (recur (+ i 1) (wsum fn1 fn2 fn3) fn1 fn2))))\n",
    "  (recur 1 0 0 0))\n",
    "\n",
    "(assert = (f 1) 1)\n",
    "(assert = (f 2) 2)\n",
    "(assert = (f 3) 4)\n",
    "(assert = (f 4) 11)\n",
    "(assert = (f 5) 25)"
   ]
  },
  {
   "cell_type": "code",
   "execution_count": 20,
   "id": "dedicated-collector",
   "metadata": {},
   "outputs": [
    {
     "name": "stdout",
     "output_type": "stream",
     "text": [
      "Time: 0.012685298919677734 seconds.\n",
      "\n"
     ]
    },
    {
     "data": {
      "text/plain": [
       "142717"
      ]
     },
     "execution_count": 20,
     "metadata": {},
     "output_type": "execute_result"
    }
   ],
   "source": [
    "%%time\n",
    "(f 15)"
   ]
  },
  {
   "cell_type": "markdown",
   "id": "breeding-ghost",
   "metadata": {},
   "source": [
    "**Exercise 1.12.**  The following pattern of numbers is called Pascal's triangle.\n",
    "\n",
    "```\n",
    "    1\n",
    "   1 1\n",
    "  1 2 1\n",
    " 1 3 3 1\n",
    "1 4 6 4 1\n",
    "```\n",
    "\n",
    "The numbers at the edge of the triangle are all 1, and each number inside the triangle is the sum of the two numbers above it. Write a procedure that computes elements of Pascal's triangle by means of a recursive process. "
   ]
  },
  {
   "cell_type": "code",
   "execution_count": 21,
   "id": "racial-bahrain",
   "metadata": {},
   "outputs": [
    {
     "data": {
      "text/plain": [
       "ok"
      ]
     },
     "execution_count": 21,
     "metadata": {},
     "output_type": "execute_result"
    }
   ],
   "source": [
    ";; 0 1 0\n",
    ";; 0 1 1 0\n",
    ";; 0 1 2 1 0\n",
    ";; 0 1 3 3 1 0\n",
    ";; 0 1 2 6 4 1 0\n",
    "\n",
    "(define (pascal-tri r c)\n",
    "  (cond\n",
    "   ((or (< c 1) (> c r)) 0)\n",
    "   ((= r 1) 1)\n",
    "   (else (+\n",
    "          (pascal-tri (- r 1) (- c 1))\n",
    "          (pascal-tri (- r 1) c)))))\n",
    "\n",
    "(assert = (pascal-tri 1 1) 1)\n",
    "(assert = (pascal-tri 2 1) 1)\n",
    "(assert = (pascal-tri 2 2) 1)\n",
    "(assert = (pascal-tri 2 3) 0)\n",
    "(assert = (pascal-tri 5 3) 6)\n",
    "(assert = (pascal-tri 5 4) 4)"
   ]
  },
  {
   "cell_type": "code",
   "execution_count": 22,
   "id": "pacific-resident",
   "metadata": {},
   "outputs": [],
   "source": [
    ";; 1.2.4  Exponentiation\n",
    "\n",
    "(define (expt b n)\n",
    "  (expt-iter b n 1))\n",
    "\n",
    "(define (expt-iter b counter product)\n",
    "  (if (= counter 0)\n",
    "      product\n",
    "      (expt-iter b\n",
    "                (- counter 1)\n",
    "                (* b product)))) "
   ]
  },
  {
   "cell_type": "markdown",
   "id": "present-speaker",
   "metadata": {},
   "source": [
    "This method works fine for exponents that are powers of 2. We can also take advantage of successive squaring in computing exponentials in general if we use the rule\n",
    "\n",
    "$$\n",
    "b^n = \\begin{cases}\n",
    "(b^{n/2})^2        & \\text{when } n \\text{ is even} \\\\\n",
    "b \\cdot (b^{n -1}) & \\text{when } n \\text{ is odd} \n",
    "\\end{cases}\n",
    "$$\n",
    "\n",
    " We can express this method as a procedure:"
   ]
  },
  {
   "cell_type": "code",
   "execution_count": 23,
   "id": "engaging-turtle",
   "metadata": {},
   "outputs": [],
   "source": [
    "(define (fast-expt b n)\n",
    "  (cond ((= n 0) 1)\n",
    "        ((even? n) (square (fast-expt b (/ n 2))))\n",
    "        (else (* b (fast-expt b (- n 1))))))\n",
    "\n",
    "(define (even? n)\n",
    "  (= (remainder n 2) 0))"
   ]
  },
  {
   "cell_type": "code",
   "execution_count": 24,
   "id": "bottom-granny",
   "metadata": {},
   "outputs": [
    {
     "name": "stdout",
     "output_type": "stream",
     "text": [
      "Time: 0.2945683002471924 seconds.\n",
      "\n"
     ]
    },
    {
     "data": {
      "text/plain": [
       "ok"
      ]
     },
     "execution_count": 24,
     "metadata": {},
     "output_type": "execute_result"
    }
   ],
   "source": [
    "%%time\n",
    "(assert = (fast-expt 45 541) (expt 45 541))"
   ]
  },
  {
   "cell_type": "markdown",
   "id": "familiar-monkey",
   "metadata": {},
   "source": [
    "**Exercise 1.16.**  Design a procedure that evolves an iterative exponentiation process that uses successive squaring and uses a logarithmic number of steps, as does fast-expt. (Hint: Using the observation that $(b^{n/2})^2 = (b^2)^{n/2}$, keep, along with the exponent $n$ and the base $b$, an additional state variable $a$, and define the state transformation in such a way that the product $ab^n$ is unchanged from state to state. At the beginning of the process $a$ is taken to be $1$, and the answer is given by the value of $a$ at the end of the process. In general, the technique of defining an invariant quantity that remains unchanged from state to state is a powerful way to think about the design of iterative algorithms.) "
   ]
  },
  {
   "cell_type": "code",
   "execution_count": 25,
   "id": "portable-compression",
   "metadata": {},
   "outputs": [
    {
     "data": {
      "text/plain": [
       "ok"
      ]
     },
     "execution_count": 25,
     "metadata": {},
     "output_type": "execute_result"
    }
   ],
   "source": [
    ";; a * b^n = a * (b^(n/2))^2\n",
    ";; b^(n+1) = b * (b^(n/2))^2\n",
    "\n",
    "(define (iter-expt b n a)\n",
    "  (cond\n",
    "   ((= n 0) a)\n",
    "   ((even? n) (iter-expt (square b) (/ n 2) a))\n",
    "   (else      (iter-expt b (- n 1) (* a b)))))\n",
    "\n",
    "(assert = (iter-expt 7 1 1) 7)\n",
    "(assert = (iter-expt 2 2 1) 4)\n",
    "(assert = (iter-expt 5 7 1) (int (expt 5 7)))\n",
    "(assert = (iter-expt 5 10 1) (int (expt 5 10)))"
   ]
  },
  {
   "cell_type": "code",
   "execution_count": 26,
   "id": "senior-trail",
   "metadata": {},
   "outputs": [
    {
     "name": "stdout",
     "output_type": "stream",
     "text": [
      "Time: 0.2617988586425781 seconds.\n",
      "\n"
     ]
    },
    {
     "data": {
      "text/plain": [
       "ok"
      ]
     },
     "execution_count": 26,
     "metadata": {},
     "output_type": "execute_result"
    }
   ],
   "source": [
    "%%time\n",
    "(assert = (iter-expt 45 541 1) (expt 45 541))"
   ]
  },
  {
   "cell_type": "markdown",
   "id": "amino-fashion",
   "metadata": {},
   "source": [
    "**Exercise 1.17.**  The exponentiation algorithms in this section are based on performing exponentiation by means of repeated multiplication. In a similar way, one can perform integer multiplication by means of repeated addition. The following multiplication procedure (in which it is assumed that our language can only add, not multiply) is analogous to the `expt` procedure:\n",
    "\n",
    "```scheme\n",
    "(define (* a b)\n",
    "  (if (= b 0)\n",
    "      0\n",
    "      (+ a (* a (- b 1)))))\n",
    "```\n",
    "\n",
    "This algorithm takes a number of steps that is linear in $b$. Now suppose we include, together with addition, operations `double`, which doubles an integer, and `halve`, which divides an (even) integer by 2. Using these, design a multiplication procedure analogous to `fast-expt` that uses a logarithmic number of steps. "
   ]
  },
  {
   "cell_type": "code",
   "execution_count": 27,
   "id": "extensive-rally",
   "metadata": {},
   "outputs": [],
   "source": [
    "(define (add* a b)\n",
    "  (if (= b 0)\n",
    "      0\n",
    "      (+ a (add* a (- b 1)))))"
   ]
  },
  {
   "cell_type": "code",
   "execution_count": 28,
   "id": "productive-delaware",
   "metadata": {},
   "outputs": [
    {
     "name": "stdout",
     "output_type": "stream",
     "text": [
      "Time: 2.6817572116851807 seconds.\n",
      "\n"
     ]
    },
    {
     "data": {
      "text/plain": [
       "ok"
      ]
     },
     "execution_count": 28,
     "metadata": {},
     "output_type": "execute_result"
    }
   ],
   "source": [
    "%%time\n",
    "(assert = (add* 532 157) (add* 157 532))\n",
    "(assert = (add* 1532 3157) (add* 3157 1532))"
   ]
  },
  {
   "cell_type": "code",
   "execution_count": 29,
   "id": "electric-simpson",
   "metadata": {},
   "outputs": [
    {
     "data": {
      "text/plain": [
       "ok"
      ]
     },
     "execution_count": 29,
     "metadata": {},
     "output_type": "execute_result"
    }
   ],
   "source": [
    "(define (double x) (+ x x))\n",
    "(define (halve x) (/ x 2))\n",
    "\n",
    "(define (fast* a b)\n",
    "  (cond\n",
    "   ((= b 1) a)\n",
    "   ((even? b) (fast* (double a) (halve b)))\n",
    "   (else (+ a (fast* a (- b 1))))))\n",
    "\n",
    "(assert = (fast* 1 2) (* 1 2))\n",
    "(assert = (fast* 2 2) (* 2 2))\n",
    "(assert = (fast* 5 17) (* 5 17))\n",
    "(assert = (fast* 3 21) (* 3 21))"
   ]
  },
  {
   "cell_type": "code",
   "execution_count": 30,
   "id": "constant-tulsa",
   "metadata": {},
   "outputs": [
    {
     "name": "stdout",
     "output_type": "stream",
     "text": [
      "Time: 0.052290916442871094 seconds.\n",
      "\n"
     ]
    },
    {
     "data": {
      "text/plain": [
       "ok"
      ]
     },
     "execution_count": 30,
     "metadata": {},
     "output_type": "execute_result"
    }
   ],
   "source": [
    "%%time\n",
    "(assert = (fast* 532 157) (fast* 157 532))\n",
    "(assert = (fast* 1532 3157) (fast* 3157 1532))"
   ]
  },
  {
   "cell_type": "markdown",
   "id": "flying-panama",
   "metadata": {},
   "source": [
    "**Exercise 1.18.**  Using the results of exercises 1.16 and 1.17, devise a procedure that generates an iterative process for multiplying two integers in terms of adding, doubling, and halving and uses a logarithmic number of steps."
   ]
  },
  {
   "cell_type": "code",
   "execution_count": 31,
   "id": "ultimate-being",
   "metadata": {},
   "outputs": [
    {
     "data": {
      "text/plain": [
       "ok"
      ]
     },
     "execution_count": 31,
     "metadata": {},
     "output_type": "execute_result"
    }
   ],
   "source": [
    "(define (fast* a b c)\n",
    "  (cond\n",
    "   ((= b 0) c)\n",
    "   ((even? b) (fast* (double a) (halve b) c))\n",
    "   (else      (fast* a (- b 1) (+ a c)))))\n",
    "\n",
    "(assert = (fast* 1 2 0) (* 1 2))\n",
    "(assert = (fast* 2 2 0) (* 2 2))\n",
    "(assert = (fast* 5 17 0) (* 5 17))\n",
    "(assert = (fast* 3 21 0) (* 3 21))"
   ]
  },
  {
   "cell_type": "markdown",
   "id": "former-mississippi",
   "metadata": {},
   "source": [
    "**Exercise 1.19.**   There is a clever algorithm for computing the Fibonacci numbers in a logarithmic number of steps. Recall the transformation of the state variables $a$ and $b$ in the `fib-iter` process of section 1.2.2: $a \\leftarrow a + b$ and $b \\leftarrow a$. Call this transformation $T$, and observe that applying $T$ over and over again n times, starting with $1$ and $0$, produces the pair $Fib(n + 1)$ and $Fib(n)$. In other words, the Fibonacci numbers are produced by applying $T^n$, the $n$-th power of the transformation $T$, starting with the pair $(1,0)$. Now consider $T$ to be the special case of $p = 0$ and $q = 1$ in a family of transformations $T_{pq}$, where $T_{pq}$ transforms the pair $(a,b)$ according to $a \\leftarrow bq + aq + ap$ and $b \\leftarrow bp + aq$. Show that if we apply such a transformation $T_{pq}$ twice, the effect is the same as using a single transformation $T_{p'q'}$ of the same form, and compute $p'$ and $q'$ in terms of $p$ and $q$. This gives us an explicit way to square these transformations, and thus we can compute $T^n$ using successive squaring, as in the `fast-expt` procedure. "
   ]
  },
  {
   "cell_type": "code",
   "execution_count": 32,
   "id": "signal-savings",
   "metadata": {},
   "outputs": [
    {
     "data": {
      "text/plain": [
       "ok"
      ]
     },
     "execution_count": 32,
     "metadata": {},
     "output_type": "execute_result"
    }
   ],
   "source": [
    "(define (fib n)\n",
    "  (fib-iter 1 0 0 1 n))\n",
    "\n",
    "(define (fib-iter a b p q count)\n",
    "  (cond ((= count 0) b)\n",
    "        ((even? count)\n",
    "         (fib-iter a\n",
    "                   b\n",
    "                   (+ (* p p) (* q q))\n",
    "                   (+ (* 2 q p) (* q q))\n",
    "                   (/ count 2)))\n",
    "        (else (fib-iter (+ (* b q) (* a q) (* a p))\n",
    "                        (+ (* b p) (* a q))\n",
    "                        p\n",
    "                        q\n",
    "                        (- count 1)))))\n",
    "\n",
    "(assert = (fib 0) 0)\n",
    "(assert = (fib 1) 1)\n",
    "(assert = (fib 2) 1)\n",
    "(assert = (fib 3) 2)\n",
    "(assert = (fib 4) 3)\n",
    "(assert = (fib 5) 5)\n",
    "(assert = (fib 6) 8)"
   ]
  },
  {
   "cell_type": "code",
   "execution_count": 33,
   "id": "municipal-shock",
   "metadata": {},
   "outputs": [],
   "source": [
    ";; 1.2.5  Greatest Common Divisors\n",
    "\n",
    "(define (gcd a b)\n",
    "  (if (= b 0)\n",
    "      a\n",
    "      (gcd b (remainder a b))))\n",
    "\n",
    "(define (smallest-divisor n)\n",
    "  (find-divisor n 2))\n",
    "\n",
    "(define (find-divisor n test-divisor)\n",
    "  (cond ((> (square test-divisor) n) n)\n",
    "        ((divides? test-divisor n) test-divisor)\n",
    "        (else (find-divisor n (+ test-divisor 1)))))\n",
    "\n",
    "(define (divides? a b)\n",
    "  (= (remainder b a) 0))\n",
    "\n",
    "(define (prime? n)\n",
    "  (= n (smallest-divisor n)))"
   ]
  },
  {
   "cell_type": "markdown",
   "id": "infrared-internship",
   "metadata": {},
   "source": [
    "**Exercise 1.21.**  Use the smallest-divisor procedure to find the smallest divisor of each of the following numbers: 199, 1999, 19999. "
   ]
  },
  {
   "cell_type": "code",
   "execution_count": 34,
   "id": "stainless-surfing",
   "metadata": {},
   "outputs": [
    {
     "name": "stdout",
     "output_type": "stream",
     "text": [
      "Time: 0.06247401237487793 seconds.\n",
      "\n"
     ]
    },
    {
     "data": {
      "text/plain": [
       "7"
      ]
     },
     "execution_count": 34,
     "metadata": {},
     "output_type": "execute_result"
    }
   ],
   "source": [
    "%%time\n",
    "(smallest-divisor 199)\n",
    "(smallest-divisor 1999)\n",
    "(smallest-divisor 19999)"
   ]
  },
  {
   "cell_type": "markdown",
   "id": "lightweight-front",
   "metadata": {},
   "source": [
    "**Exercise 1.23.**  The `smallest-divisor` procedure shown at the start of this section does lots of needless testing: After it checks to see if the number is divisible by 2 there is no point in checking to see if it is divisible by any larger even numbers. This suggests that the values used for `test-divisor` should not be 2, 3, 4, 5, 6, ..., but rather 2, 3, 5, 7, 9, .... To implement this change, define a procedure next that returns 3 if its input is equal to 2 and otherwise returns its input plus 2. Modify the `smallest-divisor` procedure to use `(next test-divisor)` instead of `(+ test-divisor 1)`. With `timed-prime-test` incorporating this modified version of `smallest-divisor`, run the test for each of the 12 primes found in exercise 1.22. Since this modification halves the number of test steps, you should expect it to run about twice as fast. Is this expectation confirmed? If not, what is the observed ratio of the speeds of the two algorithms, and how do you explain the fact that it is different from 2? "
   ]
  },
  {
   "cell_type": "code",
   "execution_count": 35,
   "id": "quality-freedom",
   "metadata": {},
   "outputs": [
    {
     "data": {
      "text/plain": [
       "ok"
      ]
     },
     "execution_count": 35,
     "metadata": {},
     "output_type": "execute_result"
    }
   ],
   "source": [
    "(define (next test-divisor)\n",
    "  (if (< test-divisor 3)\n",
    "      (+ test-divisor 1)\n",
    "      (+ test-divisor 2)))\n",
    "\n",
    "(assert = (next 1) 2)\n",
    "(assert = (next 2) 3)\n",
    "(assert = (next 3) 5)\n",
    "(assert = (next 5) 7)\n",
    "\n",
    "(define (find-divisor n test-divisor)\n",
    "  (cond ((> (square test-divisor) n) n)\n",
    "        ((divides? test-divisor n) test-divisor)\n",
    "        (else (find-divisor n (next test-divisor)))))\n",
    "\n",
    "(assert = (smallest-divisor 1) 1)\n",
    "(assert = (smallest-divisor 2) 2)\n",
    "(assert = (smallest-divisor 4) 2)\n",
    "(assert = (smallest-divisor 19999) 7)"
   ]
  },
  {
   "cell_type": "code",
   "execution_count": 36,
   "id": "narrow-calibration",
   "metadata": {},
   "outputs": [
    {
     "name": "stdout",
     "output_type": "stream",
     "text": [
      "Time: 0.03593564033508301 seconds.\n",
      "\n"
     ]
    },
    {
     "data": {
      "text/plain": [
       "7"
      ]
     },
     "execution_count": 36,
     "metadata": {},
     "output_type": "execute_result"
    }
   ],
   "source": [
    "%%time\n",
    "(smallest-divisor 199)\n",
    "(smallest-divisor 1999)\n",
    "(smallest-divisor 19999)"
   ]
  },
  {
   "cell_type": "code",
   "execution_count": 37,
   "id": "textile-thinking",
   "metadata": {},
   "outputs": [
    {
     "name": "stdout",
     "output_type": "stream",
     "text": [
      "0.24998750000000042\n",
      "0.249999875000001\n"
     ]
    }
   ],
   "source": [
    ";; 1.3.1  Procedures as Arguments\n",
    "\n",
    "(define (sum term a next b)\n",
    "  (if (> a b)\n",
    "      0\n",
    "      (+ (term a)\n",
    "         (sum term (next a) next b))))\n",
    "\n",
    "(define (integral f a b dx)\n",
    "  (define (add-dx x) (+ x dx))\n",
    "  (* (sum f (+ a (/ dx 2.0)) add-dx b)\n",
    "     dx))\n",
    "\n",
    "(print (integral cube 0 1 0.01))\n",
    "(print (integral cube 0 1 0.001))\n",
    "\n",
    ";;  (The exact value of the integral of cube between 0 and 1 is 1/4.)"
   ]
  },
  {
   "cell_type": "markdown",
   "id": "introductory-mercury",
   "metadata": {},
   "source": [
    "**Exercise 1.29.**  Simpson's Rule is a more accurate method of numerical integration than the method illustrated above. Using Simpson's Rule, the integral of a function $f$ between $a$ and $b$ is approximated as \n",
    "\n",
    "$$\n",
    "\\frac{h}{3} \\big[ y_0 + 4y_1 + 2y_2 + 4y_3 + 2y_4 + \\dots + 2y_{n-2} + 4y_{n-1} + y_n \\big]\n",
    "$$\n",
    "\n",
    "where $h = (b - a)/n$, for some even integer $n$, and $y_k = f(a + kh)$. (Increasing $n$ increases the accuracy of the approximation.) Define a procedure that takes as arguments $f$, $a$, $b$, and $n$ and returns the value of the integral, computed using Simpson's Rule. Use your procedure to integrate cube between $0$ and $1$ (with $n = 100$ and $n = 1000$), and compare the results to those of the integral procedure shown above. "
   ]
  },
  {
   "cell_type": "code",
   "execution_count": 38,
   "id": "vietnamese-proportion",
   "metadata": {},
   "outputs": [
    {
     "name": "stdout",
     "output_type": "stream",
     "text": [
      "0.25000000000000006\n",
      "0.25000000000000006\n"
     ]
    }
   ],
   "source": [
    "(define (simpsons-rule f a b n)\n",
    "  (define h (/ (- b a) n))\n",
    "  (define (dx k) (+ a (* k h)))\n",
    "  (define (iter i acc)\n",
    "    (if (>= (dx i) b)\n",
    "        acc\n",
    "        (iter\n",
    "         (+ i 1)\n",
    "         (+ acc\n",
    "            (* (if (even? i) 2 4)\n",
    "               (f (dx i)))))))\n",
    "  (* (/ h 3)\n",
    "     (+ (f a) (iter 1 0.0) (f b))))\n",
    "\n",
    "(print (simpsons-rule cube 0.0 1.0 100))\n",
    "(print (simpsons-rule cube 0.0 1.0 1000))"
   ]
  },
  {
   "cell_type": "code",
   "execution_count": 39,
   "id": "reasonable-adoption",
   "metadata": {},
   "outputs": [
    {
     "name": "stdout",
     "output_type": "stream",
     "text": [
      "0.25000000000000044\n",
      "0.25000000000000083\n"
     ]
    }
   ],
   "source": [
    ";; https://codology.net/post/sicp-solution-exercise-1-29/\n",
    ";; assuming n is even\n",
    "(define (simpsons-rule f a b n)\n",
    "  (define h (/ (- b a) n))\n",
    "  (define (add-2h x) (+ x h h))\n",
    "  (* (+ (f a)\n",
    "        (* 2 (sum f a       add-2h b))\n",
    "        (* 4 (sum f (+ a h) add-2h b))\n",
    "        (f b))\n",
    "     (/ h 3)))\n",
    "\n",
    "(print (simpsons-rule cube 0.0 1.0 100))\n",
    "(print (simpsons-rule cube 0.0 1.0 1000))"
   ]
  },
  {
   "cell_type": "markdown",
   "id": "departmental-enhancement",
   "metadata": {},
   "source": [
    "**Exercise 1.30.**  The `sum` procedure above generates a linear recursion. The procedure can be rewritten so that the `sum` is performed iteratively. "
   ]
  },
  {
   "cell_type": "code",
   "execution_count": 40,
   "id": "ready-directory",
   "metadata": {},
   "outputs": [
    {
     "data": {
      "text/plain": [
       "ok"
      ]
     },
     "execution_count": 40,
     "metadata": {},
     "output_type": "execute_result"
    }
   ],
   "source": [
    "(define (sum term a next b)\n",
    "  (define (iter a result)\n",
    "    (if (> a b)\n",
    "        result\n",
    "        (iter\n",
    "         (next a)\n",
    "         (+ result (term a)))))\n",
    "  (iter a 0.0))\n",
    "\n",
    "(define (identity x) x)\n",
    "(define (inc x) (+ x 1))\n",
    "\n",
    "(assert = (sum identity 1 inc 10) 55)\n",
    "(assert = (sum square 1 inc 10) 385)"
   ]
  },
  {
   "cell_type": "markdown",
   "id": "coastal-private",
   "metadata": {},
   "source": [
    "**Exercise 1.31.**  \n",
    " a.  The sum procedure is only the simplest of a vast number of similar abstractions that can be captured as higher-order procedures. Write an analogous procedure called `product` that returns the product of the values of a function at points over a given range. Show how to define factorial in terms of product. Also use product to compute approximations to using the formula\n",
    "\n",
    "$$\n",
    "\\frac{\\pi}{4} = \\frac{2 \\cdot 4 \\cdot 4 \\cdot 6 \\cdot 6 \\cdot 8 \\cdot \\dots}{3 \\cdot 3 \\cdot 5 \\cdot 5 \\cdot 7 \\cdot 7 \\cdot \\dots}\n",
    "$$\n",
    "\n",
    " b.  If your `product` procedure generates a recursive process, write one that generates an iterative process. If it generates an iterative process, write one that generates a recursive process. "
   ]
  },
  {
   "cell_type": "code",
   "execution_count": 41,
   "id": "deadly-sally",
   "metadata": {},
   "outputs": [
    {
     "data": {
      "text/plain": [
       "ok"
      ]
     },
     "execution_count": 41,
     "metadata": {},
     "output_type": "execute_result"
    }
   ],
   "source": [
    "(define (product term a next b)\n",
    "  (define (iter a)\n",
    "    (if (> a b)\n",
    "        1.0\n",
    "         (* (term a)\n",
    "            (iter (next a)))))\n",
    "  (iter a))\n",
    "\n",
    "(assert = (product identity 1 inc 5) 120)\n",
    "(assert = (product square 1 inc 5) 14400)"
   ]
  },
  {
   "cell_type": "code",
   "execution_count": 42,
   "id": "satisfactory-perspective",
   "metadata": {},
   "outputs": [
    {
     "data": {
      "text/plain": [
       "ok"
      ]
     },
     "execution_count": 42,
     "metadata": {},
     "output_type": "execute_result"
    }
   ],
   "source": [
    "(define (product term a next b)\n",
    "  (define (iter a result)\n",
    "    (if (> a b)\n",
    "        result\n",
    "        (iter\n",
    "         (next a)\n",
    "         (* result (term a)))))\n",
    "  (iter a 1.0))\n",
    "\n",
    "(assert = (product identity 1 inc 5) 120)\n",
    "(assert = (product square 1 inc 5) 14400)"
   ]
  },
  {
   "cell_type": "code",
   "execution_count": 43,
   "id": "bizarre-smoke",
   "metadata": {},
   "outputs": [
    {
     "data": {
      "text/plain": [
       "ok"
      ]
     },
     "execution_count": 43,
     "metadata": {},
     "output_type": "execute_result"
    }
   ],
   "source": [
    "(define (factorial n)\n",
    "  (product identity 1 inc n))\n",
    "\n",
    "(assert = (factorial 5) 120)"
   ]
  },
  {
   "cell_type": "code",
   "execution_count": 44,
   "id": "molecular-optics",
   "metadata": {},
   "outputs": [
    {
     "data": {
      "text/plain": [
       "ok"
      ]
     },
     "execution_count": 44,
     "metadata": {},
     "output_type": "execute_result"
    }
   ],
   "source": [
    ";; https://en.wikipedia.org/wiki/Wallis_product\n",
    "\n",
    "(define (wallis-product n)\n",
    "  (define (f n) \n",
    "    (define 2n (* 2 n))\n",
    "    (* (/ 2n (- 2n 1))\n",
    "       (/ 2n (+ 2n 1))))\n",
    "  (/ (product f 1.0 inc n) 2))\n",
    "\n",
    "(assert approx (wallis-product 100) (/ π 4))"
   ]
  },
  {
   "cell_type": "markdown",
   "id": "affiliated-broadcasting",
   "metadata": {},
   "source": [
    "**Exercise 1.32.**  a. Show that `sum` and `product` (exercise 1.31) are both special cases of a still more general notion called `accumulate` that combines a collection of terms, using some general accumulation function:\n",
    "\n",
    "```scheme\n",
    "(accumulate combiner null-value term a next b)\n",
    "```\n",
    "\n",
    "`Accumulate` takes as arguments the same term and range specifications as `sum` and `product`, together with a combiner procedure (of two arguments) that specifies how the current term is to be combined with the accumulation of the preceding terms and a null-value that specifies what base value to use when the terms run out. Write accumulate and show how sum and product can both be defined as simple calls to accumulate.\n",
    "\n",
    "b. If your `accumulate` procedure generates a recursive process, write one that generates an iterative process. If it generates an iterative process, write one that generates a recursive process."
   ]
  },
  {
   "cell_type": "code",
   "execution_count": 45,
   "id": "reliable-celebrity",
   "metadata": {},
   "outputs": [
    {
     "data": {
      "text/plain": [
       "ok"
      ]
     },
     "execution_count": 45,
     "metadata": {},
     "output_type": "execute_result"
    }
   ],
   "source": [
    "(define (accumulate combiner null-value term a next b)\n",
    "  (define (iter a result)\n",
    "    (if (> a b)\n",
    "        result\n",
    "        (iter\n",
    "         (next a)\n",
    "         (combiner result (term a)))))\n",
    "  (iter a null-value))\n",
    "\n",
    "(assert = (accumulate + 0 identity 1 inc 5) (sum identity 1 inc 5))\n",
    "(assert = (accumulate * 1 identity 1 inc 5) (product identity 1 inc 5))\n",
    "(assert = (accumulate + 0 square 1 inc 5) (sum square 1 inc 5))\n",
    "(assert = (accumulate * 1 square 1 inc 5) (product square 1 inc 5))"
   ]
  },
  {
   "cell_type": "markdown",
   "id": "massive-spice",
   "metadata": {},
   "source": [
    "**Exercise 1.33.**  You can obtain an even more general version of accumulate (exercise 1.32) by introducing the notion of a filter on the terms to be combined. That is, combine only those terms derived from values in the range that satisfy a specified condition. The resulting `filtered-accumulate` abstraction takes the same arguments as `accumulate`, together with an additional predicate of one argument that specifies the filter. Write `filtered-accumulate` as a procedure. Show how to express the following using `filtered-accumulate`:\n",
    "\n",
    "a. the sum of the squares of the prime numbers in the interval $a$ to $b$ (assuming that you have a `prime?` predicate already written)\n",
    "\n",
    "b. the product of all the positive integers less than n that are relatively prime to n (i.e., all positive integers $i < n$ such that $\\mathrm{GCD}(i,n) = 1$). "
   ]
  },
  {
   "cell_type": "code",
   "execution_count": 46,
   "id": "dominican-oxygen",
   "metadata": {},
   "outputs": [
    {
     "data": {
      "text/plain": [
       "ok"
      ]
     },
     "execution_count": 46,
     "metadata": {},
     "output_type": "execute_result"
    }
   ],
   "source": [
    "(define (filtered-accumulate accept-rule combiner null-value term a next b)\n",
    "  (define (iter a result)\n",
    "    (cond\n",
    "     ((> a b) result)\n",
    "     ((accept-rule a)\n",
    "      (iter\n",
    "       (next a)\n",
    "       (combiner result (term a))))\n",
    "     (else\n",
    "      (iter (next a) result))))\n",
    "  (iter a null-value))\n",
    "\n",
    "(assert = (filtered-accumulate even? + 0 identity 1 inc 10) 30)\n",
    "(assert = (filtered-accumulate even? + 0 square 1 inc 10) 220)\n",
    "(assert = (filtered-accumulate prime? + 0 square 2 inc 20) 1027)"
   ]
  },
  {
   "cell_type": "code",
   "execution_count": 47,
   "id": "involved-bernard",
   "metadata": {},
   "outputs": [
    {
     "data": {
      "text/plain": [
       "189"
      ]
     },
     "execution_count": 47,
     "metadata": {},
     "output_type": "execute_result"
    }
   ],
   "source": [
    "(define (product-of-relative-primes n)\n",
    "  (define (relative-prime? i)\n",
    "    (= (gcd i n) 1))\n",
    "  (filtered-accumulate relative-prime? * 1 identity 1 inc n))\n",
    "\n",
    "(product-of-relative-primes 10)"
   ]
  },
  {
   "cell_type": "code",
   "execution_count": 48,
   "id": "exposed-radius",
   "metadata": {},
   "outputs": [
    {
     "name": "stdout",
     "output_type": "stream",
     "text": [
      "3.14111328125\n",
      "1.89306640625\n"
     ]
    }
   ],
   "source": [
    ";; 1.3.3  Procedures as General Methods\n",
    "\n",
    "(define (positive? x) (>= 0 x))\n",
    "(define (negative? x) (not (positive? x)))\n",
    "\n",
    "(define (search f neg-point pos-point)\n",
    "  (let ((midpoint (average neg-point pos-point)))\n",
    "    (if (close-enough? neg-point pos-point)\n",
    "        midpoint\n",
    "        (let ((test-value (f midpoint)))\n",
    "          (cond ((positive? test-value)\n",
    "                 (search f neg-point midpoint))\n",
    "                ((negative? test-value)\n",
    "                 (search f midpoint pos-point))\n",
    "                (else midpoint))))))\n",
    "\n",
    "(define (close-enough? x y)\n",
    "  (< (abs (- x y)) 0.001))\n",
    "\n",
    "(define (half-interval-method f a b)\n",
    "  (let ((a-value (f a))\n",
    "        (b-value (f b)))\n",
    "    (cond ((and (negative? a-value) (positive? b-value))\n",
    "           (search f a b))\n",
    "          ((and (negative? b-value) (positive? a-value))\n",
    "           (search f b a))\n",
    "          (else\n",
    "           (error \"Values are not of opposite sign\" a b)))))\n",
    "\n",
    "(print (half-interval-method sin 2.0 4.0))\n",
    "(print (half-interval-method (lambda (x) (- (* x x x) (* 2 x) 3)) 1.0 2.0))"
   ]
  },
  {
   "cell_type": "code",
   "execution_count": 49,
   "id": "fallen-impression",
   "metadata": {},
   "outputs": [
    {
     "name": "stdout",
     "output_type": "stream",
     "text": [
      "0.7390822985224024\n",
      "1.2587315962971173\n"
     ]
    }
   ],
   "source": [
    ";; needed to rename `try` to `iter` since Calypso Scheme did not allow for re-defining `try`\n",
    "\n",
    "(define tolerance 0.00001)\n",
    "\n",
    "(define (fixed-point f first-guess)\n",
    "  (define (close-enough? x y)\n",
    "    (< (abs (- x y)) tolerance))\n",
    "  (define (iter guess)\n",
    "    (let ((next (f guess)))\n",
    "      (if (close-enough? guess next)\n",
    "          next\n",
    "          (iter next))))\n",
    "  (iter first-guess))\n",
    "\n",
    "(print (fixed-point cos 1.0))\n",
    "(print (fixed-point (lambda (y) (+ (sin y) (cos y))) 1.0))"
   ]
  },
  {
   "cell_type": "markdown",
   "id": "saved-truth",
   "metadata": {},
   "source": [
    "**Exercise 1.35.**  Show that the golden ratio $\\phi$ (section 1.2.2) is a fixed point of the transformation $x \\to 1 + 1/x$, and use this fact to compute by means of the `fixed-point` procedure. "
   ]
  },
  {
   "cell_type": "code",
   "execution_count": 50,
   "id": "built-scope",
   "metadata": {},
   "outputs": [
    {
     "data": {
      "text/plain": [
       "1.6180327868852458"
      ]
     },
     "execution_count": 50,
     "metadata": {},
     "output_type": "execute_result"
    }
   ],
   "source": [
    "(fixed-point (lambda (x) (+ 1 (/ 1 x))) 1.0)"
   ]
  },
  {
   "cell_type": "markdown",
   "id": "falling-parliament",
   "metadata": {},
   "source": [
    "**Exercise 1.37.**\n",
    "\n",
    "$$\n",
    "\\frac{N_1}{D_1 + \\frac{N_2}{D_2 + \\frac{N_3}{D_3 + \\dots}}} \\approx\n",
    "\\frac{N_1}{D_1 + \\frac{N_2}{\\ddots + \\frac{N_k}{D_k}}}\n",
    "$$\n",
    "\n",
    "[...] Suppose that $n$ and $d$ are procedures of one argument (the term index i) that return the $N_i$ and $D_i$ of the terms of the continued fraction. Define a procedure `cont-frac` such that evaluating `(cont-frac n d k)` computes the value of the $k$-term finite continued fraction. Check your procedure by approximating $1/\\phi$ using\n",
    "\n",
    "```scheme\n",
    "(cont-frac (lambda (i) 1.0)\n",
    "           (lambda (i) 1.0)\n",
    "           k)\n",
    "```\n",
    "\n",
    "for successive values of $k$. How large must you make $k$ in order to get an approximation that is accurate to 4 decimal places?\n",
    "\n",
    "b. If your cont-frac procedure generates a recursive process, write one that generates an iterative process. If it generates an iterative process, write one that generates a recursive process. "
   ]
  },
  {
   "cell_type": "code",
   "execution_count": 51,
   "id": "lyric-chaos",
   "metadata": {},
   "outputs": [
    {
     "data": {
      "text/plain": [
       "ok"
      ]
     },
     "execution_count": 51,
     "metadata": {},
     "output_type": "execute_result"
    }
   ],
   "source": [
    "(define (cont-frac N D k)\n",
    "  (define (iter i)\n",
    "    (if (> i k)\n",
    "        (/ (N i) (D i))\n",
    "        (/ (N i)\n",
    "           (+ (D i)\n",
    "              (iter (+ i 1))))))\n",
    "   (iter 1))\n",
    "\n",
    "(define ϕ 1.6180)\n",
    "\n",
    "(assert\n",
    " (lambda (x y) (< (abs (- x y)) .0001))\n",
    " (cont-frac (lambda (i) 1.0) (lambda (i) 1.0) 10)\n",
    " (/ 1 ϕ))"
   ]
  },
  {
   "cell_type": "code",
   "execution_count": 52,
   "id": "defensive-progress",
   "metadata": {},
   "outputs": [
    {
     "data": {
      "text/plain": [
       "ok"
      ]
     },
     "execution_count": 52,
     "metadata": {},
     "output_type": "execute_result"
    }
   ],
   "source": [
    "(define (cont-frac N D k)\n",
    "  (define (iter i acc)\n",
    "    (if (= i 0)\n",
    "        acc\n",
    "        (iter\n",
    "         (- i 1)\n",
    "         (/ (N i)\n",
    "            (+ (D i) acc)))))\n",
    "  (iter\n",
    "   (- k 1)\n",
    "   (/ (N k) (D k))))\n",
    "\n",
    "(assert\n",
    " (lambda (x y) (< (abs (- x y)) .0001))\n",
    " (cont-frac (lambda (i) 1.0) (lambda (i) 1.0) 10)\n",
    " (/ 1 ϕ))"
   ]
  },
  {
   "cell_type": "markdown",
   "id": "hindu-longer",
   "metadata": {},
   "source": [
    "**Exercise 1.38.**  In 1737, the Swiss mathematician Leonhard Euler published a memoir *De Fractionibus Continuis*, which included a continued fraction expansion for $e - 2$, where $e$ is the base of the natural logarithms. In this fraction, the $N_i$ are all $1$, and the $D_i$ are successively $1, 2, 1, 1, 4, 1, 1, 6, 1, 1, 8, \\dots$. Write a program that uses your `cont-frac` procedure from exercise 1.37 to approximate $e$, based on Euler's expansion. "
   ]
  },
  {
   "cell_type": "code",
   "execution_count": 53,
   "id": "superior-cross",
   "metadata": {},
   "outputs": [
    {
     "data": {
      "text/plain": [
       "ok"
      ]
     },
     "execution_count": 53,
     "metadata": {},
     "output_type": "execute_result"
    }
   ],
   "source": [
    "(define (Di i)\n",
    "  (if (= 2 (modulo i 3))\n",
    "      (* 2(/ (+ i 1) 3))\n",
    "      1))\n",
    "\n",
    "(assert = (Di 1) 1)\n",
    "(assert = (Di 2) 2)\n",
    "(assert = (Di 3) 1)\n",
    "(assert = (Di 4) 1)\n",
    "(assert = (Di 5) 4)\n",
    "(assert = (Di 8) 6)"
   ]
  },
  {
   "cell_type": "code",
   "execution_count": 54,
   "id": "congressional-truth",
   "metadata": {},
   "outputs": [
    {
     "data": {
      "text/plain": [
       "ok"
      ]
     },
     "execution_count": 54,
     "metadata": {},
     "output_type": "execute_result"
    }
   ],
   "source": [
    "(define (euler-exp n)\n",
    "  (cont-frac (lambda (i) 1.0) Di n))\n",
    "\n",
    "(define e 2.71828)\n",
    "\n",
    "(assert approx (euler-exp 5) (- e 2))"
   ]
  },
  {
   "cell_type": "markdown",
   "id": "romance-chain",
   "metadata": {},
   "source": [
    "**Exercise 1.39.**  A continued fraction representation of the tangent function was published in 1770 by the German mathematician J.H. Lambert:\n",
    "\n",
    "$$\n",
    "\\operatorname{tan} r = \\frac{r}{1 - \\frac{r^2}{2 - \\frac{r^2}{3 - \\dots}}}\n",
    "$$\n",
    "\n",
    "where $x$ is in radians. Define a procedure `(tan-cf x k)` that computes an approximation to the tangent function based on Lambert's formula. $K$ specifies the number of terms to compute, as in exercise 1.37. "
   ]
  },
  {
   "cell_type": "code",
   "execution_count": 55,
   "id": "julian-sequence",
   "metadata": {},
   "outputs": [
    {
     "data": {
      "text/plain": [
       "ok"
      ]
     },
     "execution_count": 55,
     "metadata": {},
     "output_type": "execute_result"
    }
   ],
   "source": [
    "(define (tan-cf x k)\n",
    "  (cont-frac (lambda (i) (if (= i 1) x (* x x -1)))\n",
    "             (lambda (i) (- (* 2.0 i) 1))\n",
    "             k))\n",
    "\n",
    "(assert approx (tan-cf 1 10) 1.5574)\n",
    "(assert approx (tan-cf 2 10) -2.1850)"
   ]
  },
  {
   "cell_type": "code",
   "execution_count": 56,
   "id": "built-feature",
   "metadata": {},
   "outputs": [
    {
     "data": {
      "text/plain": [
       "75.00014999664018"
      ]
     },
     "execution_count": 56,
     "metadata": {},
     "output_type": "execute_result"
    }
   ],
   "source": [
    ";; 1.3.4  Procedures as Returned Values - Newton's method\n",
    "\n",
    "(define (deriv g)\n",
    "  (lambda (x)\n",
    "    (/ (- (g (+ x dx)) (g x))\n",
    "       dx)))\n",
    "\n",
    "(define dx 0.00001)\n",
    "\n",
    "((deriv cube) 5)"
   ]
  },
  {
   "cell_type": "code",
   "execution_count": 57,
   "id": "respiratory-hazard",
   "metadata": {},
   "outputs": [],
   "source": [
    "(define (newton-transform g)\n",
    "  (lambda (x)\n",
    "    (- x (/ (g x) ((deriv g) x)))))\n",
    "\n",
    "(define (newtons-method g guess)\n",
    "  (fixed-point (newton-transform g) guess))"
   ]
  },
  {
   "cell_type": "markdown",
   "id": "supposed-avatar",
   "metadata": {},
   "source": [
    "**Exercise 1.40.**  Define a procedure cubic that can be used together with the newtons-method procedure in expressions of the form\n",
    "\n",
    "```scheme\n",
    "(newtons-method (cubic a b c) 1)\n",
    "```\n",
    "\n",
    "to approximate zeros of the cubic $x^3 + ax^2 + bx + c$. "
   ]
  },
  {
   "cell_type": "code",
   "execution_count": 58,
   "id": "complex-occupation",
   "metadata": {},
   "outputs": [
    {
     "data": {
      "text/plain": [
       "-0.9999999999999863"
      ]
     },
     "execution_count": 58,
     "metadata": {},
     "output_type": "execute_result"
    }
   ],
   "source": [
    "(define (cubic a b c)\n",
    "  (lambda (x) (+\n",
    "               (expt x 3)\n",
    "               (* a (expt x 2))\n",
    "               (* b x)\n",
    "               c)))\n",
    "\n",
    "(newtons-method (cubic 0 0 1) 1)"
   ]
  },
  {
   "cell_type": "markdown",
   "id": "silent-parcel",
   "metadata": {},
   "source": [
    "**Exercise 1.41.**  Define a procedure `double` that takes a procedure of one argument as argument and returns a procedure that applies the original procedure twice. For example, if `inc` is a procedure that adds 1 to its argument, then `(double inc)` should be a procedure that adds 2. What value is returned by\n",
    "\n",
    "```scheme\n",
    "(((double (double double)) inc) 5)\n",
    "```"
   ]
  },
  {
   "cell_type": "code",
   "execution_count": 59,
   "id": "stunning-thumbnail",
   "metadata": {},
   "outputs": [
    {
     "data": {
      "text/plain": [
       "21"
      ]
     },
     "execution_count": 59,
     "metadata": {},
     "output_type": "execute_result"
    }
   ],
   "source": [
    "(define (double f)\n",
    "  (lambda (x) (f (f x))))\n",
    "\n",
    "(assert = ((double inc) 1) 3)\n",
    "\n",
    "(((double (double double)) inc) 5)"
   ]
  },
  {
   "cell_type": "markdown",
   "id": "hungarian-stamp",
   "metadata": {},
   "source": [
    "**Exercise 1.42.**  Let $f$ and $g$ be two one-argument functions. The composition $f$ after $g$ is defined to be the function $x \\to f(g(x))$. Define a procedure compose that implements composition."
   ]
  },
  {
   "cell_type": "code",
   "execution_count": 60,
   "id": "metropolitan-samuel",
   "metadata": {},
   "outputs": [
    {
     "data": {
      "text/plain": [
       "ok"
      ]
     },
     "execution_count": 60,
     "metadata": {},
     "output_type": "execute_result"
    }
   ],
   "source": [
    "(define (compose f g)\n",
    "  (lambda (x) (f (g x))))\n",
    "\n",
    "(assert = ((compose square inc) 6) 49)"
   ]
  },
  {
   "cell_type": "markdown",
   "id": "rocky-protocol",
   "metadata": {},
   "source": [
    "**Exercise 1.43.**  If $f$ is a numerical function and $n$ is a positive integer, then we can form the $n$th repeated application of $f$, which is defined to be the function whose value at $x$ is $f(f(...(f(x))...))$. For example, if $f$ is the function $x \\to x + 1$, then the nth repeated application of $f$ is the function $x \\to x + n$. If $f$ is the operation of squaring a number, then the nth repeated application of $f$ is the function that raises its argument to the 2nth power. Write a procedure that takes as inputs a procedure that computes $f$ and a positive integer $n$ and returns the procedure that computes the nth repeated application of $f$. "
   ]
  },
  {
   "cell_type": "code",
   "execution_count": 61,
   "id": "convinced-literature",
   "metadata": {},
   "outputs": [
    {
     "data": {
      "text/plain": [
       "ok"
      ]
     },
     "execution_count": 61,
     "metadata": {},
     "output_type": "execute_result"
    }
   ],
   "source": [
    "(define (repeated f n)\n",
    "  (lambda (x)\n",
    "    (define (iter i)\n",
    "      (if (> i n)\n",
    "          x\n",
    "          (f (iter (+ i 1)))))\n",
    "    (iter 1)))\n",
    "\n",
    "(assert = ((repeated square 2) 5) 625)"
   ]
  },
  {
   "cell_type": "markdown",
   "id": "recorded-devices",
   "metadata": {},
   "source": [
    "**Exercise 1.44.**  The idea of smoothing a function is an important concept in signal processing. If $f$ is a function and $dx$ is some small number, then the smoothed version of $f$ is the function whose value at a point $x$ is the average of $f(x - dx)$, $f(x)$, and $f(x + dx)$. Write a procedure `smooth` that takes as input a procedure that computes $f$ and returns a procedure that computes the smoothed $f$. It is sometimes valuable to repeatedly smooth a function (that is, smooth the smoothed function, and so on) to obtained the $n$-fold smoothed function. Show how to generate the $n$-fold smoothed function of any given function using `smooth` and `repeated` from exercise 1.43."
   ]
  },
  {
   "cell_type": "code",
   "execution_count": 62,
   "id": "failing-tribune",
   "metadata": {},
   "outputs": [],
   "source": [
    "(define (smooth f)\n",
    "  (lambda (x)\n",
    "    (/ (+\n",
    "        (f (- x ε))\n",
    "        (f x)\n",
    "        (f (+ x ε)))\n",
    "       3)))\n",
    "\n",
    "(define (smooth-n-fold f n)\n",
    "  ((repeated smooth n) f))"
   ]
  },
  {
   "cell_type": "markdown",
   "id": "liable-uncle",
   "metadata": {},
   "source": [
    "**Exercise 1.45.**  We saw in section 1.3.3 that attempting to compute square roots by naively finding a fixed point of $y \\to x/y$ does not converge, and that this can be fixed by average damping. The same method works for finding cube roots as fixed points of the average-damped $y \\to x/y^2$. Unfortunately, the process does not work for fourth roots -- a single average damp is not enough to make a fixed-point search for $y \\to x/y^3$ converge. On the other hand, if we average damp twice (i.e., use the average damp of the average damp of $y \\to x/y^3$) the fixed-point search does converge. Do some experiments to determine how many average damps are required to compute nth roots as a fixed-point search based upon repeated average damping of $y \\to x/y^{n-1}$. Use this to implement a simple procedure for computing $n$th roots using `fixed-point`, `average-damp`, and the `repeated` procedure of exercise 1.43. Assume that any arithmetic operations you need are available as primitives."
   ]
  },
  {
   "cell_type": "code",
   "execution_count": null,
   "id": "vulnerable-technology",
   "metadata": {},
   "outputs": [],
   "source": []
  },
  {
   "cell_type": "markdown",
   "id": "consistent-antigua",
   "metadata": {},
   "source": [
    "**Exercise 1.46.**  Several of the numerical methods described in this chapter are instances of an extremely general computational strategy known as iterative improvement. Iterative improvement says that, to compute something, we start with an initial guess for the answer, test if the guess is good enough, and otherwise improve the guess and continue the process using the improved guess as the new guess. Write a procedure `iterative-improve` that takes two procedures as arguments: a method for telling whether a guess is good enough and a method for improving a guess. `Iterative-improve` should return as its value a procedure that takes a guess as argument and keeps improving the guess until it is good enough. Rewrite the `sqrt` procedure of section 1.1.7 and the fixed-point procedure of section 1.3.3 in terms of `iterative-improve`. "
   ]
  },
  {
   "cell_type": "code",
   "execution_count": null,
   "id": "spare-gentleman",
   "metadata": {},
   "outputs": [],
   "source": []
  }
 ],
 "metadata": {
  "kernelspec": {
   "display_name": "Calysto Scheme 3",
   "language": "scheme",
   "name": "calysto_scheme"
  },
  "language_info": {
   "codemirror_mode": {
    "name": "scheme"
   },
   "mimetype": "text/x-scheme",
   "name": "scheme",
   "pygments_lexer": "scheme"
  }
 },
 "nbformat": 4,
 "nbformat_minor": 5
}
