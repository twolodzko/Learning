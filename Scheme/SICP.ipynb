{
 "cells": [
  {
   "cell_type": "code",
   "execution_count": 3,
   "id": "confident-timothy",
   "metadata": {},
   "outputs": [
    {
     "data": {
      "text/plain": [
       "3.14"
      ]
     },
     "execution_count": 3,
     "metadata": {},
     "output_type": "execute_result"
    }
   ],
   "source": [
    "(define π 3.14)\n",
    "\n",
    "π"
   ]
  },
  {
   "cell_type": "code",
   "execution_count": 9,
   "id": "boxed-exhaust",
   "metadata": {},
   "outputs": [
    {
     "data": {
      "text/plain": [
       "ok"
      ]
     },
     "execution_count": 9,
     "metadata": {},
     "output_type": "execute_result"
    }
   ],
   "source": [
    "(define (square x) (* x x))\n",
    "\n",
    "(assert = (square 2) 4)\n",
    "(assert = (square 3) 9)"
   ]
  },
  {
   "cell_type": "code",
   "execution_count": 11,
   "id": "mental-active",
   "metadata": {},
   "outputs": [
    {
     "data": {
      "text/plain": [
       "ok"
      ]
     },
     "execution_count": 11,
     "metadata": {},
     "output_type": "execute_result"
    }
   ],
   "source": [
    "(define (circle-area r)\n",
    "  (* π (square r)))\n",
    "\n",
    "(assert = (circle-area 1) π)\n",
    "(assert = (circle-area 2) 12.56)"
   ]
  },
  {
   "cell_type": "code",
   "execution_count": null,
   "id": "radio-cuisine",
   "metadata": {},
   "outputs": [],
   "source": []
  }
 ],
 "metadata": {
  "kernelspec": {
   "display_name": "Calysto Scheme 3",
   "language": "scheme",
   "name": "calysto_scheme"
  },
  "language_info": {
   "codemirror_mode": {
    "name": "scheme"
   },
   "mimetype": "text/x-scheme",
   "name": "scheme",
   "pygments_lexer": "scheme"
  }
 },
 "nbformat": 4,
 "nbformat_minor": 5
}
