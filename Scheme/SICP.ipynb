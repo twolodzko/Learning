{
 "cells": [
  {
   "cell_type": "markdown",
   "id": "least-samuel",
   "metadata": {},
   "source": [
    "# Notes and excercises from *Structure and Interpretation of Computer Programs*\n",
    "\n",
    "The book is [available online on MIT's site](https://mitpress.mit.edu/sites/default/files/sicp/full-text/book/book.html), there are also [recorded lectures on MIT's OCW](https://www.youtube.com/playlist?list=PLE18841CABEA24090)."
   ]
  },
  {
   "cell_type": "markdown",
   "id": "compound-vertical",
   "metadata": {},
   "source": [
    "## 1. Building Abstractions with Procedures"
   ]
  },
  {
   "cell_type": "code",
   "execution_count": 1,
   "id": "silver-hungary",
   "metadata": {},
   "outputs": [
    {
     "data": {
      "text/plain": [
       "3.14"
      ]
     },
     "execution_count": 1,
     "metadata": {},
     "output_type": "execute_result"
    }
   ],
   "source": [
    "(define π 3.14)\n",
    "\n",
    "π"
   ]
  },
  {
   "cell_type": "code",
   "execution_count": 2,
   "id": "departmental-mystery",
   "metadata": {},
   "outputs": [
    {
     "data": {
      "text/plain": [
       "ok"
      ]
     },
     "execution_count": 2,
     "metadata": {},
     "output_type": "execute_result"
    }
   ],
   "source": [
    "(define (square x) (* x x))\n",
    "\n",
    "(assert = (square 2) 4)\n",
    "(assert = (square 3) 9)"
   ]
  },
  {
   "cell_type": "code",
   "execution_count": 3,
   "id": "advanced-library",
   "metadata": {},
   "outputs": [
    {
     "data": {
      "text/plain": [
       "ok"
      ]
     },
     "execution_count": 3,
     "metadata": {},
     "output_type": "execute_result"
    }
   ],
   "source": [
    "(define (circle-area r)\n",
    "  (* π (square r)))\n",
    "\n",
    "(assert = (circle-area 1) π)\n",
    "(assert = (circle-area 2) 12.56)"
   ]
  },
  {
   "cell_type": "code",
   "execution_count": 19,
   "id": "chief-sunrise",
   "metadata": {},
   "outputs": [
    {
     "data": {
      "text/plain": [
       "ok"
      ]
     },
     "execution_count": 19,
     "metadata": {},
     "output_type": "execute_result"
    }
   ],
   "source": [
    "(define ε 0.001)\n",
    "\n",
    "(define (approx x y)\n",
    "  (< (abs (- x y)) ε))\n",
    "\n",
    "(assert = (approx 1 1) #t)\n",
    "(assert = (approx 1.0000001 1) #t)"
   ]
  },
  {
   "cell_type": "code",
   "execution_count": 26,
   "id": "forbidden-expansion",
   "metadata": {},
   "outputs": [
    {
     "data": {
      "text/plain": [
       "ok"
      ]
     },
     "execution_count": 26,
     "metadata": {},
     "output_type": "execute_result"
    }
   ],
   "source": [
    "(define (sqrt-iter guess x)\n",
    "  (if (good-enough? guess x)\n",
    "      guess\n",
    "      (sqrt-iter (improve guess x)\n",
    "                 x)))\n",
    "\n",
    "(define (improve guess x)\n",
    "  (average guess (/ x guess)))\n",
    "\n",
    "(define (average x y)\n",
    "  (/ (+ x y) 2))\n",
    "\n",
    "(define (good-enough? guess x)\n",
    "  (approx (square guess) x))\n",
    "\n",
    "(define (sqrt x)\n",
    "  (sqrt-iter 1 x))\n",
    "\n",
    "(assert approx (sqrt 4) 2)\n",
    "(assert approx (sqrt 9) 3)"
   ]
  },
  {
   "cell_type": "markdown",
   "id": "brutal-genetics",
   "metadata": {},
   "source": [
    "**Exercise 1.6.**  Alyssa P. Hacker doesn't see why if needs to be provided as a special form. ``Why can't I just define it as an ordinary procedure in terms of `cond`?'' she asks. Alyssa's friend Eva Lu Ator claims this can indeed be done, and she defines a new version of `if`:"
   ]
  },
  {
   "cell_type": "code",
   "execution_count": 28,
   "id": "polar-reggae",
   "metadata": {},
   "outputs": [
    {
     "data": {
      "text/plain": [
       "ok"
      ]
     },
     "execution_count": 28,
     "metadata": {},
     "output_type": "execute_result"
    }
   ],
   "source": [
    "(define (new-if predicate then-clause else-clause)\n",
    "  (cond (predicate then-clause)\n",
    "        (else else-clause)))\n",
    "\n",
    "(assert = (new-if (= 2 3) 0 5) 5)\n",
    "(assert = (new-if (= 1 1) 0 5) 0)"
   ]
  },
  {
   "cell_type": "code",
   "execution_count": 35,
   "id": "incoming-blake",
   "metadata": {},
   "outputs": [],
   "source": [
    "(define (sqrt-iter-2 guess x)\n",
    "  (new-if (good-enough? guess x)\n",
    "          guess\n",
    "          (sqrt-iter-2 (improve guess x)\n",
    "                       x)))\n",
    "\n",
    ";; (sqrt-iter-2 1 2)"
   ]
  },
  {
   "cell_type": "markdown",
   "id": "apart-massage",
   "metadata": {},
   "source": [
    "**Exercise 1.7.**  The `good-enough?` test used in computing square roots will not be very effective for finding the square roots of very small numbers. Also, in real computers, arithmetic operations are almost always performed with limited precision. This makes our test inadequate for very large numbers. Explain these statements, with examples showing how the test fails for small and large numbers. An alternative strategy for implementing `good-enough?` is to watch how guess changes from one iteration to the next and to stop when the change is a very small fraction of the `guess`. Design a square-root procedure that uses this kind of end test. Does this work better for small and large numbers? "
   ]
  },
  {
   "cell_type": "code",
   "execution_count": null,
   "id": "comparable-prototype",
   "metadata": {},
   "outputs": [],
   "source": []
  }
 ],
 "metadata": {
  "kernelspec": {
   "display_name": "Calysto Scheme 3",
   "language": "scheme",
   "name": "calysto_scheme"
  },
  "language_info": {
   "codemirror_mode": {
    "name": "scheme"
   },
   "mimetype": "text/x-scheme",
   "name": "scheme",
   "pygments_lexer": "scheme"
  }
 },
 "nbformat": 4,
 "nbformat_minor": 5
}
