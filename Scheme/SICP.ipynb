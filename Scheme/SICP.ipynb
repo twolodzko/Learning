{
 "cells": [
  {
   "cell_type": "markdown",
   "id": "compound-sunglasses",
   "metadata": {},
   "source": [
    "# Notes and excercises from *Structure and Interpretation of Computer Programs*"
   ]
  },
  {
   "cell_type": "code",
   "execution_count": 1,
   "id": "premier-briefing",
   "metadata": {},
   "outputs": [
    {
     "data": {
      "text/plain": [
       "3.14"
      ]
     },
     "execution_count": 1,
     "metadata": {},
     "output_type": "execute_result"
    }
   ],
   "source": [
    "(define π 3.14)\n",
    "\n",
    "π"
   ]
  },
  {
   "cell_type": "code",
   "execution_count": 2,
   "id": "loving-opinion",
   "metadata": {},
   "outputs": [
    {
     "data": {
      "text/plain": [
       "ok"
      ]
     },
     "execution_count": 2,
     "metadata": {},
     "output_type": "execute_result"
    }
   ],
   "source": [
    "(define (square x) (* x x))\n",
    "\n",
    "(assert = (square 2) 4)\n",
    "(assert = (square 3) 9)"
   ]
  },
  {
   "cell_type": "code",
   "execution_count": 3,
   "id": "bearing-receptor",
   "metadata": {},
   "outputs": [
    {
     "data": {
      "text/plain": [
       "ok"
      ]
     },
     "execution_count": 3,
     "metadata": {},
     "output_type": "execute_result"
    }
   ],
   "source": [
    "(define (circle-area r)\n",
    "  (* π (square r)))\n",
    "\n",
    "(assert = (circle-area 1) π)\n",
    "(assert = (circle-area 2) 12.56)"
   ]
  },
  {
   "cell_type": "code",
   "execution_count": 19,
   "id": "disabled-sample",
   "metadata": {},
   "outputs": [
    {
     "data": {
      "text/plain": [
       "ok"
      ]
     },
     "execution_count": 19,
     "metadata": {},
     "output_type": "execute_result"
    }
   ],
   "source": [
    "(define ε 0.001)\n",
    "\n",
    "(define (approx x y)\n",
    "  (< (abs (- x y)) ε))\n",
    "\n",
    "(assert = (approx 1 1) #t)\n",
    "(assert = (approx 1.0000001 1) #t)"
   ]
  },
  {
   "cell_type": "code",
   "execution_count": 26,
   "id": "owned-savannah",
   "metadata": {},
   "outputs": [
    {
     "data": {
      "text/plain": [
       "ok"
      ]
     },
     "execution_count": 26,
     "metadata": {},
     "output_type": "execute_result"
    }
   ],
   "source": [
    "(define (sqrt-iter guess x)\n",
    "  (if (good-enough? guess x)\n",
    "      guess\n",
    "      (sqrt-iter (improve guess x)\n",
    "                 x)))\n",
    "\n",
    "(define (improve guess x)\n",
    "  (average guess (/ x guess)))\n",
    "\n",
    "(define (average x y)\n",
    "  (/ (+ x y) 2))\n",
    "\n",
    "(define (good-enough? guess x)\n",
    "  (approx (square guess) x))\n",
    "\n",
    "(define (sqrt x)\n",
    "  (sqrt-iter 1 x))\n",
    "\n",
    "(assert approx (sqrt 4) 2)\n",
    "(assert approx (sqrt 9) 3)"
   ]
  },
  {
   "cell_type": "markdown",
   "id": "weird-projector",
   "metadata": {},
   "source": [
    "## Excercise 1.4"
   ]
  },
  {
   "cell_type": "code",
   "execution_count": 28,
   "id": "cutting-picking",
   "metadata": {},
   "outputs": [
    {
     "data": {
      "text/plain": [
       "ok"
      ]
     },
     "execution_count": 28,
     "metadata": {},
     "output_type": "execute_result"
    }
   ],
   "source": [
    "(define (new-if predicate then-clause else-clause)\n",
    "  (cond (predicate then-clause)\n",
    "        (else else-clause)))\n",
    "\n",
    "(assert = (new-if (= 2 3) 0 5) 5)\n",
    "(assert = (new-if (= 1 1) 0 5) 0)"
   ]
  },
  {
   "cell_type": "code",
   "execution_count": 34,
   "id": "suited-bloom",
   "metadata": {},
   "outputs": [
    {
     "name": "stderr",
     "output_type": "stream",
     "text": [
      "\u001b[0;31m\n",
      "Traceback (most recent call last):\n",
      "  File \"In [34]\", line 7, col 1, in 'sqrt-iter-2'\n",
      "  File \"In [34]\", line 4, col 11, in 'sqrt-iter-2'\n",
      "  File \"In [34]\", line 4, col 11, in 'sqrt-iter-2'\n",
      "  File \"In [34]\", line 4, col 11, in 'sqrt-iter-2'\n",
      "  File \"In [34]\", line 4, col 11, in 'sqrt-iter-2'\n",
      "  File \"In [34]\", line 4, col 11, in 'sqrt-iter-2'\n",
      "  File \"In [34]\", line 4, col 11, in 'sqrt-iter-2'\n",
      "  File \"In [34]\", line 4, col 11, in 'sqrt-iter-2'\n",
      "  File \"In [34]\", line 4, col 11, in 'sqrt-iter-2'\n",
      "  File \"In [34]\", line 4, col 11, in 'sqrt-iter-2'\n",
      "  File \"In [34]\", line 4, col 11, in 'sqrt-iter-2'\n",
      "  File \"In [34]\", line 4, col 11, in 'sqrt-iter-2'\n",
      "  File \"In [34]\", line 4, col 11, in 'sqrt-iter-2'\n",
      "  File \"In [34]\", line 4, col 11, in 'sqrt-iter-2'\n",
      "  File \"In [34]\", line 4, col 11, in 'sqrt-iter-2'\n",
      "  File \"In [34]\", line 4, col 11, in 'sqrt-iter-2'\n",
      "  File \"In [34]\", line 4, col 11, in 'sqrt-iter-2'\n",
      "  File \"In [34]\", line 4, col 11, in 'sqrt-iter-2'\n",
      "  File \"In [34]\", line 4, col 11, in 'sqrt-iter-2'\n",
      "  File \"In [34]\", line 4, col 24, in 'improve'\n",
      "  File \"In [26]\", line 8, col 3, in 'average'\n",
      "  File \"In [26]\", line 11, col 6, in '+'\n",
      "KeyboardInterrupt: Keyboard interrupt\n",
      "\n",
      "\u001b[0m"
     ]
    }
   ],
   "source": [
    "(define (sqrt-iter-2 guess x)\n",
    "  (new-if (good-enough? guess x)\n",
    "          guess\n",
    "          (sqrt-iter-2 (improve guess x)\n",
    "                       x)))\n",
    "\n",
    "(sqrt-iter-2 1 2)"
   ]
  },
  {
   "cell_type": "code",
   "execution_count": null,
   "id": "palestinian-politics",
   "metadata": {},
   "outputs": [],
   "source": []
  }
 ],
 "metadata": {
  "kernelspec": {
   "display_name": "Calysto Scheme 3",
   "language": "scheme",
   "name": "calysto_scheme"
  },
  "language_info": {
   "codemirror_mode": {
    "name": "scheme"
   },
   "mimetype": "text/x-scheme",
   "name": "scheme",
   "pygments_lexer": "scheme"
  }
 },
 "nbformat": 4,
 "nbformat_minor": 5
}
