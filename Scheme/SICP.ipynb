{
 "cells": [
  {
   "cell_type": "markdown",
   "id": "juvenile-communication",
   "metadata": {},
   "source": [
    "# Notes and excercises from *Structure and Interpretation of Computer Programs*\n",
    "\n",
    "The book is [available online on MIT's site](https://mitpress.mit.edu/sites/default/files/sicp/full-text/book/book.html), there are also [recorded lectures on MIT's OCW](https://www.youtube.com/playlist?list=PLE18841CABEA24090)."
   ]
  },
  {
   "cell_type": "markdown",
   "id": "organized-strength",
   "metadata": {},
   "source": [
    "## 1. Building Abstractions with Procedures"
   ]
  },
  {
   "cell_type": "code",
   "execution_count": 1,
   "id": "engaged-privacy",
   "metadata": {},
   "outputs": [],
   "source": [
    ";; math functions missig from Calysto Scheme\n",
    "\n",
    "(import \"math\")\n",
    "\n",
    "(define sin math.sin)\n",
    "(define cos math.cos)\n",
    "(define tan math.tan)\n",
    "(define atan math.atan)\n",
    "(define log math.log)"
   ]
  },
  {
   "cell_type": "code",
   "execution_count": 2,
   "id": "known-dollar",
   "metadata": {},
   "outputs": [
    {
     "data": {
      "text/plain": [
       "ok"
      ]
     },
     "execution_count": 2,
     "metadata": {},
     "output_type": "execute_result"
    }
   ],
   "source": [
    "(define (square x) (* x x))\n",
    "\n",
    "(assert = (square 2) 4)\n",
    "(assert = (square 3) 9)"
   ]
  },
  {
   "cell_type": "code",
   "execution_count": 3,
   "id": "southwest-darkness",
   "metadata": {},
   "outputs": [
    {
     "data": {
      "text/plain": [
       "ok"
      ]
     },
     "execution_count": 3,
     "metadata": {},
     "output_type": "execute_result"
    }
   ],
   "source": [
    "(define π 3.14)\n",
    "\n",
    "(define (circle-area r)\n",
    "  (* π (square r)))\n",
    "\n",
    "(assert = (circle-area 1) π)\n",
    "(assert = (circle-area 2) 12.56)"
   ]
  },
  {
   "cell_type": "code",
   "execution_count": 4,
   "id": "wanted-emerald",
   "metadata": {},
   "outputs": [
    {
     "data": {
      "text/plain": [
       "ok"
      ]
     },
     "execution_count": 4,
     "metadata": {},
     "output_type": "execute_result"
    }
   ],
   "source": [
    "(define ε 0.01)\n",
    "\n",
    "(define (approx x y)\n",
    "  (< (abs (- x y)) ε))\n",
    "\n",
    "(assert = (approx 1 1) #t)\n",
    "(assert = (approx (+ 1 (/ ε 2)) 1) #t)\n",
    "(assert = (approx (- 1 (/ ε 2)) 1) #t)\n",
    "(assert = (approx 2 1) #f)\n",
    "(assert = (approx (+ 1 (* ε 1.1)) 1) #f)"
   ]
  },
  {
   "cell_type": "code",
   "execution_count": 5,
   "id": "postal-verse",
   "metadata": {},
   "outputs": [
    {
     "data": {
      "text/plain": [
       "ok"
      ]
     },
     "execution_count": 5,
     "metadata": {},
     "output_type": "execute_result"
    }
   ],
   "source": [
    "(define (sqrt-iter guess x)\n",
    "  (if (good-enough? guess x)\n",
    "      guess\n",
    "      (sqrt-iter (improve guess x)\n",
    "                 x)))\n",
    "\n",
    "(define (improve guess x)\n",
    "  (average guess (/ x guess)))\n",
    "\n",
    "(define (average x y)\n",
    "  (/ (+ x y) 2))\n",
    "\n",
    "(define (good-enough? guess x)\n",
    "  (< (abs (- (square guess) x)) ε))\n",
    "\n",
    "(define (sqrt x)\n",
    "  (sqrt-iter 1 x))\n",
    "\n",
    "(assert approx (sqrt 4) 2)\n",
    "(assert approx (sqrt 9) 3)"
   ]
  },
  {
   "cell_type": "code",
   "execution_count": 6,
   "id": "greek-psychology",
   "metadata": {},
   "outputs": [
    {
     "data": {
      "text/plain": [
       "ok"
      ]
     },
     "execution_count": 6,
     "metadata": {},
     "output_type": "execute_result"
    }
   ],
   "source": [
    "(define (good-enough? guess x)\n",
    "    (< (abs (- (square guess) x)) ε))\n",
    "\n",
    "(define (improve guess x)\n",
    "    (average guess (/ x guess)))\n",
    "\n",
    "(define (sqrt-iter guess x)\n",
    "  (if (good-enough? guess x)\n",
    "      guess\n",
    "      (sqrt-iter (improve guess x) x)))\n",
    "\n",
    "(assert approx (sqrt-iter 1 4) 2)\n",
    "(assert approx (sqrt-iter 1 9) 3)"
   ]
  },
  {
   "cell_type": "markdown",
   "id": "affiliated-chile",
   "metadata": {},
   "source": [
    "We would like to localize the subprocedures, hiding them inside `sqrt` so that `sqrt` could coexist with other successive approximations, each having its own private good-enough? procedure. [...]  Such nesting of definitions, called *block structure*, is basically the right solution to the simplest name-packaging problem.  [...] Since `x` is bound in the definition of sqrt, the procedures `good-enough?`, `improve`, and `sqrt-iter`, which are defined internally to sqrt, are in the scope of `x`. Thus, it is not necessary to pass x explicitly to each of these procedures. Instead, we allow `x` to be a free variable in the internal definitions, as shown below. Then `x` gets its value from the argument with which the enclosing procedure sqrt is called. This discipline is called *lexical scoping*."
   ]
  },
  {
   "cell_type": "code",
   "execution_count": 7,
   "id": "advanced-poverty",
   "metadata": {},
   "outputs": [
    {
     "data": {
      "text/plain": [
       "ok"
      ]
     },
     "execution_count": 7,
     "metadata": {},
     "output_type": "execute_result"
    }
   ],
   "source": [
    "(define (sqrt x)\n",
    "  (define (good-enough? guess)\n",
    "    (< (abs (- (square guess) x)) ε))\n",
    "  (define (improve guess)\n",
    "    (average guess (/ x guess)))\n",
    "  (define (sqrt-iter guess)\n",
    "    (if (good-enough? guess)\n",
    "        guess\n",
    "        (sqrt-iter (improve guess))))\n",
    "  (sqrt-iter 1.0))\n",
    "\n",
    "(assert approx (sqrt 4) 2)\n",
    "(assert approx (sqrt 9) 3)"
   ]
  },
  {
   "cell_type": "code",
   "execution_count": 8,
   "id": "consolidated-barrel",
   "metadata": {},
   "outputs": [
    {
     "data": {
      "text/plain": [
       "((3.1415) 3.14)"
      ]
     },
     "execution_count": 8,
     "metadata": {},
     "output_type": "execute_result"
    }
   ],
   "source": [
    ";; local scope\n",
    "\n",
    "(define (foo)\n",
    "  (define π 3.1415)\n",
    "  (list π))\n",
    "\n",
    "(list (foo) π)"
   ]
  },
  {
   "cell_type": "code",
   "execution_count": 9,
   "id": "narrative-assistant",
   "metadata": {},
   "outputs": [
    {
     "data": {
      "text/plain": [
       "10"
      ]
     },
     "execution_count": 9,
     "metadata": {},
     "output_type": "execute_result"
    }
   ],
   "source": [
    ";; we can replace the methods easily\n",
    "\n",
    "(define (bar x) (* 2 x))\n",
    "\n",
    "(define (foo x) (bar x))\n",
    "\n",
    "(foo 5)"
   ]
  },
  {
   "cell_type": "code",
   "execution_count": 10,
   "id": "harmful-upset",
   "metadata": {},
   "outputs": [
    {
     "data": {
      "text/plain": [
       "500"
      ]
     },
     "execution_count": 10,
     "metadata": {},
     "output_type": "execute_result"
    }
   ],
   "source": [
    "(define (bar x) (* 100 x))\n",
    "\n",
    "(foo 5)"
   ]
  },
  {
   "cell_type": "markdown",
   "id": "champion-sherman",
   "metadata": {},
   "source": [
    "**Exercise 1.6.**  Alyssa P. Hacker doesn't see why if needs to be provided as a special form. ``Why can't I just define it as an ordinary procedure in terms of `cond`?'' she asks. Alyssa's friend Eva Lu Ator claims this can indeed be done, and she defines a new version of `if`:"
   ]
  },
  {
   "cell_type": "code",
   "execution_count": 11,
   "id": "abstract-boxing",
   "metadata": {},
   "outputs": [
    {
     "data": {
      "text/plain": [
       "ok"
      ]
     },
     "execution_count": 11,
     "metadata": {},
     "output_type": "execute_result"
    }
   ],
   "source": [
    "(define (new-if predicate then-clause else-clause)\n",
    "  (cond (predicate then-clause)\n",
    "        (else else-clause)))\n",
    "\n",
    "(assert = (new-if (= 2 3) 0 5) 5)\n",
    "(assert = (new-if (= 1 1) 0 5) 0)"
   ]
  },
  {
   "cell_type": "code",
   "execution_count": 12,
   "id": "neither-helicopter",
   "metadata": {},
   "outputs": [],
   "source": [
    "(define (sqrt-iter-bad guess x)\n",
    "  (new-if (good-enough? guess x)\n",
    "          guess\n",
    "          (sqrt-iter-bad (improve guess x) x)))\n",
    "\n",
    ";; (sqrt-iter-2 1 2)"
   ]
  },
  {
   "cell_type": "markdown",
   "id": "governmental-leonard",
   "metadata": {},
   "source": [
    "**Exercise 1.7.**  The `good-enough?` test used in computing square roots will not be very effective for finding the square roots of very small numbers. Also, in real computers, arithmetic operations are almost always performed with limited precision. This makes our test inadequate for very large numbers. Explain these statements, with examples showing how the test fails for small and large numbers. An alternative strategy for implementing `good-enough?` is to watch how guess changes from one iteration to the next and to stop when the change is a very small fraction of the `guess`. Design a square-root procedure that uses this kind of end test. Does this work better for small and large numbers? "
   ]
  },
  {
   "cell_type": "code",
   "execution_count": 13,
   "id": "random-shadow",
   "metadata": {},
   "outputs": [
    {
     "data": {
      "text/plain": [
       "ok"
      ]
     },
     "execution_count": 13,
     "metadata": {},
     "output_type": "execute_result"
    }
   ],
   "source": [
    "(define (good-enough? guess x)\n",
    "    (< (/ (abs (- (square guess) x)) guess) ε))\n",
    "\n",
    "(assert approx (sqrt-iter 1.0 4) 2)\n",
    "(assert approx (sqrt-iter 1.0 9) 3)"
   ]
  },
  {
   "cell_type": "markdown",
   "id": "wireless-exploration",
   "metadata": {},
   "source": [
    "**Exercise 1.8.**  Newton's method for cube roots is based on the fact that if $y$ is an approximation to the cube root of $x$, then a better approximation is given by the value \n",
    "\n",
    "$$\n",
    "\\frac{x \\,/\\, y^2 + 2y}{3}\n",
    "$$\n",
    "\n",
    "Use this formula to implement a cube-root procedure analogous to the square-root procedure. (In section 1.3.4 we will see how to implement Newton's method in general as an abstraction of these square-root and cube-root procedures.) "
   ]
  },
  {
   "cell_type": "code",
   "execution_count": 14,
   "id": "owned-eating",
   "metadata": {},
   "outputs": [
    {
     "data": {
      "text/plain": [
       "ok"
      ]
     },
     "execution_count": 14,
     "metadata": {},
     "output_type": "execute_result"
    }
   ],
   "source": [
    "(define (cube x) (* x x x))\n",
    "\n",
    "(define (good-enough? guess x)\n",
    "    (< (/ (abs (- (cube guess) x)) guess) ε))\n",
    "\n",
    "(define (improve guess x)\n",
    "    (/ (+ (/ x (square guess)) (* 2 guess)) 3))\n",
    "\n",
    "(define (cube-root x)\n",
    "  (define (iter guess x)\n",
    "    (if (good-enough? guess x)\n",
    "        guess\n",
    "        (iter (improve guess x) x)))\n",
    "  (iter 1.0 x))\n",
    "\n",
    "(assert approx (cube-root 27) 3)\n",
    "(assert approx (cube-root (cube 18)) 18)"
   ]
  },
  {
   "cell_type": "code",
   "execution_count": 15,
   "id": "breathing-invite",
   "metadata": {},
   "outputs": [
    {
     "name": "stdout",
     "output_type": "stream",
     "text": [
      "Time: 0.8349974155426025 seconds.\n",
      "\n"
     ]
    },
    {
     "data": {
      "text/plain": [
       "610"
      ]
     },
     "execution_count": 15,
     "metadata": {},
     "output_type": "execute_result"
    }
   ],
   "source": [
    "%%time\n",
    "\n",
    ";; Naive Fibonacci sequence implementation with exponential O(ϕ^n) time and O(n) space usage.\n",
    "(define (fib n)\n",
    "  (cond ((= n 0) 0)\n",
    "        ((= n 1) 1)\n",
    "        (else (+ (fib (- n 1))\n",
    "                 (fib (- n 2))))))\n",
    "\n",
    "(fib 15)"
   ]
  },
  {
   "cell_type": "code",
   "execution_count": 16,
   "id": "extended-relative",
   "metadata": {},
   "outputs": [
    {
     "name": "stdout",
     "output_type": "stream",
     "text": [
      "Time: 0.030483245849609375 seconds.\n",
      "\n"
     ]
    },
    {
     "data": {
      "text/plain": [
       "610"
      ]
     },
     "execution_count": 16,
     "metadata": {},
     "output_type": "execute_result"
    }
   ],
   "source": [
    "%%time\n",
    "\n",
    "(define (fib-iter a b count)\n",
    "  (if (= count 0)\n",
    "      b\n",
    "      (fib-iter (+ a b) a (- count 1))))\n",
    "\n",
    ";; Iterative Fibonacci sequence implementation with linear O(n) time and O(1) space usage.\n",
    "(define (fib n)\n",
    "  (fib-iter 1 0 n))\n",
    "\n",
    "(fib 15)"
   ]
  },
  {
   "cell_type": "markdown",
   "id": "fallen-rubber",
   "metadata": {},
   "source": [
    "**Exercise 1.11.**  A function $f$ is defined by the rule that $f(n) = n$ if $n<3$ and $f(n) = f(n - 1) + 2f(n - 2) + 3f(n - 3)$ if $n> 3$. Write a procedure that computes $f$ by means of a recursive process. Write a procedure that computes $f$ by means of an iterative process. "
   ]
  },
  {
   "cell_type": "code",
   "execution_count": 17,
   "id": "acquired-anniversary",
   "metadata": {},
   "outputs": [
    {
     "data": {
      "text/plain": [
       "ok"
      ]
     },
     "execution_count": 17,
     "metadata": {},
     "output_type": "execute_result"
    }
   ],
   "source": [
    "(define (wsum fn1 fn2 fn3)\n",
    "  (+ fn1 (* 2 fn2) (* 3 fn3)))\n",
    "\n",
    "(define (f n)\n",
    "  (if (< n 3) n\n",
    "      (wsum (f (- n 1)) (f (- n 2)) (f (- n 3)))))\n",
    "\n",
    "(assert = (f 1) 1)\n",
    "(assert = (f 2) 2)\n",
    "(assert = (f 3) 4)\n",
    "(assert = (f 4) 11)\n",
    "(assert = (f 5) 25)"
   ]
  },
  {
   "cell_type": "code",
   "execution_count": 18,
   "id": "pleasant-candidate",
   "metadata": {},
   "outputs": [
    {
     "name": "stdout",
     "output_type": "stream",
     "text": [
      "Time: 2.7514564990997314 seconds.\n",
      "\n"
     ]
    },
    {
     "data": {
      "text/plain": [
       "142717"
      ]
     },
     "execution_count": 18,
     "metadata": {},
     "output_type": "execute_result"
    }
   ],
   "source": [
    "%%time\n",
    "(f 15)"
   ]
  },
  {
   "cell_type": "code",
   "execution_count": 19,
   "id": "centered-crest",
   "metadata": {},
   "outputs": [
    {
     "data": {
      "text/plain": [
       "ok"
      ]
     },
     "execution_count": 19,
     "metadata": {},
     "output_type": "execute_result"
    }
   ],
   "source": [
    "(define (f n)\n",
    "  (define (recur i fn1 fn2 fn3)\n",
    "    (cond\n",
    "     ((> i n) fn1)\n",
    "     ((< i 3) (recur (+ i 1) i fn1 fn2))\n",
    "     (else    (recur (+ i 1) (wsum fn1 fn2 fn3) fn1 fn2))))\n",
    "  (recur 1 0 0 0))\n",
    "\n",
    "(assert = (f 1) 1)\n",
    "(assert = (f 2) 2)\n",
    "(assert = (f 3) 4)\n",
    "(assert = (f 4) 11)\n",
    "(assert = (f 5) 25)"
   ]
  },
  {
   "cell_type": "code",
   "execution_count": 20,
   "id": "charitable-hudson",
   "metadata": {},
   "outputs": [
    {
     "name": "stdout",
     "output_type": "stream",
     "text": [
      "Time: 0.017197370529174805 seconds.\n",
      "\n"
     ]
    },
    {
     "data": {
      "text/plain": [
       "142717"
      ]
     },
     "execution_count": 20,
     "metadata": {},
     "output_type": "execute_result"
    }
   ],
   "source": [
    "%%time\n",
    "(f 15)"
   ]
  },
  {
   "cell_type": "markdown",
   "id": "listed-lottery",
   "metadata": {},
   "source": [
    "**Exercise 1.12.**  The following pattern of numbers is called Pascal's triangle.\n",
    "\n",
    "```\n",
    "    1\n",
    "   1 1\n",
    "  1 2 1\n",
    " 1 3 3 1\n",
    "1 4 6 4 1\n",
    "```\n",
    "\n",
    "The numbers at the edge of the triangle are all 1, and each number inside the triangle is the sum of the two numbers above it. Write a procedure that computes elements of Pascal's triangle by means of a recursive process. "
   ]
  },
  {
   "cell_type": "code",
   "execution_count": 21,
   "id": "opponent-retail",
   "metadata": {},
   "outputs": [
    {
     "data": {
      "text/plain": [
       "ok"
      ]
     },
     "execution_count": 21,
     "metadata": {},
     "output_type": "execute_result"
    }
   ],
   "source": [
    ";; 0 1 0\n",
    ";; 0 1 1 0\n",
    ";; 0 1 2 1 0\n",
    ";; 0 1 3 3 1 0\n",
    ";; 0 1 2 6 4 1 0\n",
    "\n",
    "(define (pascal-tri r c)\n",
    "  (cond\n",
    "   ((or (< c 1) (> c r)) 0)\n",
    "   ((= r 1) 1)\n",
    "   (else (+\n",
    "          (pascal-tri (- r 1) (- c 1))\n",
    "          (pascal-tri (- r 1) c)))))\n",
    "\n",
    "(assert = (pascal-tri 1 1) 1)\n",
    "(assert = (pascal-tri 2 1) 1)\n",
    "(assert = (pascal-tri 2 2) 1)\n",
    "(assert = (pascal-tri 2 3) 0)\n",
    "(assert = (pascal-tri 5 3) 6)\n",
    "(assert = (pascal-tri 5 4) 4)"
   ]
  },
  {
   "cell_type": "code",
   "execution_count": 22,
   "id": "engaged-spine",
   "metadata": {},
   "outputs": [],
   "source": [
    ";; 1.2.4  Exponentiation\n",
    "\n",
    "(define (expt b n)\n",
    "  (expt-iter b n 1))\n",
    "\n",
    "(define (expt-iter b counter product)\n",
    "  (if (= counter 0)\n",
    "      product\n",
    "      (expt-iter b\n",
    "                (- counter 1)\n",
    "                (* b product)))) "
   ]
  },
  {
   "cell_type": "markdown",
   "id": "sharing-cleaners",
   "metadata": {},
   "source": [
    "This method works fine for exponents that are powers of 2. We can also take advantage of successive squaring in computing exponentials in general if we use the rule\n",
    "\n",
    "$b^n = \\begin{cases}\n",
    "(b^{n/2})^2        & \\text{when } n \\text{ is even} \\\\\n",
    "b \\cdot (b^{n -1}) & \\text{when } n \\text{ is odd} \n",
    "\\end{cases}$\n",
    "\n",
    " We can express this method as a procedure:"
   ]
  },
  {
   "cell_type": "code",
   "execution_count": 23,
   "id": "optical-governor",
   "metadata": {},
   "outputs": [],
   "source": [
    "(define (fast-expt b n)\n",
    "  (cond ((= n 0) 1)\n",
    "        ((even? n) (square (fast-expt b (/ n 2))))\n",
    "        (else (* b (fast-expt b (- n 1))))))\n",
    "\n",
    "(define (even? n)\n",
    "  (= (remainder n 2) 0))"
   ]
  },
  {
   "cell_type": "code",
   "execution_count": 24,
   "id": "false-atlantic",
   "metadata": {},
   "outputs": [
    {
     "name": "stdout",
     "output_type": "stream",
     "text": [
      "Time: 0.2561500072479248 seconds.\n",
      "\n"
     ]
    },
    {
     "data": {
      "text/plain": [
       "ok"
      ]
     },
     "execution_count": 24,
     "metadata": {},
     "output_type": "execute_result"
    }
   ],
   "source": [
    "%%time\n",
    "(assert = (fast-expt 45 541) (expt 45 541))"
   ]
  },
  {
   "cell_type": "markdown",
   "id": "significant-silver",
   "metadata": {},
   "source": [
    "**Exercise 1.16.**  Design a procedure that evolves an iterative exponentiation process that uses successive squaring and uses a logarithmic number of steps, as does fast-expt. (Hint: Using the observation that $(b^{n/2})^2 = (b^2)^{n/2}$, keep, along with the exponent $n$ and the base $b$, an additional state variable $a$, and define the state transformation in such a way that the product $ab^n$ is unchanged from state to state. At the beginning of the process $a$ is taken to be $1$, and the answer is given by the value of $a$ at the end of the process. In general, the technique of defining an invariant quantity that remains unchanged from state to state is a powerful way to think about the design of iterative algorithms.) "
   ]
  },
  {
   "cell_type": "code",
   "execution_count": 25,
   "id": "coral-guard",
   "metadata": {},
   "outputs": [
    {
     "data": {
      "text/plain": [
       "ok"
      ]
     },
     "execution_count": 25,
     "metadata": {},
     "output_type": "execute_result"
    }
   ],
   "source": [
    ";; a * b^n = a * (b^(n/2))^2\n",
    ";; b^(n+1) = b * (b^(n/2))^2\n",
    "\n",
    "(define (iter-expt b n a)\n",
    "  (cond\n",
    "   ((= n 0) a)\n",
    "   ((even? n) (iter-expt (square b) (/ n 2) a))\n",
    "   (else      (iter-expt b (- n 1) (* a b)))))\n",
    "\n",
    "(assert = (iter-expt 7 1 1) 7)\n",
    "(assert = (iter-expt 2 2 1) 4)\n",
    "(assert = (iter-expt 5 7 1) (int (expt 5 7)))\n",
    "(assert = (iter-expt 5 10 1) (int (expt 5 10)))"
   ]
  },
  {
   "cell_type": "code",
   "execution_count": 26,
   "id": "atmospheric-button",
   "metadata": {},
   "outputs": [
    {
     "name": "stdout",
     "output_type": "stream",
     "text": [
      "Time: 0.24825191497802734 seconds.\n",
      "\n"
     ]
    },
    {
     "data": {
      "text/plain": [
       "ok"
      ]
     },
     "execution_count": 26,
     "metadata": {},
     "output_type": "execute_result"
    }
   ],
   "source": [
    "%%time\n",
    "(assert = (iter-expt 45 541 1) (expt 45 541))"
   ]
  },
  {
   "cell_type": "markdown",
   "id": "outside-python",
   "metadata": {},
   "source": [
    "**Exercise 1.17.**  The exponentiation algorithms in this section are based on performing exponentiation by means of repeated multiplication. In a similar way, one can perform integer multiplication by means of repeated addition. The following multiplication procedure (in which it is assumed that our language can only add, not multiply) is analogous to the `expt` procedure:\n",
    "\n",
    "```scheme\n",
    "(define (* a b)\n",
    "  (if (= b 0)\n",
    "      0\n",
    "      (+ a (* a (- b 1)))))\n",
    "```\n",
    "\n",
    "This algorithm takes a number of steps that is linear in $b$. Now suppose we include, together with addition, operations `double`, which doubles an integer, and `halve`, which divides an (even) integer by 2. Using these, design a multiplication procedure analogous to `fast-expt` that uses a logarithmic number of steps. "
   ]
  },
  {
   "cell_type": "code",
   "execution_count": 27,
   "id": "thick-department",
   "metadata": {},
   "outputs": [],
   "source": [
    "(define (add* a b)\n",
    "  (if (= b 0)\n",
    "      0\n",
    "      (+ a (add* a (- b 1)))))"
   ]
  },
  {
   "cell_type": "code",
   "execution_count": 28,
   "id": "united-scout",
   "metadata": {},
   "outputs": [
    {
     "name": "stdout",
     "output_type": "stream",
     "text": [
      "Time: 2.2157645225524902 seconds.\n",
      "\n"
     ]
    },
    {
     "data": {
      "text/plain": [
       "ok"
      ]
     },
     "execution_count": 28,
     "metadata": {},
     "output_type": "execute_result"
    }
   ],
   "source": [
    "%%time\n",
    "(assert = (add* 532 157) (add* 157 532))\n",
    "(assert = (add* 1532 3157) (add* 3157 1532))"
   ]
  },
  {
   "cell_type": "code",
   "execution_count": 29,
   "id": "suffering-farming",
   "metadata": {},
   "outputs": [
    {
     "data": {
      "text/plain": [
       "ok"
      ]
     },
     "execution_count": 29,
     "metadata": {},
     "output_type": "execute_result"
    }
   ],
   "source": [
    "(define (double x) (+ x x))\n",
    "(define (halve x) (/ x 2))\n",
    "\n",
    "(define (fast* a b)\n",
    "  (cond\n",
    "   ((= b 1) a)\n",
    "   ((even? b) (fast* (double a) (halve b)))\n",
    "   (else (+ a (fast* a (- b 1))))))\n",
    "\n",
    "(assert = (fast* 1 2) (* 1 2))\n",
    "(assert = (fast* 2 2) (* 2 2))\n",
    "(assert = (fast* 5 17) (* 5 17))\n",
    "(assert = (fast* 3 21) (* 3 21))"
   ]
  },
  {
   "cell_type": "code",
   "execution_count": 30,
   "id": "serial-columbus",
   "metadata": {},
   "outputs": [
    {
     "name": "stdout",
     "output_type": "stream",
     "text": [
      "Time: 0.062117815017700195 seconds.\n",
      "\n"
     ]
    },
    {
     "data": {
      "text/plain": [
       "ok"
      ]
     },
     "execution_count": 30,
     "metadata": {},
     "output_type": "execute_result"
    }
   ],
   "source": [
    "%%time\n",
    "(assert = (fast* 532 157) (fast* 157 532))\n",
    "(assert = (fast* 1532 3157) (fast* 3157 1532))"
   ]
  },
  {
   "cell_type": "markdown",
   "id": "subjective-texas",
   "metadata": {},
   "source": [
    "**Exercise 1.18.**  Using the results of exercises 1.16 and 1.17, devise a procedure that generates an iterative process for multiplying two integers in terms of adding, doubling, and halving and uses a logarithmic number of steps."
   ]
  },
  {
   "cell_type": "code",
   "execution_count": 31,
   "id": "robust-journal",
   "metadata": {},
   "outputs": [
    {
     "data": {
      "text/plain": [
       "ok"
      ]
     },
     "execution_count": 31,
     "metadata": {},
     "output_type": "execute_result"
    }
   ],
   "source": [
    "(define (fast* a b c)\n",
    "  (cond\n",
    "   ((= b 0) c)\n",
    "   ((even? b) (fast* (double a) (halve b) c))\n",
    "   (else      (fast* a (- b 1) (+ a c)))))\n",
    "\n",
    "(assert = (fast* 1 2 0) (* 1 2))\n",
    "(assert = (fast* 2 2 0) (* 2 2))\n",
    "(assert = (fast* 5 17 0) (* 5 17))\n",
    "(assert = (fast* 3 21 0) (* 3 21))"
   ]
  },
  {
   "cell_type": "markdown",
   "id": "piano-replica",
   "metadata": {},
   "source": [
    "**Exercise 1.19.**   There is a clever algorithm for computing the Fibonacci numbers in a logarithmic number of steps. Recall the transformation of the state variables $a$ and $b$ in the `fib-iter` process of section 1.2.2: $a \\leftarrow a + b$ and $b \\leftarrow a$. Call this transformation $T$, and observe that applying $T$ over and over again n times, starting with $1$ and $0$, produces the pair $Fib(n + 1)$ and $Fib(n)$. In other words, the Fibonacci numbers are produced by applying $T^n$, the $n$-th power of the transformation $T$, starting with the pair $(1,0)$. Now consider $T$ to be the special case of $p = 0$ and $q = 1$ in a family of transformations $T_{pq}$, where $T_{pq}$ transforms the pair $(a,b)$ according to $a \\leftarrow bq + aq + ap$ and $b \\leftarrow bp + aq$. Show that if we apply such a transformation $T_{pq}$ twice, the effect is the same as using a single transformation $T_{p'q'}$ of the same form, and compute $p'$ and $q'$ in terms of $p$ and $q$. This gives us an explicit way to square these transformations, and thus we can compute $T^n$ using successive squaring, as in the `fast-expt` procedure. Put this all together to complete the following procedure, which runs in a logarithmic number of steps:\n",
    "\n",
    "```scheme\n",
    "(define (fib n)\n",
    "  (fib-iter 1 0 0 1 n))\n",
    "\n",
    "(define (fib-iter a b p q count)\n",
    "  (cond ((= count 0) b)\n",
    "        ((even? count)\n",
    "         (fib-iter a\n",
    "                   b\n",
    "                   <??>      ; compute p'\n",
    "                   <??>      ; compute q'\n",
    "                   (/ count 2)))\n",
    "        (else (fib-iter (+ (* b q) (* a q) (* a p))\n",
    "                        (+ (* b p) (* a q))\n",
    "                        p\n",
    "                        q\n",
    "                        (- count 1)))))\n",
    "```"
   ]
  },
  {
   "cell_type": "code",
   "execution_count": 32,
   "id": "prescribed-stability",
   "metadata": {},
   "outputs": [
    {
     "data": {
      "text/plain": [
       "ok"
      ]
     },
     "execution_count": 32,
     "metadata": {},
     "output_type": "execute_result"
    }
   ],
   "source": [
    "(define (fib n)\n",
    "  (fib-iter 1 0 0 1 n))\n",
    "\n",
    "(define (fib-iter a b p q count)\n",
    "  (cond ((= count 0) b)\n",
    "        ((even? count)\n",
    "         (fib-iter a\n",
    "                   b\n",
    "                   (+ (* p p) (* q q))\n",
    "                   (+ (* 2 q p) (* q q))\n",
    "                   (/ count 2)))\n",
    "        (else (fib-iter (+ (* b q) (* a q) (* a p))\n",
    "                        (+ (* b p) (* a q))\n",
    "                        p\n",
    "                        q\n",
    "                        (- count 1)))))\n",
    "\n",
    "(assert = (fib 0) 0)\n",
    "(assert = (fib 1) 1)\n",
    "(assert = (fib 2) 1)\n",
    "(assert = (fib 3) 2)\n",
    "(assert = (fib 4) 3)\n",
    "(assert = (fib 5) 5)\n",
    "(assert = (fib 6) 8)"
   ]
  },
  {
   "cell_type": "code",
   "execution_count": 33,
   "id": "distant-madison",
   "metadata": {},
   "outputs": [],
   "source": [
    ";; 1.2.5  Greatest Common Divisors\n",
    "\n",
    "(define (gcd a b)\n",
    "  (if (= b 0)\n",
    "      a\n",
    "      (gcd b (remainder a b))))\n",
    "\n",
    "(define (smallest-divisor n)\n",
    "  (find-divisor n 2))\n",
    "\n",
    "(define (find-divisor n test-divisor)\n",
    "  (cond ((> (square test-divisor) n) n)\n",
    "        ((divides? test-divisor n) test-divisor)\n",
    "        (else (find-divisor n (+ test-divisor 1)))))\n",
    "\n",
    "(define (divides? a b)\n",
    "  (= (remainder b a) 0))\n",
    "\n",
    "(define (prime? n)\n",
    "  (= n (smallest-divisor n)))"
   ]
  },
  {
   "cell_type": "markdown",
   "id": "coordinate-housing",
   "metadata": {},
   "source": [
    "**Exercise 1.21.**  Use the smallest-divisor procedure to find the smallest divisor of each of the following numbers: 199, 1999, 19999. "
   ]
  },
  {
   "cell_type": "code",
   "execution_count": 34,
   "id": "outer-header",
   "metadata": {},
   "outputs": [
    {
     "name": "stdout",
     "output_type": "stream",
     "text": [
      "Time: 0.06922435760498047 seconds.\n",
      "\n"
     ]
    },
    {
     "data": {
      "text/plain": [
       "7"
      ]
     },
     "execution_count": 34,
     "metadata": {},
     "output_type": "execute_result"
    }
   ],
   "source": [
    "%%time\n",
    "(smallest-divisor 199)\n",
    "(smallest-divisor 1999)\n",
    "(smallest-divisor 19999)"
   ]
  },
  {
   "cell_type": "markdown",
   "id": "varied-gnome",
   "metadata": {},
   "source": [
    "**Exercise 1.23.**  The `smallest-divisor` procedure shown at the start of this section does lots of needless testing: After it checks to see if the number is divisible by 2 there is no point in checking to see if it is divisible by any larger even numbers. This suggests that the values used for `test-divisor` should not be 2, 3, 4, 5, 6, ..., but rather 2, 3, 5, 7, 9, .... To implement this change, define a procedure next that returns 3 if its input is equal to 2 and otherwise returns its input plus 2. Modify the `smallest-divisor` procedure to use `(next test-divisor)` instead of `(+ test-divisor 1)`. With `timed-prime-test` incorporating this modified version of `smallest-divisor`, run the test for each of the 12 primes found in exercise 1.22. Since this modification halves the number of test steps, you should expect it to run about twice as fast. Is this expectation confirmed? If not, what is the observed ratio of the speeds of the two algorithms, and how do you explain the fact that it is different from 2? "
   ]
  },
  {
   "cell_type": "code",
   "execution_count": 35,
   "id": "stable-junior",
   "metadata": {},
   "outputs": [
    {
     "data": {
      "text/plain": [
       "ok"
      ]
     },
     "execution_count": 35,
     "metadata": {},
     "output_type": "execute_result"
    }
   ],
   "source": [
    "(define (next test-divisor)\n",
    "  (if (< test-divisor 3)\n",
    "      (+ test-divisor 1)\n",
    "      (+ test-divisor 2)))\n",
    "\n",
    "(assert = (next 1) 2)\n",
    "(assert = (next 2) 3)\n",
    "(assert = (next 3) 5)\n",
    "(assert = (next 5) 7)\n",
    "\n",
    "(define (find-divisor n test-divisor)\n",
    "  (cond ((> (square test-divisor) n) n)\n",
    "        ((divides? test-divisor n) test-divisor)\n",
    "        (else (find-divisor n (next test-divisor)))))\n",
    "\n",
    "(assert = (smallest-divisor 1) 1)\n",
    "(assert = (smallest-divisor 2) 2)\n",
    "(assert = (smallest-divisor 4) 2)\n",
    "(assert = (smallest-divisor 19999) 7)"
   ]
  },
  {
   "cell_type": "code",
   "execution_count": 36,
   "id": "administrative-massage",
   "metadata": {},
   "outputs": [
    {
     "name": "stdout",
     "output_type": "stream",
     "text": [
      "Time: 0.031348228454589844 seconds.\n",
      "\n"
     ]
    },
    {
     "data": {
      "text/plain": [
       "7"
      ]
     },
     "execution_count": 36,
     "metadata": {},
     "output_type": "execute_result"
    }
   ],
   "source": [
    "%%time\n",
    "(smallest-divisor 199)\n",
    "(smallest-divisor 1999)\n",
    "(smallest-divisor 19999)"
   ]
  },
  {
   "cell_type": "code",
   "execution_count": 37,
   "id": "blocked-reading",
   "metadata": {},
   "outputs": [
    {
     "name": "stdout",
     "output_type": "stream",
     "text": [
      "0.24998750000000042\n",
      "0.249999875000001\n"
     ]
    }
   ],
   "source": [
    ";; 1.3.1  Procedures as Arguments\n",
    "\n",
    "(define (sum term a next b)\n",
    "  (if (> a b)\n",
    "      0\n",
    "      (+ (term a)\n",
    "         (sum term (next a) next b))))\n",
    "\n",
    "(define (integral f a b dx)\n",
    "  (define (add-dx x) (+ x dx))\n",
    "  (* (sum f (+ a (/ dx 2.0)) add-dx b)\n",
    "     dx))\n",
    "\n",
    "(print (integral cube 0 1 0.01))\n",
    "(print (integral cube 0 1 0.001))\n",
    "\n",
    ";;  (The exact value of the integral of cube between 0 and 1 is 1/4.)"
   ]
  },
  {
   "cell_type": "markdown",
   "id": "sensitive-champagne",
   "metadata": {},
   "source": [
    "**Exercise 1.29.**  Simpson's Rule is a more accurate method of numerical integration than the method illustrated above. Using Simpson's Rule, the integral of a function $f$ between $a$ and $b$ is approximated as \n",
    "\n",
    "$\n",
    "\\frac{h}{3} \\big[ y_0 + 4y_1 + 2y_2 + 4y_3 + 2y_4 + \\dots + 2y_{n-2} + 4y_{n-1} + y_n \\big]\n",
    "$\n",
    "\n",
    "where $h = (b - a)/n$, for some even integer $n$, and $y_k = f(a + kh)$. (Increasing $n$ increases the accuracy of the approximation.) Define a procedure that takes as arguments $f$, $a$, $b$, and $n$ and returns the value of the integral, computed using Simpson's Rule. Use your procedure to integrate cube between $0$ and $1$ (with $n = 100$ and $n = 1000$), and compare the results to those of the integral procedure shown above. "
   ]
  },
  {
   "cell_type": "code",
   "execution_count": 38,
   "id": "accomplished-alias",
   "metadata": {},
   "outputs": [
    {
     "name": "stdout",
     "output_type": "stream",
     "text": [
      "0.25000000000000006\n",
      "0.25000000000000006\n"
     ]
    }
   ],
   "source": [
    "(define (simpsons-rule f a b n)\n",
    "  (define h (/ (- b a) n))\n",
    "  (define (dx k) (+ a (* k h)))\n",
    "  (define (iter i acc)\n",
    "    (if (>= (dx i) b)\n",
    "        acc\n",
    "        (iter\n",
    "         (+ i 1)\n",
    "         (+ acc\n",
    "            (* (if (even? i) 2 4)\n",
    "               (f (dx i)))))))\n",
    "  (* (/ h 3)\n",
    "     (+ (f a) (iter 1 0.0) (f b))))\n",
    "\n",
    "(print (simpsons-rule cube 0.0 1.0 100))\n",
    "(print (simpsons-rule cube 0.0 1.0 1000))"
   ]
  },
  {
   "cell_type": "code",
   "execution_count": 39,
   "id": "curious-designation",
   "metadata": {},
   "outputs": [
    {
     "name": "stdout",
     "output_type": "stream",
     "text": [
      "0.25000000000000044\n",
      "0.25000000000000083\n"
     ]
    }
   ],
   "source": [
    ";; https://codology.net/post/sicp-solution-exercise-1-29/\n",
    ";; assuming n is even\n",
    "(define (simpsons-rule f a b n)\n",
    "  (define h (/ (- b a) n))\n",
    "  (define (add-2h x) (+ x h h))\n",
    "  (* (+ (f a)\n",
    "        (* 2 (sum f a       add-2h b))\n",
    "        (* 4 (sum f (+ a h) add-2h b))\n",
    "        (f b))\n",
    "     (/ h 3)))\n",
    "\n",
    "(print (simpsons-rule cube 0.0 1.0 100))\n",
    "(print (simpsons-rule cube 0.0 1.0 1000))"
   ]
  },
  {
   "cell_type": "markdown",
   "id": "clear-crossing",
   "metadata": {},
   "source": [
    "**Exercise 1.30.**  The `sum` procedure above generates a linear recursion. The procedure can be rewritten so that the `sum` is performed iteratively. Show how to do this by filling in the missing expressions in the following definition:\n",
    "\n",
    "```scheme\n",
    "(define (sum term a next b)\n",
    "  (define (iter a result)\n",
    "    (if <??>\n",
    "        <??>\n",
    "        (iter <??> <??>)))\n",
    "  (iter <??> <??>))\n",
    " ```"
   ]
  },
  {
   "cell_type": "code",
   "execution_count": 40,
   "id": "unavailable-blake",
   "metadata": {},
   "outputs": [
    {
     "data": {
      "text/plain": [
       "ok"
      ]
     },
     "execution_count": 40,
     "metadata": {},
     "output_type": "execute_result"
    }
   ],
   "source": [
    "(define (sum term a next b)\n",
    "  (define (iter a result)\n",
    "    (if (> a b)\n",
    "        result\n",
    "        (iter\n",
    "         (next a)\n",
    "         (+ result (term a)))))\n",
    "  (iter a 0.0))\n",
    "\n",
    "(define (identity x) x)\n",
    "(define (inc x) (+ x 1))\n",
    "\n",
    "(assert = (sum identity 1 inc 10) 55)\n",
    "(assert = (sum square 1 inc 10) 385)"
   ]
  },
  {
   "cell_type": "markdown",
   "id": "removed-sampling",
   "metadata": {},
   "source": [
    "**Exercise 1.31.**  \n",
    " a.  The sum procedure is only the simplest of a vast number of similar abstractions that can be captured as higher-order procedures. Write an analogous procedure called `product` that returns the product of the values of a function at points over a given range. Show how to define factorial in terms of product. Also use product to compute approximations to using the formula\n",
    "\n",
    "$\n",
    "\\frac{\\pi}{4} = \\frac{2 \\cdot 4 \\cdot 4 \\cdot 6 \\cdot 6 \\cdot 8 \\cdot \\dots}{3 \\cdot 3 \\cdot 5 \\cdot 5 \\cdot 7 \\cdot 7 \\cdot \\dots}\n",
    "$\n",
    "\n",
    " b.  If your `product` procedure generates a recursive process, write one that generates an iterative process. If it generates an iterative process, write one that generates a recursive process. "
   ]
  },
  {
   "cell_type": "code",
   "execution_count": 41,
   "id": "hollywood-sight",
   "metadata": {},
   "outputs": [
    {
     "data": {
      "text/plain": [
       "ok"
      ]
     },
     "execution_count": 41,
     "metadata": {},
     "output_type": "execute_result"
    }
   ],
   "source": [
    "(define (product term a next b)\n",
    "  (define (iter a)\n",
    "    (if (> a b)\n",
    "        1.0\n",
    "         (* (term a)\n",
    "            (iter (next a)))))\n",
    "  (iter a))\n",
    "\n",
    "(assert = (product identity 1 inc 5) 120)\n",
    "(assert = (product square 1 inc 5) 14400)"
   ]
  },
  {
   "cell_type": "code",
   "execution_count": 42,
   "id": "violent-drawing",
   "metadata": {},
   "outputs": [
    {
     "data": {
      "text/plain": [
       "ok"
      ]
     },
     "execution_count": 42,
     "metadata": {},
     "output_type": "execute_result"
    }
   ],
   "source": [
    "(define (product term a next b)\n",
    "  (define (iter a result)\n",
    "    (if (> a b)\n",
    "        result\n",
    "        (iter\n",
    "         (next a)\n",
    "         (* result (term a)))))\n",
    "  (iter a 1.0))\n",
    "\n",
    "(assert = (product identity 1 inc 5) 120)\n",
    "(assert = (product square 1 inc 5) 14400)"
   ]
  },
  {
   "cell_type": "code",
   "execution_count": 43,
   "id": "changed-little",
   "metadata": {},
   "outputs": [
    {
     "data": {
      "text/plain": [
       "ok"
      ]
     },
     "execution_count": 43,
     "metadata": {},
     "output_type": "execute_result"
    }
   ],
   "source": [
    "(define (factorial n)\n",
    "  (product identity 1 inc n))\n",
    "\n",
    "(assert = (factorial 5) 120)"
   ]
  },
  {
   "cell_type": "code",
   "execution_count": 44,
   "id": "cubic-aircraft",
   "metadata": {},
   "outputs": [
    {
     "data": {
      "text/plain": [
       "ok"
      ]
     },
     "execution_count": 44,
     "metadata": {},
     "output_type": "execute_result"
    }
   ],
   "source": [
    ";; https://en.wikipedia.org/wiki/Wallis_product\n",
    "\n",
    "(define (wallis-product n)\n",
    "  (define (f n) \n",
    "    (define 2n (* 2 n))\n",
    "    (* (/ 2n (- 2n 1))\n",
    "       (/ 2n (+ 2n 1))))\n",
    "  (/ (product f 1.0 inc n) 2))\n",
    "\n",
    "(assert approx (wallis-product 100) (/ π 4))"
   ]
  },
  {
   "cell_type": "markdown",
   "id": "narrow-router",
   "metadata": {},
   "source": [
    "**Exercise 1.32.**  a. Show that `sum` and `product` (exercise 1.31) are both special cases of a still more general notion called `accumulate` that combines a collection of terms, using some general accumulation function:\n",
    "\n",
    "```scheme\n",
    "(accumulate combiner null-value term a next b)\n",
    "```\n",
    "\n",
    "`Accumulate` takes as arguments the same term and range specifications as `sum` and `product`, together with a combiner procedure (of two arguments) that specifies how the current term is to be combined with the accumulation of the preceding terms and a null-value that specifies what base value to use when the terms run out. Write accumulate and show how sum and product can both be defined as simple calls to accumulate.\n",
    "\n",
    "b. If your `accumulate` procedure generates a recursive process, write one that generates an iterative process. If it generates an iterative process, write one that generates a recursive process."
   ]
  },
  {
   "cell_type": "code",
   "execution_count": 45,
   "id": "prescription-relationship",
   "metadata": {},
   "outputs": [
    {
     "data": {
      "text/plain": [
       "ok"
      ]
     },
     "execution_count": 45,
     "metadata": {},
     "output_type": "execute_result"
    }
   ],
   "source": [
    "(define (accumulate combiner null-value term a next b)\n",
    "  (define (iter a result)\n",
    "    (if (> a b)\n",
    "        result\n",
    "        (iter\n",
    "         (next a)\n",
    "         (combiner result (term a)))))\n",
    "  (iter a null-value))\n",
    "\n",
    "(assert = (accumulate + 0 identity 1 inc 5) (sum identity 1 inc 5))\n",
    "(assert = (accumulate * 1 identity 1 inc 5) (product identity 1 inc 5))\n",
    "(assert = (accumulate + 0 square 1 inc 5) (sum square 1 inc 5))\n",
    "(assert = (accumulate * 1 square 1 inc 5) (product square 1 inc 5))"
   ]
  },
  {
   "cell_type": "markdown",
   "id": "polyphonic-productivity",
   "metadata": {},
   "source": [
    "**Exercise 1.33.**  You can obtain an even more general version of accumulate (exercise 1.32) by introducing the notion of a filter on the terms to be combined. That is, combine only those terms derived from values in the range that satisfy a specified condition. The resulting `filtered-accumulate` abstraction takes the same arguments as `accumulate`, together with an additional predicate of one argument that specifies the filter. Write `filtered-accumulate` as a procedure. Show how to express the following using `filtered-accumulate`:\n",
    "\n",
    "a. the sum of the squares of the prime numbers in the interval $a$ to $b$ (assuming that you have a `prime?` predicate already written)\n",
    "\n",
    "b. the product of all the positive integers less than n that are relatively prime to n (i.e., all positive integers $i < n$ such that $\\mathrm{GCD}(i,n) = 1$). "
   ]
  },
  {
   "cell_type": "code",
   "execution_count": 46,
   "id": "several-rider",
   "metadata": {},
   "outputs": [
    {
     "data": {
      "text/plain": [
       "ok"
      ]
     },
     "execution_count": 46,
     "metadata": {},
     "output_type": "execute_result"
    }
   ],
   "source": [
    "(define (filtered-accumulate accept-rule combiner null-value term a next b)\n",
    "  (define (iter a result)\n",
    "    (cond\n",
    "     ((> a b) result)\n",
    "     ((accept-rule a)\n",
    "      (iter\n",
    "       (next a)\n",
    "       (combiner result (term a))))\n",
    "     (else\n",
    "      (iter (next a) result))))\n",
    "  (iter a null-value))\n",
    "\n",
    "(assert = (filtered-accumulate even? + 0 identity 1 inc 10) 30)\n",
    "(assert = (filtered-accumulate even? + 0 square 1 inc 10) 220)\n",
    "(assert = (filtered-accumulate prime? + 0 square 2 inc 20) 1027)"
   ]
  },
  {
   "cell_type": "code",
   "execution_count": 47,
   "id": "deadly-pregnancy",
   "metadata": {},
   "outputs": [
    {
     "data": {
      "text/plain": [
       "189"
      ]
     },
     "execution_count": 47,
     "metadata": {},
     "output_type": "execute_result"
    }
   ],
   "source": [
    "(define (product-of-relative-primes n)\n",
    "  (define (relative-prime? i)\n",
    "    (= (gcd i n) 1))\n",
    "  (filtered-accumulate relative-prime? * 1 identity 1 inc n))\n",
    "\n",
    "(product-of-relative-primes 10)"
   ]
  },
  {
   "cell_type": "code",
   "execution_count": 48,
   "id": "veterinary-boston",
   "metadata": {},
   "outputs": [
    {
     "name": "stdout",
     "output_type": "stream",
     "text": [
      "3.14111328125\n",
      "1.89306640625\n"
     ]
    }
   ],
   "source": [
    ";; 1.3.3  Procedures as General Methods\n",
    "\n",
    "(define (positive? x) (>= 0 x))\n",
    "(define (negative? x) (not (positive? x)))\n",
    "\n",
    "(define (search f neg-point pos-point)\n",
    "  (let ((midpoint (average neg-point pos-point)))\n",
    "    (if (close-enough? neg-point pos-point)\n",
    "        midpoint\n",
    "        (let ((test-value (f midpoint)))\n",
    "          (cond ((positive? test-value)\n",
    "                 (search f neg-point midpoint))\n",
    "                ((negative? test-value)\n",
    "                 (search f midpoint pos-point))\n",
    "                (else midpoint))))))\n",
    "\n",
    "(define (close-enough? x y)\n",
    "  (< (abs (- x y)) 0.001))\n",
    "\n",
    "(define (half-interval-method f a b)\n",
    "  (let ((a-value (f a))\n",
    "        (b-value (f b)))\n",
    "    (cond ((and (negative? a-value) (positive? b-value))\n",
    "           (search f a b))\n",
    "          ((and (negative? b-value) (positive? a-value))\n",
    "           (search f b a))\n",
    "          (else\n",
    "           (error \"Values are not of opposite sign\" a b)))))\n",
    "\n",
    "(print (half-interval-method sin 2.0 4.0))\n",
    "(print (half-interval-method (lambda (x) (- (* x x x) (* 2 x) 3)) 1.0 2.0))"
   ]
  },
  {
   "cell_type": "code",
   "execution_count": 49,
   "id": "respected-monthly",
   "metadata": {},
   "outputs": [
    {
     "name": "stdout",
     "output_type": "stream",
     "text": [
      "0.7390822985224024\n",
      "1.2587315962971173\n"
     ]
    }
   ],
   "source": [
    ";; needed to rename `try` to `iter` since Calypso Scheme did not allow for re-defining `try`\n",
    "\n",
    "(define tolerance 0.00001)\n",
    "\n",
    "(define (fixed-point f first-guess)\n",
    "  (define (close-enough? x y)\n",
    "    (< (abs (- x y)) tolerance))\n",
    "  (define (iter guess)\n",
    "    (let ((next (f guess)))\n",
    "      (if (close-enough? guess next)\n",
    "          next\n",
    "          (iter next))))\n",
    "  (iter first-guess))\n",
    "\n",
    "(print (fixed-point cos 1.0))\n",
    "(print (fixed-point (lambda (y) (+ (sin y) (cos y))) 1.0))"
   ]
  },
  {
   "cell_type": "markdown",
   "id": "capital-smell",
   "metadata": {},
   "source": [
    "**Exercise 1.35.**  Show that the golden ratio $\\phi$ (section 1.2.2) is a fixed point of the transformation $x \\to 1 + 1/x$, and use this fact to compute by means of the `fixed-point` procedure. "
   ]
  },
  {
   "cell_type": "code",
   "execution_count": 50,
   "id": "genetic-formation",
   "metadata": {},
   "outputs": [
    {
     "data": {
      "text/plain": [
       "1.6180327868852458"
      ]
     },
     "execution_count": 50,
     "metadata": {},
     "output_type": "execute_result"
    }
   ],
   "source": [
    "(fixed-point (lambda (x) (+ 1 (/ 1 x))) 1.0)"
   ]
  },
  {
   "cell_type": "markdown",
   "id": "black-thomson",
   "metadata": {},
   "source": [
    "**Exercise 1.37.**\n",
    "\n",
    "$\n",
    "\\frac{N_1}{D_1 + \\frac{N_2}{D_2 + \\frac{N_3}{D_3 + \\dots}}} \\approx\n",
    "\\frac{N_1}{D_1 + \\frac{N_2}{\\ddots + \\frac{N_k}{D_k}}}\n",
    "$\n",
    "\n",
    "[...] Suppose that $n$ and $d$ are procedures of one argument (the term index i) that return the $N_i$ and $D_i$ of the terms of the continued fraction. Define a procedure `cont-frac` such that evaluating `(cont-frac n d k)` computes the value of the $k$-term finite continued fraction. Check your procedure by approximating $1/\\phi$ using\n",
    "\n",
    "```scheme\n",
    "(cont-frac (lambda (i) 1.0)\n",
    "           (lambda (i) 1.0)\n",
    "           k)\n",
    "```\n",
    "\n",
    "for successive values of $k$. How large must you make $k$ in order to get an approximation that is accurate to 4 decimal places?\n",
    "\n",
    "b. If your cont-frac procedure generates a recursive process, write one that generates an iterative process. If it generates an iterative process, write one that generates a recursive process. "
   ]
  },
  {
   "cell_type": "code",
   "execution_count": 51,
   "id": "coupled-honolulu",
   "metadata": {},
   "outputs": [
    {
     "data": {
      "text/plain": [
       "ok"
      ]
     },
     "execution_count": 51,
     "metadata": {},
     "output_type": "execute_result"
    }
   ],
   "source": [
    "(define (cont-frac N D k)\n",
    "  (define (iter i)\n",
    "    (if (> i k)\n",
    "        (/ (N i) (D i))\n",
    "        (/ (N i)\n",
    "           (+ (D i)\n",
    "              (iter (+ i 1))))))\n",
    "   (iter 1))\n",
    "\n",
    "(define ϕ 1.6180)\n",
    "\n",
    "(assert\n",
    " (lambda (x y) (< (abs (- x y)) .0001))\n",
    " (cont-frac (lambda (i) 1.0) (lambda (i) 1.0) 10)\n",
    " (/ 1 ϕ))"
   ]
  },
  {
   "cell_type": "code",
   "execution_count": 52,
   "id": "robust-madness",
   "metadata": {},
   "outputs": [
    {
     "data": {
      "text/plain": [
       "ok"
      ]
     },
     "execution_count": 52,
     "metadata": {},
     "output_type": "execute_result"
    }
   ],
   "source": [
    "(define (cont-frac N D k)\n",
    "  (define (iter i acc)\n",
    "    (if (= i 0)\n",
    "        acc\n",
    "        (iter\n",
    "         (- i 1)\n",
    "         (/ (N i)\n",
    "            (+ (D i) acc)))))\n",
    "  (iter\n",
    "   (- k 1)\n",
    "   (/ (N k) (D k))))\n",
    "\n",
    "(assert\n",
    " (lambda (x y) (< (abs (- x y)) .0001))\n",
    " (cont-frac (lambda (i) 1.0) (lambda (i) 1.0) 10)\n",
    " (/ 1 ϕ))"
   ]
  },
  {
   "cell_type": "markdown",
   "id": "impressed-store",
   "metadata": {},
   "source": [
    "**Exercise 1.38.**  In 1737, the Swiss mathematician Leonhard Euler published a memoir *De Fractionibus Continuis*, which included a continued fraction expansion for $e - 2$, where $e$ is the base of the natural logarithms. In this fraction, the $N_i$ are all $1$, and the $D_i$ are successively $1, 2, 1, 1, 4, 1, 1, 6, 1, 1, 8, \\dots$. Write a program that uses your `cont-frac` procedure from exercise 1.37 to approximate e, based on Euler's expansion. "
   ]
  },
  {
   "cell_type": "code",
   "execution_count": null,
   "id": "answering-republican",
   "metadata": {},
   "outputs": [],
   "source": []
  },
  {
   "cell_type": "markdown",
   "id": "entitled-swimming",
   "metadata": {},
   "source": [
    "**Exercise 1.39.**  A continued fraction representation of the tangent function was published in 1770 by the German mathematician J.H. Lambert:\n",
    "\n",
    "$\n",
    "\\operatorname{tan} r = \\frac{r}{1 - \\frac{r^2}{2 - \\frac{r^2}{3 - \\dots}}}\n",
    "$\n",
    "\n",
    "where $x$ is in radians. Define a procedure `(tan-cf x k)` that computes an approximation to the tangent function based on Lambert's formula. $K$ specifies the number of terms to compute, as in exercise 1.37. "
   ]
  },
  {
   "cell_type": "code",
   "execution_count": 53,
   "id": "verified-woman",
   "metadata": {},
   "outputs": [
    {
     "data": {
      "text/plain": [
       "ok"
      ]
     },
     "execution_count": 53,
     "metadata": {},
     "output_type": "execute_result"
    }
   ],
   "source": [
    "(define (tan-cf x k)\n",
    "  (cont-frac (lambda (i) (if (= i 1) x (* x x -1)))\n",
    "             (lambda (i) (- (* 2.0 i) 1))\n",
    "             k))\n",
    "\n",
    "(assert approx (tan-cf 1 10) 1.5574)\n",
    "(assert approx (tan-cf 2 10) -2.1850)"
   ]
  },
  {
   "cell_type": "code",
   "execution_count": null,
   "id": "genuine-storage",
   "metadata": {},
   "outputs": [],
   "source": []
  }
 ],
 "metadata": {
  "kernelspec": {
   "display_name": "Calysto Scheme 3",
   "language": "scheme",
   "name": "calysto_scheme"
  },
  "language_info": {
   "codemirror_mode": {
    "name": "scheme"
   },
   "mimetype": "text/x-scheme",
   "name": "scheme",
   "pygments_lexer": "scheme"
  }
 },
 "nbformat": 4,
 "nbformat_minor": 5
}
