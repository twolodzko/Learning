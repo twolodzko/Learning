{
 "cells": [
  {
   "cell_type": "markdown",
   "id": "bottom-signature",
   "metadata": {},
   "source": [
    "# Notes and excercises from *Structure and Interpretation of Computer Programs*\n",
    "\n",
    "The book is [available online on MIT's site](https://mitpress.mit.edu/sites/default/files/sicp/full-text/book/book.html), there are also [recorded lectures on MIT's OCW](https://www.youtube.com/playlist?list=PLE18841CABEA24090).\n",
    "\n",
    "I'm using the [Calysto Scheme](https://github.com/Calysto/calysto_scheme) notebooks.\n",
    "\n",
    "```python\n",
    "pip install calysto_scheme\n",
    "```"
   ]
  },
  {
   "cell_type": "markdown",
   "id": "vulnerable-december",
   "metadata": {},
   "source": [
    "## Chapter 2. Building Abstractions with Data"
   ]
  },
  {
   "cell_type": "markdown",
   "id": "known-stream",
   "metadata": {},
   "source": [
    "### `cons` vs `list`\n",
    "\n",
    "```scheme\n",
    "(list <a1> <a2> ... <an>)\n",
    "```\n",
    "\n",
    "is equivalent to\n",
    "\n",
    "```scheme\n",
    "(cons <a1>\n",
    "      (cons <a2>\n",
    "            (cons ...\n",
    "                  (cons <an>\n",
    "                        nil) ...)))\n",
    "```"
   ]
  },
  {
   "cell_type": "code",
   "execution_count": 1,
   "id": "accomplished-discrimination",
   "metadata": {},
   "outputs": [],
   "source": [
    ";; math functions missig from Calysto Scheme\n",
    "\n",
    "(import \"math\")\n",
    "\n",
    "(define sin math.sin)\n",
    "(define cos math.cos)\n",
    "(define tan math.tan)\n",
    "(define atan math.atan)\n",
    "(define log math.log)"
   ]
  },
  {
   "cell_type": "code",
   "execution_count": 2,
   "id": "selected-importance",
   "metadata": {},
   "outputs": [],
   "source": [
    "(define (gcd a b)\n",
    "  (if (= b 0)\n",
    "      a\n",
    "      (gcd b (remainder a b))))\n",
    "\n",
    "(define (square x) (* x x))\n",
    "\n",
    "(define (approx x y) (< (abs (- x y)) 0.01))"
   ]
  },
  {
   "cell_type": "code",
   "execution_count": 3,
   "id": "expensive-baker",
   "metadata": {},
   "outputs": [],
   "source": [
    ";; Representing rational numbers\n",
    "\n",
    "(define (add-rat x y)\n",
    "  (make-rat (+ (* (numer x) (denom y))\n",
    "               (* (numer y) (denom x)))\n",
    "            (* (denom x) (denom y))))\n",
    "(define (sub-rat x y)\n",
    "  (make-rat (- (* (numer x) (denom y))\n",
    "               (* (numer y) (denom x)))\n",
    "            (* (denom x) (denom y))))\n",
    "(define (mul-rat x y)\n",
    "  (make-rat (* (numer x) (numer y))\n",
    "            (* (denom x) (denom y))))\n",
    "(define (div-rat x y)\n",
    "  (make-rat (* (numer x) (denom y))\n",
    "            (* (denom x) (numer y))))\n",
    "(define (equal-rat? x y)\n",
    "  (= (* (numer x) (denom y))\n",
    "     (* (numer y) (denom x))))\n",
    "\n",
    "(define (make-rat n d) (cons n d))\n",
    "\n",
    "(define (numer x) (car x))\n",
    "\n",
    "(define (denom x) (cdr x))\n",
    "\n",
    "(define (print-rat x)\n",
    "  (newline)\n",
    "  (display (numer x))\n",
    "  (display \"/\")\n",
    "  (display (denom x)))"
   ]
  },
  {
   "cell_type": "code",
   "execution_count": 4,
   "id": "floral-editor",
   "metadata": {},
   "outputs": [
    {
     "name": "stdout",
     "output_type": "stream",
     "text": [
      "\n",
      "1/2\n",
      "5/6\n",
      "1/6\n",
      "6/9"
     ]
    }
   ],
   "source": [
    "(define one-half (make-rat 1 2))\n",
    "(define one-third (make-rat 1 3))\n",
    "\n",
    "(print-rat one-half)\n",
    "(print-rat (add-rat one-half one-third))\n",
    "(print-rat (mul-rat one-half one-third))\n",
    "(print-rat (add-rat one-third one-third))"
   ]
  },
  {
   "cell_type": "markdown",
   "id": "compatible-spray",
   "metadata": {},
   "source": [
    "(define (make-rat n d)\n",
    "  (let ((g (gcd n d)))\n",
    "    (cons (/ n g) (/ d g))))\n",
    "\n",
    "(print-rat (add-rat one-third one-third))"
   ]
  },
  {
   "cell_type": "code",
   "execution_count": 5,
   "id": "inner-change",
   "metadata": {},
   "outputs": [
    {
     "name": "stdout",
     "output_type": "stream",
     "text": [
      "\n",
      "1/2\n",
      "5/6\n",
      "1/6\n",
      "2/3"
     ]
    }
   ],
   "source": [
    ";; For example, an alternate way to address the problem of reducing rational numbers to lowest terms is to perform\n",
    ";; the reduction whenever we access the parts of a rational number, rather than when we construct it. This leads\n",
    ";; to different constructor and selector procedures:\n",
    "\n",
    "(define (make-rat n d)\n",
    "  (cons n d))\n",
    "\n",
    "(define (numer x)\n",
    "  (let ((g (gcd (car x) (cdr x))))\n",
    "    (/ (car x) g)))\n",
    "\n",
    "(define (denom x)\n",
    "  (let ((g (gcd (car x) (cdr x))))\n",
    "    (/ (cdr x) g)))\n",
    "\n",
    "(define one-half (make-rat 1 2))\n",
    "(define one-third (make-rat 1 3))\n",
    "\n",
    "(print-rat one-half)\n",
    "(print-rat (add-rat one-half one-third))\n",
    "(print-rat (mul-rat one-half one-third))\n",
    "(print-rat (add-rat one-third one-third))"
   ]
  },
  {
   "cell_type": "markdown",
   "id": "unable-collect",
   "metadata": {},
   "source": [
    "**Exercise 2.2.**  Consider the problem of representing line segments in a plane. Each segment is represented as a pair of points: a starting point and an ending point. Define a constructor `make-segment` and selectors `start-segment` and `end-segment` that define the representation of segments in terms of points. Furthermore, a point can be represented as a pair of numbers: the $x$ coordinate and the $y$ coordinate. Accordingly, specify a constructor `make-point` and selectors `x-point` and `y-point` that define this representation. Finally, using your selectors and constructors, define a procedure `midpoint-segment` that takes a line segment as argument and returns its midpoint (the point whose coordinates are the average of the coordinates of the endpoints). To try your procedures, you'll need a way to print points:"
   ]
  },
  {
   "cell_type": "code",
   "execution_count": 6,
   "id": "critical-chess",
   "metadata": {},
   "outputs": [],
   "source": [
    "(define (print-point p)\n",
    "  (newline)\n",
    "  (display \"(\")\n",
    "  (display (x-point p))\n",
    "  (display \",\")\n",
    "  (display (y-point p))\n",
    "  (display \")\"))"
   ]
  },
  {
   "cell_type": "code",
   "execution_count": 7,
   "id": "auburn-rates",
   "metadata": {},
   "outputs": [
    {
     "name": "stdout",
     "output_type": "stream",
     "text": [
      "\n",
      "(1,2)"
     ]
    }
   ],
   "source": [
    "(define (make-point x y)\n",
    "  (cons x y))\n",
    "\n",
    "(define (x-point p) (car p))\n",
    "\n",
    "(define (y-point p) (cdr p))\n",
    "\n",
    "(assert = (x-point (make-point 1 2)) 1)\n",
    "(assert = (y-point (make-point 1 2)) 2)\n",
    "\n",
    "(print-point (make-point 1 2))"
   ]
  },
  {
   "cell_type": "code",
   "execution_count": 8,
   "id": "ahead-still",
   "metadata": {},
   "outputs": [
    {
     "data": {
      "text/plain": [
       "ok"
      ]
     },
     "execution_count": 8,
     "metadata": {},
     "output_type": "execute_result"
    }
   ],
   "source": [
    "(define (make-segment start-segment end-segment)\n",
    "  (list start-segment end-segment))\n",
    "\n",
    "(define (midpoint-segment segment)\n",
    "  (define (midpoint selector)\n",
    "    (/ (+\n",
    "        (selector (car segment))\n",
    "        (selector (cadr segment)))\n",
    "       2))\n",
    "  (make-point\n",
    "   (midpoint x-point)\n",
    "   (midpoint y-point)))\n",
    "\n",
    "(assert = (car (midpoint-segment (make-segment (make-point 1 2) (make-point 3 0)))) 2)\n",
    "(assert = (cdr (midpoint-segment (make-segment (make-point 1 2) (make-point 3 0)))) 1)"
   ]
  },
  {
   "cell_type": "markdown",
   "id": "comic-examination",
   "metadata": {},
   "source": [
    "**Exercise 2.3.**  Implement a representation for rectangles in a plane. (Hint: You may want to make use of exercise 2.2.) In terms of your constructors and selectors, create procedures that compute the perimeter and the area of a given rectangle. Now implement a different representation for rectangles. Can you design your system with suitable abstraction barriers, so that the same perimeter and area procedures will work using either representation? "
   ]
  },
  {
   "cell_type": "code",
   "execution_count": 9,
   "id": "accessory-channel",
   "metadata": {},
   "outputs": [
    {
     "data": {
      "text/plain": [
       "ok"
      ]
     },
     "execution_count": 9,
     "metadata": {},
     "output_type": "execute_result"
    }
   ],
   "source": [
    "(define (rectangle l w) (cons l w))\n",
    "(define (get-length rectangle) (car rectangle))\n",
    "(define (get-width rectangle) (cdr rectangle))\n",
    "\n",
    "(define (rectangle-area rectangle)\n",
    "  (* (get-length rectangle)\n",
    "     (get-width rectangle)))\n",
    "\n",
    "(assert = (rectangle-area (rectangle 1 1)) 1)\n",
    "(assert = (rectangle-area (rectangle 2 2)) 4)\n",
    "(assert = (rectangle-area (rectangle 2 5)) 10)\n",
    "\n",
    "(define (rectangle-perimeter rectangle)\n",
    "  (* 2 (+ (get-length rectangle)\n",
    "          (get-width rectangle))))\n",
    "\n",
    "(assert = (rectangle-perimeter (rectangle 1 1)) 4)\n",
    "(assert = (rectangle-perimeter (rectangle 2 2)) 8)\n",
    "(assert = (rectangle-perimeter (rectangle 2 5)) 14)"
   ]
  },
  {
   "cell_type": "code",
   "execution_count": 10,
   "id": "adult-morris",
   "metadata": {},
   "outputs": [
    {
     "data": {
      "text/plain": [
       "ok"
      ]
     },
     "execution_count": 10,
     "metadata": {},
     "output_type": "execute_result"
    }
   ],
   "source": [
    ";; Euclidean distance between two points\n",
    "(define (distance p q)\n",
    "  (sqrt\n",
    "   (+ (square (- (x-point p) (x-point q)))\n",
    "      (square (- (y-point p) (y-point q))))))\n",
    "\n",
    "(assert approx (distance (make-point 1 3) (make-point 4 13)) 10.44)\n",
    "(assert approx (distance (make-point 4 13) (make-point 1 3)) 10.44)"
   ]
  },
  {
   "cell_type": "code",
   "execution_count": 11,
   "id": "reasonable-authentication",
   "metadata": {},
   "outputs": [
    {
     "data": {
      "text/plain": [
       "ok"
      ]
     },
     "execution_count": 11,
     "metadata": {},
     "output_type": "execute_result"
    }
   ],
   "source": [
    ";;         w\n",
    ";;   p1 ------- p3\n",
    ";;   |          |\n",
    ";; l |          | \n",
    ";;   |          | \n",
    ";;   p2 ------- p4\n",
    ";;\n",
    ";; p_i = (x_i, y_i)\n",
    "\n",
    ";; Lousy way of storing it, by storing all the four points\n",
    "(define (rectangle p1 p2 p3 p4) (list p1 p2 p3 p4))\n",
    "\n",
    "(define (get-length rectangle)\n",
    "  ;; |p3 - p1|\n",
    "  (distance (car rectangle) (cadr rectangle)))\n",
    "\n",
    "(define (get-width rectangle)\n",
    "  ;; |p2 - p1|\n",
    "  (distance (car rectangle) (caddr rectangle)))\n",
    "\n",
    ";; (0,1) (2,1)\n",
    ";; (0,0) (2,0)\n",
    "(assert = (get-length (rectangle (make-point 0 1) (make-point 0 0) (make-point 2 1) (make-point 2 0))) 1)\n",
    "(assert = (get-width (rectangle (make-point 0 1) (make-point 0 0) (make-point 2 1) (make-point 2 0))) 2)\n",
    "\n",
    ";; (0,1) (1,1)\n",
    ";; (0,0) (0,0)\n",
    "(assert = (rectangle-area (rectangle (make-point 0 1) (make-point 0 0) (make-point 1 1) (make-point 1 0))) 1)\n",
    "(assert = (rectangle-perimeter (rectangle (make-point 0 1) (make-point 0 0) (make-point 1 1) (make-point 1 0))) 4)\n",
    "\n",
    ";; (2,4) (5,4)\n",
    ";; (2,2) (5,2)\n",
    "(assert = (rectangle-area (rectangle (make-point 2 4) (make-point 2 2) (make-point 5 4) (make-point 5 2))) 6)\n",
    "(assert = (rectangle-perimeter (rectangle (make-point 2 4) (make-point 2 2) (make-point 5 4) (make-point 5 2))) 10)\n",
    "\n",
    ";; Rotated:\n",
    ";; (2,4) (5,7)\n",
    ";; (4,2) (7,5)\n",
    "(assert approx (rectangle-area (rectangle (make-point 2 4) (make-point 4 2) (make-point 5 7) (make-point 7 5))) 12)\n",
    "(assert approx (rectangle-perimeter (rectangle (make-point 2 4) (make-point 4 2) (make-point 5 7) (make-point 7 5))) 14.14)"
   ]
  },
  {
   "cell_type": "markdown",
   "id": "applied-citizenship",
   "metadata": {},
   "source": [
    "**Exercise 2.4.**  Here is an alternative procedural representation of pairs. For this representation, verify that `(car (cons x y))` yields $x$ for any objects $x$ and $y$.\n",
    "\n",
    "```scheme\n",
    "(define (cons x y)\n",
    "  (lambda (m) (m x y)))\n",
    "\n",
    "(define (car z)\n",
    "  (z (lambda (p q) p)))\n",
    "```\n",
    "\n",
    "What is the corresponding definition of `cdr`? (Hint: To verify that this works, make use of the substitution model of section 1.1.5.)"
   ]
  },
  {
   "cell_type": "code",
   "execution_count": 12,
   "id": "metallic-modification",
   "metadata": {},
   "outputs": [
    {
     "data": {
      "text/plain": [
       "ok"
      ]
     },
     "execution_count": 12,
     "metadata": {},
     "output_type": "execute_result"
    }
   ],
   "source": [
    "(define (λ-cons x y)\n",
    "  (lambda (m) (m x y)))\n",
    "\n",
    "(define (λ-car z)\n",
    "  (z (lambda (p q) p)))\n",
    "\n",
    "(define (λ-cdr z)\n",
    "  (z (lambda (p q) q)))\n",
    "\n",
    "(assert = (λ-car (λ-cons 1 2)) 1)\n",
    "(assert = (λ-cdr (λ-cons 1 2)) 2)"
   ]
  },
  {
   "cell_type": "markdown",
   "id": "naked-group",
   "metadata": {},
   "source": [
    "**Exercise 2.5.**  Show that we can represent pairs of nonnegative integers using only numbers and arithmetic operations if we represent the pair $a$ and $b$ as the integer that is the product $2^a 3^b$. Give the corresponding definitions of the procedures `cons`, `car`, and `cdr`."
   ]
  },
  {
   "cell_type": "markdown",
   "id": "comfortable-richmond",
   "metadata": {},
   "source": [
    "$$\n",
    "2^a 3^b = \\underbrace{2 \\cdot 2 \\cdot \\dots \\cdot 2}_{a ~\\times} \\cdot \\underbrace{3 \\cdot 3 \\cdot \\dots \\cdot 3}_{b ~\\times}\n",
    "$$\n",
    "\n",
    "so $(2^a 3^b) \\,/\\, 3 = 2^a 3^{b-1} $ etc."
   ]
  },
  {
   "cell_type": "code",
   "execution_count": 13,
   "id": "narrative-monte",
   "metadata": {},
   "outputs": [
    {
     "data": {
      "text/plain": [
       "ok"
      ]
     },
     "execution_count": 13,
     "metadata": {},
     "output_type": "execute_result"
    }
   ],
   "source": [
    "(define (arith-cons a b)\n",
    "  (* (expt 2 a)\n",
    "     (expt 3 b)))\n",
    "\n",
    "(define (arith-car x)\n",
    "  (define (iter x count)\n",
    "    (if (= 0 (remainder x 2))\n",
    "        (iter (/ x 2) (+ 1 count))\n",
    "        count))\n",
    "  (iter x 0))\n",
    "\n",
    "(define (arith-cdr x)\n",
    "  (define (iter x count)\n",
    "    (if (= 0 (remainder x 3))\n",
    "        (iter (/ x 3) (+ 1 count))\n",
    "        count))\n",
    "  (iter x 0))\n",
    "\n",
    "(assert = (arith-car (arith-cons 0 0)) 0)\n",
    "(assert = (arith-cdr (arith-cons 0 0)) 0)\n",
    "(assert = (arith-car (arith-cons 1 1)) 1)\n",
    "(assert = (arith-cdr (arith-cons 1 1)) 1)\n",
    "(assert = (arith-car (arith-cons 5 7)) 5)\n",
    "(assert = (arith-cdr (arith-cons 5 7)) 7)\n",
    "(assert = (arith-car (arith-cons 3 2)) 3)\n",
    "(assert = (arith-cdr (arith-cons 3 2)) 2)\n",
    "(assert = (arith-car (arith-cons 3 0)) 3)\n",
    "(assert = (arith-cdr (arith-cons 0 2)) 2)"
   ]
  },
  {
   "cell_type": "markdown",
   "id": "subject-breast",
   "metadata": {},
   "source": [
    "**Exercise 2.6.**  In case representing pairs as procedures wasn't mind-boggling enough, consider that, in a language that can manipulate procedures, we can get by without numbers (at least insofar as nonnegative integers are concerned) by implementing 0 and the operation of adding 1 as\n",
    "\n",
    "```scheme\n",
    "(define zero (lambda (f) (lambda (x) x)))\n",
    "\n",
    "(define (add-1 n)\n",
    "  (lambda (f) (lambda (x) (f ((n f) x)))))\n",
    "```\n",
    "\n",
    "This representation is known as Church numerals, after its inventor, Alonzo Church, the logician who invented the $\\lambda$-calculus.\n",
    "\n",
    "Define one and two directly (not in terms of `zero` and `add-1`). (Hint: Use substitution to evaluate `(add-1 zero)`). Give a direct definition of the addition procedure `+` (not in terms of repeated application of `add-1`). "
   ]
  },
  {
   "cell_type": "code",
   "execution_count": null,
   "id": "frozen-repair",
   "metadata": {},
   "outputs": [],
   "source": []
  },
  {
   "cell_type": "code",
   "execution_count": 14,
   "id": "differential-belize",
   "metadata": {},
   "outputs": [],
   "source": [
    ";; 2.1.4  Extended Exercise: Interval Arithmetic\n",
    "\n",
    "(define (add-interval x y)\n",
    "  (make-interval (+ (lower-bound x) (lower-bound y))\n",
    "                 (+ (upper-bound x) (upper-bound y))))\n",
    "\n",
    "(define (mul-interval x y)\n",
    "  (let ((p1 (* (lower-bound x) (lower-bound y)))\n",
    "        (p2 (* (lower-bound x) (upper-bound y)))\n",
    "        (p3 (* (upper-bound x) (lower-bound y)))\n",
    "        (p4 (* (upper-bound x) (upper-bound y))))\n",
    "    (make-interval (min p1 p2 p3 p4)\n",
    "                   (max p1 p2 p3 p4))))\n",
    "\n",
    "(define (div-interval x y)\n",
    "  (mul-interval x \n",
    "                (make-interval (/ 1.0 (upper-bound y))\n",
    "                               (/ 1.0 (lower-bound y)))))"
   ]
  },
  {
   "cell_type": "markdown",
   "id": "secure-parallel",
   "metadata": {},
   "source": [
    "https://en.wikipedia.org/wiki/Interval_arithmetic#Interval_operators\n",
    "\n",
    "$$\\begin{align}\n",
    "[x_1, x_2] + [y_1, y_2] &= [x_1+y_1, x_2+y_2] \\\\\n",
    "[x_1, x_2] - [y_1, y_2] &= [x_1-y_2, x_2-y_1] \\\\\n",
    "[x_1, x_2] \\cdot [y_1, y_2] &= [\\min \\{x_1 y_1,x_1 y_2,x_2 y_1,x_2 y_2\\}, \\max\\{x_1 y_1,x_1 y_2,x_2 y_1,x_2 y_2\\}] \\\\\n",
    "\\frac{[x_1, x_2]}{[y_1, y_2]} &= [x_1, x_2] \\cdot \\frac{1}{[y_1, y_2]}\n",
    "\\end{align}$$"
   ]
  },
  {
   "cell_type": "markdown",
   "id": "vietnamese-message",
   "metadata": {},
   "source": [
    "**Exercise 2.7.**  Alyssa's program is incomplete because she has not specified the implementation of the interval abstraction. Here is a definition of the interval constructor:"
   ]
  },
  {
   "cell_type": "code",
   "execution_count": 15,
   "id": "cognitive-concern",
   "metadata": {},
   "outputs": [],
   "source": [
    "(define (make-interval a b) (cons a b))"
   ]
  },
  {
   "cell_type": "markdown",
   "id": "finnish-overview",
   "metadata": {},
   "source": [
    "Define selectors `upper-bound` and `lower-bound` to complete the implementation."
   ]
  },
  {
   "cell_type": "code",
   "execution_count": 16,
   "id": "knowing-tongue",
   "metadata": {},
   "outputs": [
    {
     "data": {
      "text/plain": [
       "ok"
      ]
     },
     "execution_count": 16,
     "metadata": {},
     "output_type": "execute_result"
    }
   ],
   "source": [
    "(define (lower-bound interval) (car interval))\n",
    "(define (upper-bound interval) (cdr interval))\n",
    "\n",
    "(assert = (lower-bound (make-interval 1 2)) 1)\n",
    "(assert = (upper-bound (make-interval 1 2)) 2)\n",
    "(assert = (car (add-interval (make-interval 1 2) (make-interval 3 4))) 4)\n",
    "(assert = (cdr (add-interval (make-interval 1 2) (make-interval 3 4))) 6)"
   ]
  },
  {
   "cell_type": "markdown",
   "id": "boring-juice",
   "metadata": {},
   "source": [
    "**Exercise 2.8.**  Using reasoning analogous to Alyssa's, describe how the difference of two intervals may be computed. Define a corresponding subtraction procedure, called `sub-interval`."
   ]
  },
  {
   "cell_type": "code",
   "execution_count": 17,
   "id": "voluntary-shepherd",
   "metadata": {},
   "outputs": [
    {
     "data": {
      "text/plain": [
       "ok"
      ]
     },
     "execution_count": 17,
     "metadata": {},
     "output_type": "execute_result"
    }
   ],
   "source": [
    "(define (sub-interval x y)\n",
    "  (make-interval (- (lower-bound x) (upper-bound y))\n",
    "                 (- (upper-bound x) (lower-bound y))))\n",
    "\n",
    "(assert = (lower-bound (sub-interval (make-interval 10 20) (make-interval 1 2))) 8)\n",
    "(assert = (upper-bound (sub-interval (make-interval 10 20) (make-interval 1 2))) 19)"
   ]
  },
  {
   "cell_type": "markdown",
   "id": "promotional-estonia",
   "metadata": {},
   "source": [
    "**Exercise 2.9.**  The *width* of an interval is half of the difference between its upper and lower bounds. The width is a measure of the uncertainty of the number specified by the interval. For some arithmetic operations the width of the result of combining two intervals is a function only of the widths of the argument intervals, whereas for others the width of the combination is not a function of the widths of the argument intervals. Show that the width of the sum (or difference) of two intervals is a function only of the widths of the intervals being added (or subtracted). Give examples to show that this is not true for multiplication or division."
   ]
  },
  {
   "cell_type": "code",
   "execution_count": 18,
   "id": "vertical-survivor",
   "metadata": {},
   "outputs": [
    {
     "data": {
      "text/plain": [
       "ok"
      ]
     },
     "execution_count": 18,
     "metadata": {},
     "output_type": "execute_result"
    }
   ],
   "source": [
    "(define (width interval)\n",
    "  (/ (- (upper-bound interval)\n",
    "        (lower-bound interval))\n",
    "     2))\n",
    "\n",
    "(assert = (width (make-interval 0 10)) 5)"
   ]
  },
  {
   "cell_type": "markdown",
   "id": "norman-assessment",
   "metadata": {},
   "source": [
    "**Exercise 2.10.**  Ben Bitdiddle, an expert systems programmer, looks over Alyssa's shoulder and comments that it is not clear what it means to divide by an interval that spans zero. Modify Alyssa's code to check for this condition and to signal an error if it occurs."
   ]
  },
  {
   "cell_type": "code",
   "execution_count": 19,
   "id": "clear-touch",
   "metadata": {},
   "outputs": [
    {
     "data": {
      "text/plain": [
       "ok"
      ]
     },
     "execution_count": 19,
     "metadata": {},
     "output_type": "execute_result"
    }
   ],
   "source": [
    "(define (raises-error? expr)\n",
    "  (try (begin\n",
    "        (eval expr)\n",
    "        #f)\n",
    "       (catch 'error #t)))\n",
    "\n",
    "(assert eq? (raises-error? '(raise \"Oh no!\")) #t)\n",
    "(assert eq? (raises-error? '(lambda () (+ 2 2))) #f)"
   ]
  },
  {
   "cell_type": "code",
   "execution_count": 20,
   "id": "transparent-shape",
   "metadata": {},
   "outputs": [
    {
     "data": {
      "text/plain": [
       "ok"
      ]
     },
     "execution_count": 20,
     "metadata": {},
     "output_type": "execute_result"
    }
   ],
   "source": [
    "(define (div-interval x y)\n",
    "  (if (> (width y) 0)\n",
    "      (mul-interval x \n",
    "                    (make-interval (/ 1.0 (upper-bound y))\n",
    "                                   (/ 1.0 (lower-bound y))))\n",
    "      (raise \"Cannot divide by interval with span = 0\")))\n",
    "\n",
    "(assert eq? (raises-error? '(div-interval (make-interval 0 1) (make-interval 1 2))) #f)\n",
    "(assert eq? (raises-error? '(div-interval (make-interval 0 1) (make-interval 1 1))) #t)"
   ]
  },
  {
   "cell_type": "markdown",
   "id": "detailed-compromise",
   "metadata": {},
   "source": [
    "**Exercise 2.11.**  In passing, Ben also cryptically comments: \"By testing the signs of the endpoints of the intervals, it is possible to break `mul-interval` into nine cases, only one of which requires more than two multiplications.\" Rewrite this procedure using Ben's suggestion."
   ]
  },
  {
   "cell_type": "code",
   "execution_count": null,
   "id": "modular-bikini",
   "metadata": {},
   "outputs": [],
   "source": [
    ";; small+ * small+ = small+\n",
    ";; large+ * large+ = large+\n",
    ";; small+ * large- = moderate-\n",
    ";; large+ * small- = moderate-\n",
    ";; large+ * small- = moderate-\n",
    ";; small+ * large- = moderate-\n",
    ";; small- * small- = small-\n",
    ";; large- * large- = large-\n",
    "\n",
    "\n",
    "(define (mul-interval-light x y)\n",
    "    (let ((lx (lower-bound x))\n",
    "          (ux (upper-bound x))\n",
    "          (ly (lower-bound y))\n",
    "          (uy (upper-bound y)))\n",
    "      (cond\n",
    "       ((and (> lx 0) (> ux 0) (> ly 0) (> uy 0))\n",
    "        (make-interval (* (min lx ux) (min ly uy))\n",
    "                       (* (max lx ux) (max ly uy))))\n",
    "       \n",
    "       \n",
    "       )))"
   ]
  },
  {
   "cell_type": "markdown",
   "id": "binary-netherlands",
   "metadata": {},
   "source": [
    "After debugging her program, Alyssa shows it to a potential user, who complains that her program solves the wrong problem. He wants a program that can deal with numbers represented as a center value and an additive tolerance; for example, he wants to work with intervals such as $3.5\\pm 0.15$ rather than $[3.35, 3.65]$. Alyssa returns to her desk and fixes this problem by supplying an alternate constructor and alternate selectors:"
   ]
  },
  {
   "cell_type": "code",
   "execution_count": 21,
   "id": "pleased-consultation",
   "metadata": {},
   "outputs": [],
   "source": [
    "(define (make-center-width c w)\n",
    "  (make-interval (- c w) (+ c w)))\n",
    "(define (center i)\n",
    "  (/ (+ (lower-bound i) (upper-bound i)) 2))\n",
    "(define (width i)\n",
    "  (/ (- (upper-bound i) (lower-bound i)) 2))"
   ]
  },
  {
   "cell_type": "markdown",
   "id": "funny-concentrate",
   "metadata": {},
   "source": [
    "Unfortunately, most of Alyssa's users are engineers. Real engineering situations usually involve measurements with only a small uncertainty, measured as the ratio of the width of the interval to the midpoint of the interval. Engineers usually specify percentage tolerances on the parameters of devices, as in the resistor specifications given earlier."
   ]
  },
  {
   "cell_type": "markdown",
   "id": "offensive-report",
   "metadata": {},
   "source": [
    "**Exercise 2.12.**  Define a constructor `make-center-percent` that takes a center and a percentage tolerance and produces the desired interval. You must also define a selector `percent` that produces the percentage tolerance for a given interval. The `center` selector is the same as the one shown above."
   ]
  },
  {
   "cell_type": "code",
   "execution_count": 22,
   "id": "junior-reunion",
   "metadata": {},
   "outputs": [
    {
     "data": {
      "text/plain": [
       "ok"
      ]
     },
     "execution_count": 22,
     "metadata": {},
     "output_type": "execute_result"
    }
   ],
   "source": [
    "(define (make-center-percent c p)\n",
    "  (let ((w (* c p)))\n",
    "      (make-interval (- c w) (+ c w))))\n",
    "\n",
    "(define (width i)\n",
    "  (/ (- (upper-bound i) (lower-bound i)) 2))\n",
    "\n",
    "(assert = (width (make-center-percent 10 0.1)) 1)\n",
    "(assert = (lower-bound (make-center-percent 10 0.1)) 9)\n",
    "(assert = (upper-bound (make-center-percent 10 0.1)) 11)\n",
    "\n",
    "(assert = (lower-bound (make-center-width 10 1)) (lower-bound (make-center-percent 10 0.1)))\n",
    "(assert = (lower-bound (make-center-width 10 1)) (lower-bound (make-center-percent 10 0.1)))\n",
    "(assert = (upper-bound (make-center-width 1 0.1)) (upper-bound (make-center-percent 1 0.1)))\n",
    "(assert = (upper-bound (make-center-width 1 0.1)) (upper-bound (make-center-percent 1 0.1)))"
   ]
  },
  {
   "cell_type": "markdown",
   "id": "another-capital",
   "metadata": {},
   "source": [
    "**Exercise 2.13.**  Show that under the assumption of small percentage tolerances there is a simple formula for the approximate percentage tolerance of the product of two intervals in terms of the tolerances of the factors. You may simplify the problem by assuming that all numbers are positive."
   ]
  },
  {
   "cell_type": "code",
   "execution_count": null,
   "id": "hundred-circle",
   "metadata": {},
   "outputs": [],
   "source": []
  },
  {
   "cell_type": "markdown",
   "id": "macro-crime",
   "metadata": {},
   "source": [
    "After considerable work, Alyssa P. Hacker delivers her finished system. Several years later, after she has forgotten all about it, she gets a frenzied call from an irate user, Lem E. Tweakit. It seems that Lem has noticed that the formula for parallel resistors can be written in two algebraically equivalent ways:\n",
    "\n",
    "$$\n",
    "\\frac{R_1 R_2}{R_1 + R_2}\n",
    "$$\n",
    "\n",
    "and\n",
    "\n",
    "$$\n",
    "\\frac{1}{1/R_1 + 1/R_2}\n",
    "$$\n",
    "\n",
    "He has written the following two programs, each of which computes the parallel-resistors formula differently:"
   ]
  },
  {
   "cell_type": "code",
   "execution_count": 23,
   "id": "stupid-adoption",
   "metadata": {},
   "outputs": [],
   "source": [
    "(define (par1 r1 r2)\n",
    "  (div-interval (mul-interval r1 r2)\n",
    "                (add-interval r1 r2)))\n",
    "\n",
    "(define (par2 r1 r2)\n",
    "  (let ((one (make-interval 1 1))) \n",
    "    (div-interval one\n",
    "                  (add-interval (div-interval one r1)\n",
    "                                (div-interval one r2)))))"
   ]
  },
  {
   "cell_type": "markdown",
   "id": "electoral-wings",
   "metadata": {},
   "source": [
    "Lem complains that Alyssa's program gives different answers for the two ways of computing. This is a serious complaint."
   ]
  },
  {
   "cell_type": "markdown",
   "id": "recreational-manual",
   "metadata": {},
   "source": [
    "**Exercise 2.14.**  Demonstrate that Lem is right. Investigate the behavior of the system on a variety of arithmetic expressions. Make some intervals $A$ and $B$, and use them in computing the expressions $A/A$ and $A/B$. You will get the most insight by using intervals whose width is a small percentage of the center value. Examine the results of the computation in center-percent form (see exercise 2.12)."
   ]
  },
  {
   "cell_type": "code",
   "execution_count": 24,
   "id": "described-hypothetical",
   "metadata": {},
   "outputs": [
    {
     "name": "stdout",
     "output_type": "stream",
     "text": [
      "(3.681818181818182 . 6.722222222222221)\n",
      "(4.5 . 5.5)\n",
      "(0.6694214876033058 . 1.2222222222222223)\n",
      "(0.8181818181818181 . 1.0)\n",
      "(0.15151515151515152 . 4.090909090909091)\n",
      "(0.45454545454545453 . 1.3636363636363638)\n"
     ]
    }
   ],
   "source": [
    "(print (par1 (make-center-percent 10 0.1) (make-center-percent 10 0.1)))\n",
    "(print (par2 (make-center-percent 10 0.1) (make-center-percent 10 0.1)))\n",
    "(print (par1 (make-center-percent 10 0.1) (make-center-width 1 0.1)))\n",
    "(print (par2 (make-center-percent 10 0.1) (make-center-width 1 0.1)))\n",
    "(print (par1 (make-center-percent 10 0.5) (make-center-width 1 0.5)))\n",
    "(print (par2 (make-center-percent 10 0.5) (make-center-width 1 0.5)))"
   ]
  },
  {
   "cell_type": "markdown",
   "id": "downtown-morris",
   "metadata": {},
   "source": [
    "**Exercise 2.15.**  Eva Lu Ator, another user, has also noticed the different intervals computed by different but algebraically equivalent expressions. She says that a formula to compute with intervals using Alyssa's system will produce tighter error bounds if it can be written in such a form that no variable that represents an uncertain number is repeated. Thus, she says, `par2` is a \"better\" program for parallel resistances than `par1`. Is she right? Why?"
   ]
  },
  {
   "cell_type": "code",
   "execution_count": null,
   "id": "stunning-priest",
   "metadata": {},
   "outputs": [],
   "source": []
  },
  {
   "cell_type": "markdown",
   "id": "compressed-amber",
   "metadata": {},
   "source": [
    "**Exercise 2.16.**  Explain, in general, why equivalent algebraic expressions may lead to different answers. Can you devise an interval-arithmetic package that does not have this shortcoming, or is this task impossible? (Warning: This problem is very difficult.) "
   ]
  },
  {
   "cell_type": "code",
   "execution_count": null,
   "id": "usual-traffic",
   "metadata": {},
   "outputs": [],
   "source": []
  }
 ],
 "metadata": {
  "kernelspec": {
   "display_name": "Calysto Scheme 3",
   "language": "scheme",
   "name": "calysto_scheme"
  },
  "language_info": {
   "codemirror_mode": {
    "name": "scheme"
   },
   "mimetype": "text/x-scheme",
   "name": "scheme",
   "pygments_lexer": "scheme"
  }
 },
 "nbformat": 4,
 "nbformat_minor": 5
}
