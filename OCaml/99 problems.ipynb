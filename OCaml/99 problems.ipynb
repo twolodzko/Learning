{
 "cells": [
  {
   "cell_type": "markdown",
   "metadata": {},
   "source": [
    "# 99 Problems\n",
    "\n",
    "Solving the [99 problems](https://ocaml.org/learn/tutorials/99problems.html) in OCaml."
   ]
  },
  {
   "cell_type": "markdown",
   "metadata": {},
   "source": [
    "# Working with lists\n",
    "\n",
    "## 1. Write a function `last : 'a list -> 'a option` that returns the last element of a list. (easy)"
   ]
  },
  {
   "cell_type": "code",
   "execution_count": 1,
   "metadata": {},
   "outputs": [
    {
     "data": {
      "text/plain": [
       "val last : 'a list -> 'a option = <fun>\n"
      ]
     },
     "execution_count": 1,
     "metadata": {},
     "output_type": "execute_result"
    },
    {
     "data": {
      "text/plain": [
       "- : unit = ()\n"
      ]
     },
     "execution_count": 1,
     "metadata": {},
     "output_type": "execute_result"
    },
    {
     "data": {
      "text/plain": [
       "- : unit = ()\n"
      ]
     },
     "execution_count": 1,
     "metadata": {},
     "output_type": "execute_result"
    }
   ],
   "source": [
    "let rec last = function\n",
    "    | [] -> None\n",
    "    | [x] -> Some x\n",
    "    | _ :: t -> last t ;;\n",
    "\n",
    "assert ((last [ \"a\" ; \"b\" ; \"c\" ; \"d\" ]) = Some \"d\") ;;\n",
    "assert ((last []) = None) ;;"
   ]
  },
  {
   "cell_type": "markdown",
   "metadata": {},
   "source": [
    "## 2. Find the last but one (last and penultimate) elements of a list. (easy)"
   ]
  },
  {
   "cell_type": "code",
   "execution_count": 2,
   "metadata": {},
   "outputs": [
    {
     "data": {
      "text/plain": [
       "val last_two : 'a list -> ('a * 'a) option = <fun>\n"
      ]
     },
     "execution_count": 2,
     "metadata": {},
     "output_type": "execute_result"
    },
    {
     "data": {
      "text/plain": [
       "- : unit = ()\n"
      ]
     },
     "execution_count": 2,
     "metadata": {},
     "output_type": "execute_result"
    },
    {
     "data": {
      "text/plain": [
       "- : unit = ()\n"
      ]
     },
     "execution_count": 2,
     "metadata": {},
     "output_type": "execute_result"
    }
   ],
   "source": [
    "let rec last_two = function\n",
    "    | [] | [_] -> None\n",
    "    | [x; y] -> Some (x, y)\n",
    "    | _ :: t -> last_two t ;;\n",
    "\n",
    "assert ((last_two [ \"a\" ; \"b\" ; \"c\" ; \"d\" ]) = Some (\"c\", \"d\")) ;;\n",
    "assert ((last_two [ \"a\" ]) = None) ;;"
   ]
  },
  {
   "cell_type": "markdown",
   "metadata": {},
   "source": [
    "## 3. Find the k'th element of a list. (easy)"
   ]
  },
  {
   "cell_type": "code",
   "execution_count": 3,
   "metadata": {},
   "outputs": [
    {
     "data": {
      "text/plain": [
       "val at : int -> 'a list -> 'a option = <fun>\n"
      ]
     },
     "execution_count": 3,
     "metadata": {},
     "output_type": "execute_result"
    },
    {
     "data": {
      "text/plain": [
       "- : unit = ()\n"
      ]
     },
     "execution_count": 3,
     "metadata": {},
     "output_type": "execute_result"
    },
    {
     "data": {
      "text/plain": [
       "- : unit = ()\n"
      ]
     },
     "execution_count": 3,
     "metadata": {},
     "output_type": "execute_result"
    }
   ],
   "source": [
    "let rec at k lst =\n",
    "    match lst with\n",
    "        | [] -> None\n",
    "        | h :: t -> if k = 1 then Some h else at (k-1) t ;;  \n",
    "    \n",
    "assert ((at 3 [ \"a\" ; \"b\"; \"c\"; \"d\"; \"e\" ]) = Some \"c\") ;;\n",
    "assert ((at 3 [ \"a\" ]) = None) ;;"
   ]
  },
  {
   "cell_type": "markdown",
   "metadata": {},
   "source": [
    "*Solution:*"
   ]
  },
  {
   "cell_type": "code",
   "execution_count": 4,
   "metadata": {},
   "outputs": [
    {
     "data": {
      "text/plain": [
       "val at : int -> 'a list -> 'a option = <fun>\n"
      ]
     },
     "execution_count": 4,
     "metadata": {},
     "output_type": "execute_result"
    }
   ],
   "source": [
    "let rec at k = function\n",
    "    | [] -> None\n",
    "    | h :: t -> if k = 1 then Some h else at (k-1) t;;"
   ]
  },
  {
   "cell_type": "markdown",
   "metadata": {},
   "source": [
    "## 4. Find the number of elements of a list. (easy)"
   ]
  },
  {
   "cell_type": "code",
   "execution_count": 5,
   "metadata": {},
   "outputs": [
    {
     "data": {
      "text/plain": [
       "val count : int -> 'a list -> int = <fun>\n"
      ]
     },
     "execution_count": 5,
     "metadata": {},
     "output_type": "execute_result"
    },
    {
     "data": {
      "text/plain": [
       "val length : '_a list -> int = <fun>\n"
      ]
     },
     "execution_count": 5,
     "metadata": {},
     "output_type": "execute_result"
    },
    {
     "data": {
      "text/plain": [
       "- : unit = ()\n"
      ]
     },
     "execution_count": 5,
     "metadata": {},
     "output_type": "execute_result"
    },
    {
     "data": {
      "text/plain": [
       "- : unit = ()\n"
      ]
     },
     "execution_count": 5,
     "metadata": {},
     "output_type": "execute_result"
    }
   ],
   "source": [
    "let rec count n = function\n",
    "    | [] -> n\n",
    "    | _ :: t -> count (n+1) t ;;\n",
    "\n",
    "let length = count 0 ;;\n",
    "\n",
    "assert ((length [ \"a\" ; \"b\" ; \"c\"]) = 3) ;;\n",
    "assert ((length []) = 0) ;;"
   ]
  },
  {
   "cell_type": "markdown",
   "metadata": {},
   "source": [
    "*Solution:*"
   ]
  },
  {
   "cell_type": "code",
   "execution_count": 6,
   "metadata": {},
   "outputs": [
    {
     "data": {
      "text/plain": [
       "val length : 'a list -> int = <fun>\n"
      ]
     },
     "execution_count": 6,
     "metadata": {},
     "output_type": "execute_result"
    }
   ],
   "source": [
    "let length list =\n",
    "    let rec aux n = function\n",
    "        | [] -> n\n",
    "        | _::t -> aux (n+1) t\n",
    "    in aux 0 list ;;"
   ]
  },
  {
   "cell_type": "markdown",
   "metadata": {},
   "source": [
    "## 5. Reverse a list. (easy)"
   ]
  },
  {
   "cell_type": "code",
   "execution_count": 7,
   "metadata": {},
   "outputs": [
    {
     "data": {
      "text/plain": [
       "val rev : 'a list -> 'a list = <fun>\n"
      ]
     },
     "execution_count": 7,
     "metadata": {},
     "output_type": "execute_result"
    },
    {
     "data": {
      "text/plain": [
       "- : unit = ()\n"
      ]
     },
     "execution_count": 7,
     "metadata": {},
     "output_type": "execute_result"
    }
   ],
   "source": [
    "let rec rev = function\n",
    "    | [] -> []\n",
    "    | [x] -> [x]\n",
    "    | h :: t -> (rev t) @ [h] ;;\n",
    "\n",
    "assert ((rev [\"a\" ; \"b\" ; \"c\"]) = [\"c\"; \"b\"; \"a\"]) ;;"
   ]
  },
  {
   "cell_type": "markdown",
   "metadata": {},
   "source": [
    "*Solution:*"
   ]
  },
  {
   "cell_type": "code",
   "execution_count": 8,
   "metadata": {},
   "outputs": [
    {
     "data": {
      "text/plain": [
       "val rev : 'a list -> 'a list = <fun>\n"
      ]
     },
     "execution_count": 8,
     "metadata": {},
     "output_type": "execute_result"
    }
   ],
   "source": [
    "let rev list =\n",
    "    let rec aux acc = function\n",
    "        | [] -> acc\n",
    "        | h :: t -> aux (h :: acc) t in\n",
    "    aux [] list ;;"
   ]
  },
  {
   "cell_type": "markdown",
   "metadata": {},
   "source": [
    "## 6. Find out whether a list is a palindrome. (easy)"
   ]
  },
  {
   "cell_type": "code",
   "execution_count": 9,
   "metadata": {},
   "outputs": [
    {
     "data": {
      "text/plain": [
       "val is_palindrome : 'a list -> bool = <fun>\n"
      ]
     },
     "execution_count": 9,
     "metadata": {},
     "output_type": "execute_result"
    },
    {
     "data": {
      "text/plain": [
       "- : unit = ()\n"
      ]
     },
     "execution_count": 9,
     "metadata": {},
     "output_type": "execute_result"
    },
    {
     "data": {
      "text/plain": [
       "- : unit = ()\n"
      ]
     },
     "execution_count": 9,
     "metadata": {},
     "output_type": "execute_result"
    }
   ],
   "source": [
    "let is_palindrome lst = lst = (rev lst) ;;\n",
    "\n",
    "assert (is_palindrome [ \"x\" ; \"a\" ; \"m\" ; \"a\" ; \"x\" ]) ;;\n",
    "assert (not (is_palindrome [ \"a\" ; \"b\" ])) ;;"
   ]
  },
  {
   "cell_type": "markdown",
   "metadata": {},
   "source": [
    "## 7. Flatten a nested list structure. (medium)"
   ]
  },
  {
   "cell_type": "code",
   "execution_count": 10,
   "metadata": {},
   "outputs": [
    {
     "data": {
      "text/plain": [
       "type 'a node = One of 'a | Many of 'a node list\n"
      ]
     },
     "execution_count": 10,
     "metadata": {},
     "output_type": "execute_result"
    }
   ],
   "source": [
    "(* There is no nested list type in OCaml, so we need to define one\n",
    "   first. A node of a nested list is either an element, or a list of\n",
    "   nodes. *)\n",
    "     \n",
    "type 'a node =\n",
    "    | One of 'a \n",
    "    | Many of 'a node list ;;"
   ]
  },
  {
   "cell_type": "code",
   "execution_count": 11,
   "metadata": {},
   "outputs": [
    {
     "data": {
      "text/plain": [
       "val l : string node list =\n",
       "  [One \"a\"; Many [One \"b\"; Many [One \"c\"; One \"d\"]; One \"e\"]]\n"
      ]
     },
     "execution_count": 11,
     "metadata": {},
     "output_type": "execute_result"
    },
    {
     "data": {
      "text/plain": [
       "val flatten : 'a node list -> 'a list = <fun>\n"
      ]
     },
     "execution_count": 11,
     "metadata": {},
     "output_type": "execute_result"
    },
    {
     "data": {
      "text/plain": [
       "- : unit = ()\n"
      ]
     },
     "execution_count": 11,
     "metadata": {},
     "output_type": "execute_result"
    }
   ],
   "source": [
    "let l = [ One \"a\" ; Many [ One \"b\" ; Many [ One \"c\" ; One \"d\" ] ; One \"e\" ] ] ;;\n",
    "\n",
    "let rec flatten = function\n",
    "    | [] -> []\n",
    "    | One h :: t -> [h] @ (flatten t)\n",
    "    | Many h :: t -> (flatten h) @ (flatten t) ;;\n",
    "\n",
    "\n",
    "assert ((flatten [ One \"a\" ; Many [ One \"b\" ; Many [ One \"c\" ; One \"d\" ] ; One \"e\" ] ]) = [\"a\"; \"b\"; \"c\"; \"d\"; \"e\"]) ;;"
   ]
  },
  {
   "cell_type": "markdown",
   "metadata": {},
   "source": [
    "*Solution:*"
   ]
  },
  {
   "cell_type": "code",
   "execution_count": 12,
   "metadata": {},
   "outputs": [
    {
     "data": {
      "text/plain": [
       "val flatten : 'a node list -> 'a list = <fun>\n"
      ]
     },
     "execution_count": 12,
     "metadata": {},
     "output_type": "execute_result"
    }
   ],
   "source": [
    "let flatten list =\n",
    "    let rec aux acc = function\n",
    "        | [] -> acc\n",
    "        | One x :: t -> aux (x :: acc) t\n",
    "        | Many l :: t -> aux (aux acc l) t in\n",
    "    List.rev (aux [] list) ;;"
   ]
  },
  {
   "cell_type": "markdown",
   "metadata": {},
   "source": [
    "## 8. Eliminate consecutive duplicates of list elements. (medium)"
   ]
  },
  {
   "cell_type": "code",
   "execution_count": 13,
   "metadata": {},
   "outputs": [
    {
     "data": {
      "text/plain": [
       "val compress : 'a list -> 'a list = <fun>\n"
      ]
     },
     "execution_count": 13,
     "metadata": {},
     "output_type": "execute_result"
    },
    {
     "data": {
      "text/plain": [
       "- : unit = ()\n"
      ]
     },
     "execution_count": 13,
     "metadata": {},
     "output_type": "execute_result"
    }
   ],
   "source": [
    "let compress lst =\n",
    "    let rec collect inp out =\n",
    "        match inp, out with\n",
    "            | [], [] -> inp\n",
    "            | [x], [] -> inp\n",
    "            | [], _ -> out\n",
    "            | x :: t, [] -> collect t [x]\n",
    "            | x :: t, y :: _ ->\n",
    "                if x = y\n",
    "                then collect t out\n",
    "                else collect t (x :: out)\n",
    "    in\n",
    "    rev (collect lst []) ;;\n",
    "        \n",
    "\n",
    "assert ((compress [\"a\";\"a\";\"a\";\"a\";\"b\";\"c\";\"c\";\"a\";\"a\";\"d\";\"e\";\"e\";\"e\";\"e\"]) = [\"a\"; \"b\"; \"c\"; \"a\"; \"d\"; \"e\"]) ;;"
   ]
  },
  {
   "cell_type": "markdown",
   "metadata": {},
   "source": [
    "*Solution:*"
   ]
  },
  {
   "cell_type": "code",
   "execution_count": 14,
   "metadata": {},
   "outputs": [
    {
     "data": {
      "text/plain": [
       "val compress : 'a list -> 'a list = <fun>\n"
      ]
     },
     "execution_count": 14,
     "metadata": {},
     "output_type": "execute_result"
    }
   ],
   "source": [
    "let rec compress = function\n",
    "    | a :: (b :: _ as t) -> if a = b then compress t else a :: compress t\n",
    "    | smaller -> smaller ;;"
   ]
  },
  {
   "cell_type": "markdown",
   "metadata": {},
   "source": [
    "## 9. Pack consecutive duplicates of list elements into sublists. (medium)"
   ]
  },
  {
   "cell_type": "code",
   "execution_count": 15,
   "metadata": {},
   "outputs": [
    {
     "data": {
      "text/plain": [
       "val pack : 'a list -> 'a list list = <fun>\n"
      ]
     },
     "execution_count": 15,
     "metadata": {},
     "output_type": "execute_result"
    },
    {
     "data": {
      "text/plain": [
       "- : unit = ()\n"
      ]
     },
     "execution_count": 15,
     "metadata": {},
     "output_type": "execute_result"
    }
   ],
   "source": [
    "let pack =\n",
    "    let rec last = function\n",
    "        | [] -> None\n",
    "        | [x] -> Some x\n",
    "        | h :: t -> last t\n",
    "    in\n",
    "    let rec collect tmp container = function\n",
    "        | [] -> container @ [tmp]\n",
    "        | h :: t ->\n",
    "            if Some h = (last tmp)\n",
    "            then collect (tmp @ [h]) container t\n",
    "            else collect [h] (container @ [tmp]) t\n",
    "    in function\n",
    "    | h :: t -> collect [h] [] t\n",
    "    | smaller -> [smaller] ;;\n",
    "\n",
    "\n",
    "assert ((pack [\"a\";\"a\";\"a\";\"a\";\"b\";\"c\";\"c\";\"a\";\"a\";\"d\";\"d\";\"e\";\"e\";\"e\";\"e\"]) = [[\"a\"; \"a\"; \"a\"; \"a\"]; [\"b\"]; [\"c\"; \"c\"]; [\"a\"; \"a\"]; [\"d\"; \"d\"]; [\"e\"; \"e\"; \"e\"; \"e\"]]) ;;"
   ]
  },
  {
   "cell_type": "markdown",
   "metadata": {},
   "source": [
    "*Solution:*"
   ]
  },
  {
   "cell_type": "code",
   "execution_count": 16,
   "metadata": {},
   "outputs": [
    {
     "data": {
      "text/plain": [
       "val pack : 'a list -> 'a list list = <fun>\n"
      ]
     },
     "execution_count": 16,
     "metadata": {},
     "output_type": "execute_result"
    }
   ],
   "source": [
    "let pack list =\n",
    "    let rec aux current acc = function\n",
    "      | [] -> []    (* Can only be reached if original list is empty *)\n",
    "      | [x] -> (x :: current) :: acc\n",
    "      | a :: (b :: _ as t) ->\n",
    "         if a = b then aux (a :: current) acc t\n",
    "         else aux [] ((a :: current) :: acc) t  in\n",
    "    List.rev (aux [] [] list) ;;"
   ]
  },
  {
   "cell_type": "markdown",
   "metadata": {},
   "source": [
    "## 10. Run-length encoding of a list. (easy)"
   ]
  },
  {
   "cell_type": "code",
   "execution_count": 17,
   "metadata": {},
   "outputs": [
    {
     "data": {
      "text/plain": [
       "val encode : 'a list -> (int * 'a) list = <fun>\n"
      ]
     },
     "execution_count": 17,
     "metadata": {},
     "output_type": "execute_result"
    },
    {
     "data": {
      "text/plain": [
       "- : unit = ()\n"
      ]
     },
     "execution_count": 17,
     "metadata": {},
     "output_type": "execute_result"
    }
   ],
   "source": [
    "let encode =\n",
    "    let rec aux acc counter lst =\n",
    "        match counter, lst with\n",
    "            | _, [] -> acc @ [counter]\n",
    "            | (n, a), b :: t ->\n",
    "                if a = b then aux acc (n+1, a) t\n",
    "                else aux (acc @ [counter]) (1, b) t\n",
    "    in function\n",
    "    | [] -> []\n",
    "    | h :: t -> aux [] (1, h) t ;;\n",
    "\n",
    "\n",
    "assert ((encode [\"a\";\"a\";\"a\";\"a\";\"b\";\"c\";\"c\";\"a\";\"a\";\"d\";\"e\";\"e\";\"e\";\"e\"]) = [(4, \"a\"); (1, \"b\"); (2, \"c\"); (2, \"a\"); (1, \"d\"); (4, \"e\")]) ;;"
   ]
  },
  {
   "cell_type": "markdown",
   "metadata": {},
   "source": [
    "*Solution:*"
   ]
  },
  {
   "cell_type": "code",
   "execution_count": 18,
   "metadata": {},
   "outputs": [
    {
     "data": {
      "text/plain": [
       "val encode : 'a list -> (int * 'a) list = <fun>\n"
      ]
     },
     "execution_count": 18,
     "metadata": {},
     "output_type": "execute_result"
    }
   ],
   "source": [
    "let encode list =\n",
    "    let rec aux count acc = function\n",
    "        | [] -> [] (* Can only be reached if original list is empty *)\n",
    "        | [x] -> (count+1, x) :: acc\n",
    "        | a :: (b :: _ as t) -> if a = b then aux (count + 1) acc t\n",
    "                              else aux 0 ((count+1, a) :: acc) t in\n",
    "    List.rev (aux 0 [] list) ;;"
   ]
  },
  {
   "cell_type": "markdown",
   "metadata": {},
   "source": [
    "## 11. Modified run-length encoding. (easy)"
   ]
  },
  {
   "cell_type": "code",
   "execution_count": 19,
   "metadata": {},
   "outputs": [
    {
     "data": {
      "text/plain": [
       "type 'a rle = One of 'a | Many of int * 'a\n"
      ]
     },
     "execution_count": 19,
     "metadata": {},
     "output_type": "execute_result"
    }
   ],
   "source": [
    "type 'a rle =\n",
    "    | One of 'a\n",
    "    | Many of int * 'a ;;"
   ]
  },
  {
   "cell_type": "code",
   "execution_count": 20,
   "metadata": {},
   "outputs": [
    {
     "data": {
      "text/plain": [
       "val encode : 'a list -> 'a rle list = <fun>\n"
      ]
     },
     "execution_count": 20,
     "metadata": {},
     "output_type": "execute_result"
    },
    {
     "data": {
      "text/plain": [
       "- : unit = ()\n"
      ]
     },
     "execution_count": 20,
     "metadata": {},
     "output_type": "execute_result"
    }
   ],
   "source": [
    "let encode lst =\n",
    "    let get count x =\n",
    "        if count = 1 then [One x] else [Many (count, x)]\n",
    "    in\n",
    "    let rec aux count acc = function\n",
    "        | [] -> []\n",
    "        | [x] -> acc @ (get count x)\n",
    "        | a :: (b :: _ as t) -> if a = b then aux (count + 1) acc t\n",
    "                                else aux 1 (acc @ (get count a)) t\n",
    "    in\n",
    "    aux 1 [] lst ;;\n",
    "\n",
    "\n",
    "assert ((encode [\"a\";\"a\";\"a\";\"a\";\"b\";\"c\";\"c\";\"a\";\"a\";\"d\";\"e\";\"e\";\"e\";\"e\"]) = [Many (4, \"a\"); One \"b\"; Many (2, \"c\"); Many (2, \"a\"); One \"d\"; Many (4, \"e\")]) ;;"
   ]
  },
  {
   "cell_type": "markdown",
   "metadata": {},
   "source": [
    "## 12. Decode a run-length encoded list. (medium)"
   ]
  },
  {
   "cell_type": "code",
   "execution_count": 21,
   "metadata": {},
   "outputs": [
    {
     "data": {
      "text/plain": [
       "val decode : 'a rle list -> 'a list = <fun>\n"
      ]
     },
     "execution_count": 21,
     "metadata": {},
     "output_type": "execute_result"
    },
    {
     "data": {
      "text/plain": [
       "- : unit = ()\n"
      ]
     },
     "execution_count": 21,
     "metadata": {},
     "output_type": "execute_result"
    }
   ],
   "source": [
    "let decode lst =\n",
    "    let rec unfold acc = function\n",
    "        | One x -> [x]\n",
    "        | Many (n, x) ->\n",
    "            if n = 0 then acc\n",
    "            else unfold (acc @ [x]) (Many (n-1, x))\n",
    "    in\n",
    "    let rec aux acc = function\n",
    "        | [] -> []\n",
    "        | [x] -> acc @ (unfold [] x)\n",
    "        | h :: t -> aux (acc @ (unfold [] h)) t\n",
    "    in\n",
    "    aux [] lst ;;\n",
    "\n",
    "\n",
    "assert ((decode [Many (4,\"a\"); One \"b\"; Many (2,\"c\"); Many (2,\"a\"); One \"d\"; Many (4,\"e\")]) = [\"a\"; \"a\"; \"a\"; \"a\"; \"b\"; \"c\"; \"c\"; \"a\"; \"a\"; \"d\"; \"e\"; \"e\"; \"e\"; \"e\"]) ;;"
   ]
  },
  {
   "cell_type": "markdown",
   "metadata": {},
   "source": [
    "## 13. Run-length encoding of a list (direct solution). (medium)\n",
    "\n",
    "Implement the so-called run-length encoding data compression method directly. I.e. don't explicitly create the sublists containing the duplicates, as in problem \"Pack consecutive duplicates of list elements into sublists\", but only count them. As in problem \"Modified run-length encoding\", simplify the result list by replacing the singleton lists (1 X) by X."
   ]
  },
  {
   "cell_type": "code",
   "execution_count": 22,
   "metadata": {},
   "outputs": [],
   "source": [
    "(* I already did this in 11 *)"
   ]
  },
  {
   "cell_type": "markdown",
   "metadata": {},
   "source": [
    "*Solution:*"
   ]
  },
  {
   "cell_type": "code",
   "execution_count": 23,
   "metadata": {},
   "outputs": [
    {
     "data": {
      "text/plain": [
       "val encode : 'a list -> 'a rle list = <fun>\n"
      ]
     },
     "execution_count": 23,
     "metadata": {},
     "output_type": "execute_result"
    }
   ],
   "source": [
    "let encode list =\n",
    "    let rle count x = if count = 0 then One x else Many (count + 1, x) in\n",
    "    let rec aux count acc = function\n",
    "      | [] -> [] (* Can only be reached if original list is empty *)\n",
    "      | [x] -> rle count x :: acc\n",
    "      | a :: (b :: _ as t) -> if a = b then aux (count + 1) acc t\n",
    "                              else aux 0 (rle count a :: acc) t  in\n",
    "    List.rev (aux 0 [] list) ;;"
   ]
  },
  {
   "cell_type": "markdown",
   "metadata": {},
   "source": [
    "## 14. Duplicate the elements of a list. (easy)"
   ]
  },
  {
   "cell_type": "code",
   "execution_count": 24,
   "metadata": {},
   "outputs": [
    {
     "data": {
      "text/plain": [
       "val duplicate : 'a list -> 'a list = <fun>\n"
      ]
     },
     "execution_count": 24,
     "metadata": {},
     "output_type": "execute_result"
    },
    {
     "data": {
      "text/plain": [
       "- : unit = ()\n"
      ]
     },
     "execution_count": 24,
     "metadata": {},
     "output_type": "execute_result"
    }
   ],
   "source": [
    "let duplicate lst = \n",
    "    let rec aux = function\n",
    "        | [] -> []\n",
    "        | h :: t -> [h; h] @ (aux t)\n",
    "    in\n",
    "    aux lst ;;\n",
    "\n",
    "\n",
    "assert ((duplicate [\"a\";\"b\";\"c\";\"c\";\"d\"]) = [\"a\"; \"a\"; \"b\"; \"b\"; \"c\"; \"c\"; \"c\"; \"c\"; \"d\"; \"d\"]) ;;"
   ]
  },
  {
   "cell_type": "markdown",
   "metadata": {},
   "source": [
    "## 15. Replicate the elements of a list a given number of times. (medium)"
   ]
  },
  {
   "cell_type": "code",
   "execution_count": 25,
   "metadata": {},
   "outputs": [
    {
     "data": {
      "text/plain": [
       "val replicate : 'a list -> int -> 'a list = <fun>\n"
      ]
     },
     "execution_count": 25,
     "metadata": {},
     "output_type": "execute_result"
    },
    {
     "data": {
      "text/plain": [
       "- : unit = ()\n"
      ]
     },
     "execution_count": 25,
     "metadata": {},
     "output_type": "execute_result"
    }
   ],
   "source": [
    "let replicate lst n = \n",
    "    let rec rep x n = if n = 0 then [] else x :: (rep x (n-1)) in\n",
    "    let rec aux = function\n",
    "        | [] -> []\n",
    "        | h :: t -> (rep h n) @ (aux t)\n",
    "    in\n",
    "    aux lst ;;\n",
    "\n",
    "\n",
    "assert ((replicate [\"a\";\"b\";\"c\"] 3) = [\"a\"; \"a\"; \"a\"; \"b\"; \"b\"; \"b\"; \"c\"; \"c\"; \"c\"]) ;;"
   ]
  },
  {
   "cell_type": "markdown",
   "metadata": {},
   "source": [
    "## 16. Drop every N'th element from a list. (medium)"
   ]
  },
  {
   "cell_type": "code",
   "execution_count": 26,
   "metadata": {},
   "outputs": [
    {
     "data": {
      "text/plain": [
       "val drop : 'a list -> int -> 'a list = <fun>\n"
      ]
     },
     "execution_count": 26,
     "metadata": {},
     "output_type": "execute_result"
    },
    {
     "data": {
      "text/plain": [
       "- : unit = ()\n"
      ]
     },
     "execution_count": 26,
     "metadata": {},
     "output_type": "execute_result"
    }
   ],
   "source": [
    "let drop lst k =\n",
    "    let rec aux n acc = function\n",
    "        | [] -> acc\n",
    "        | h :: t ->\n",
    "            if n = k then aux 1 acc t\n",
    "            else aux (n+1) (acc @ [h]) t\n",
    "    in\n",
    "    aux 1 [] lst ;;\n",
    "\n",
    "\n",
    "assert ((drop [\"a\";\"b\";\"c\";\"d\";\"e\";\"f\";\"g\";\"h\";\"i\";\"j\"] 3) = [\"a\"; \"b\"; \"d\"; \"e\"; \"g\"; \"h\"; \"j\"]) ;;"
   ]
  },
  {
   "cell_type": "markdown",
   "metadata": {},
   "source": [
    "## 17. Split a list into two parts; the length of the first part is given. (easy)\n",
    "\n",
    "If the length of the first part is longer than the entire list, then the first part is the list and the second part is empty."
   ]
  },
  {
   "cell_type": "code",
   "execution_count": 27,
   "metadata": {},
   "outputs": [
    {
     "data": {
      "text/plain": [
       "val split : 'a list -> int -> 'a list * 'a list = <fun>\n"
      ]
     },
     "execution_count": 27,
     "metadata": {},
     "output_type": "execute_result"
    },
    {
     "data": {
      "text/plain": [
       "- : unit = ()\n"
      ]
     },
     "execution_count": 27,
     "metadata": {},
     "output_type": "execute_result"
    },
    {
     "data": {
      "text/plain": [
       "- : unit = ()\n"
      ]
     },
     "execution_count": 27,
     "metadata": {},
     "output_type": "execute_result"
    }
   ],
   "source": [
    "let split lst n =\n",
    "    let rec aux k acc = function\n",
    "        | [] -> (acc, [])\n",
    "        | (h :: t as r) -> \n",
    "            if k = n then (acc, r)\n",
    "            else aux (k+1) (acc @ [h]) t\n",
    "    in\n",
    "    aux 0 [] lst ;;\n",
    "\n",
    "\n",
    "assert ((split [\"a\";\"b\";\"c\";\"d\";\"e\";\"f\";\"g\";\"h\";\"i\";\"j\"] 3) = ([\"a\"; \"b\"; \"c\"], [\"d\"; \"e\"; \"f\"; \"g\"; \"h\"; \"i\"; \"j\"])) ;;\n",
    "assert ((split [\"a\";\"b\";\"c\";\"d\"] 5) = ([\"a\"; \"b\"; \"c\"; \"d\"], [])) ;;"
   ]
  },
  {
   "cell_type": "markdown",
   "metadata": {},
   "source": [
    "*Note to myself:* [apparently](https://stackoverflow.com/questions/1320139/why-is-appending-to-a-list-bad) prepending the list `x :: list` followed by `List.rev` performs better then appending `list @ [x]`, the first is $O(n)$, while the latter $O(n^2)$. That's the reason why solutions use this pattern so often."
   ]
  },
  {
   "cell_type": "markdown",
   "metadata": {},
   "source": [
    "## 18. Extract a slice from a list. (medium)\n",
    "\n",
    "Given two indices, i and k, the slice is the list containing the elements between the i'th and k'th element of the original list (both limits included). Start counting the elements with 0 (this is the way the List module numbers elements)."
   ]
  },
  {
   "cell_type": "code",
   "execution_count": 28,
   "metadata": {},
   "outputs": [
    {
     "data": {
      "text/plain": [
       "val slice : 'a list -> int -> int -> 'a list = <fun>\n"
      ]
     },
     "execution_count": 28,
     "metadata": {},
     "output_type": "execute_result"
    },
    {
     "data": {
      "text/plain": [
       "- : unit = ()\n"
      ]
     },
     "execution_count": 28,
     "metadata": {},
     "output_type": "execute_result"
    }
   ],
   "source": [
    "let slice lst i k =\n",
    "    let rec aux n = function\n",
    "        | [] -> []\n",
    "        | h :: t -> \n",
    "            if n < i then aux (n+1) t\n",
    "            else if n <= k then h :: (aux (n+1) t) else []\n",
    "    in\n",
    "    aux 0 lst ;;\n",
    "\n",
    "\n",
    "assert ((slice [\"a\";\"b\";\"c\";\"d\";\"e\";\"f\";\"g\";\"h\";\"i\";\"j\"] 2 6) = [\"c\"; \"d\"; \"e\"; \"f\"; \"g\"]) ;;"
   ]
  },
  {
   "cell_type": "markdown",
   "metadata": {},
   "source": [
    "## 19. Rotate a list N places to the left. (medium)"
   ]
  },
  {
   "cell_type": "code",
   "execution_count": 29,
   "metadata": {},
   "outputs": [
    {
     "data": {
      "text/plain": [
       "val rotate : 'a list -> int -> 'a list = <fun>\n"
      ]
     },
     "execution_count": 29,
     "metadata": {},
     "output_type": "execute_result"
    },
    {
     "data": {
      "text/plain": [
       "- : unit = ()\n"
      ]
     },
     "execution_count": 29,
     "metadata": {},
     "output_type": "execute_result"
    },
    {
     "data": {
      "text/plain": [
       "- : unit = ()\n"
      ]
     },
     "execution_count": 29,
     "metadata": {},
     "output_type": "execute_result"
    }
   ],
   "source": [
    "(* Direct, naive implementation *)\n",
    "\n",
    "let rotate lst k =\n",
    "    let n = List.length lst in\n",
    "    let m = if n = 0 then 0 else (k mod n + n) mod n in  (* this is needed only for negative rotations, otherwise works without this *)\n",
    "    let rec aux i = function\n",
    "        | [] -> []\n",
    "        | (h :: t as l) -> if i > 0 then aux (i-1) (t @ [h]) else l\n",
    "    in\n",
    "    aux m lst ;;\n",
    "\n",
    "\n",
    "assert ((rotate [\"a\"; \"b\"; \"c\"; \"d\"; \"e\"; \"f\"; \"g\"; \"h\"] 3) = [\"d\"; \"e\"; \"f\"; \"g\"; \"h\"; \"a\"; \"b\"; \"c\"]) ;;\n",
    "assert ((rotate [\"a\"; \"b\"; \"c\"; \"d\"; \"e\"; \"f\"; \"g\"; \"h\"] (-2)) = [\"g\"; \"h\"; \"a\"; \"b\"; \"c\"; \"d\"; \"e\"; \"f\"]) ;;"
   ]
  },
  {
   "cell_type": "code",
   "execution_count": 30,
   "metadata": {},
   "outputs": [
    {
     "data": {
      "text/plain": [
       "val rotate : 'a list -> int -> 'a list = <fun>\n"
      ]
     },
     "execution_count": 30,
     "metadata": {},
     "output_type": "execute_result"
    },
    {
     "data": {
      "text/plain": [
       "- : unit = ()\n"
      ]
     },
     "execution_count": 30,
     "metadata": {},
     "output_type": "execute_result"
    },
    {
     "data": {
      "text/plain": [
       "- : unit = ()\n"
      ]
     },
     "execution_count": 30,
     "metadata": {},
     "output_type": "execute_result"
    }
   ],
   "source": [
    "let rotate lst k =\n",
    "    let n = List.length lst in\n",
    "    let m = if n = 0 then 0 else (k mod n + n) mod n in\n",
    "    let rec aux i acc = function\n",
    "        | [] -> List.rev acc\n",
    "        | (h :: t as r) ->\n",
    "            if i > 0 then aux (i-1) (h :: acc) t\n",
    "            else r @ (List.rev acc)\n",
    "    in\n",
    "    aux m [] lst ;;\n",
    "\n",
    "\n",
    "assert ((rotate [\"a\"; \"b\"; \"c\"; \"d\"; \"e\"; \"f\"; \"g\"; \"h\"] 3) = [\"d\"; \"e\"; \"f\"; \"g\"; \"h\"; \"a\"; \"b\"; \"c\"]) ;;\n",
    "assert ((rotate [\"a\"; \"b\"; \"c\"; \"d\"; \"e\"; \"f\"; \"g\"; \"h\"] (-2)) = [\"g\"; \"h\"; \"a\"; \"b\"; \"c\"; \"d\"; \"e\"; \"f\"]) ;;"
   ]
  },
  {
   "cell_type": "markdown",
   "metadata": {},
   "source": [
    "*Solution:*"
   ]
  },
  {
   "cell_type": "code",
   "execution_count": 31,
   "metadata": {},
   "outputs": [
    {
     "data": {
      "text/plain": [
       "val split : 'a list -> int -> 'a list * 'a list = <fun>\n"
      ]
     },
     "execution_count": 31,
     "metadata": {},
     "output_type": "execute_result"
    },
    {
     "data": {
      "text/plain": [
       "val rotate : 'a list -> int -> 'a list = <fun>\n"
      ]
     },
     "execution_count": 31,
     "metadata": {},
     "output_type": "execute_result"
    }
   ],
   "source": [
    "let split list n =\n",
    "    let rec aux i acc = function\n",
    "      | [] -> List.rev acc, []\n",
    "      | h :: t as l -> if i = 0 then List.rev acc, l\n",
    "                       else aux (i-1) (h :: acc) t  in\n",
    "    aux n [] list\n",
    "  \n",
    "  let rotate list n =\n",
    "    let len = List.length list in\n",
    "    (* Compute a rotation value between 0 and len-1 *)\n",
    "    let n = if len = 0 then 0 else (n mod len + len) mod len in\n",
    "    if n = 0 then list\n",
    "    else let a, b = split list n in b @ a ;;"
   ]
  },
  {
   "cell_type": "markdown",
   "metadata": {},
   "source": [
    "*Not to myself:* apparently OCaml support tuples in returns, you can return multiple elements like in Python!"
   ]
  },
  {
   "cell_type": "markdown",
   "metadata": {},
   "source": [
    "## 20. Remove the K'th element from a list. (easy)\n",
    "\n",
    "The first element of the list is numbered 0, the second 1,..."
   ]
  },
  {
   "cell_type": "code",
   "execution_count": 32,
   "metadata": {},
   "outputs": [
    {
     "data": {
      "text/plain": [
       "val remove_at : int -> 'a list -> 'a list = <fun>\n"
      ]
     },
     "execution_count": 32,
     "metadata": {},
     "output_type": "execute_result"
    },
    {
     "data": {
      "text/plain": [
       "- : unit = ()\n"
      ]
     },
     "execution_count": 32,
     "metadata": {},
     "output_type": "execute_result"
    }
   ],
   "source": [
    "let remove_at i lst = \n",
    "    let rec aux i acc = function\n",
    "        | [] -> []\n",
    "        | h :: t ->\n",
    "            if i < 1 then (List.rev acc) @ t\n",
    "            else aux (i-1) (h :: acc) t\n",
    "    in\n",
    "    aux i [] lst ;;\n",
    "\n",
    "\n",
    "assert ((remove_at 1 [\"a\";\"b\";\"c\";\"d\"]) = [\"a\"; \"c\"; \"d\"]) ;;"
   ]
  },
  {
   "cell_type": "markdown",
   "metadata": {},
   "source": [
    "*Solution:*"
   ]
  },
  {
   "cell_type": "code",
   "execution_count": 33,
   "metadata": {},
   "outputs": [
    {
     "data": {
      "text/plain": [
       "val remove_at : int -> 'a list -> 'a list = <fun>\n"
      ]
     },
     "execution_count": 33,
     "metadata": {},
     "output_type": "execute_result"
    }
   ],
   "source": [
    "let rec remove_at n = function\n",
    "    | [] -> []\n",
    "    | h :: t -> if n = 0 then t else h :: remove_at (n-1) t ;;"
   ]
  },
  {
   "cell_type": "markdown",
   "metadata": {},
   "source": [
    "## 21. Insert an element at a given position into a list. (easy)\n",
    "\n",
    "Start counting list elements with 0. If the position is larger or equal to the length of the list, insert the element at the end. (The behavior is unspecified if the position is negative.)"
   ]
  },
  {
   "cell_type": "code",
   "execution_count": 34,
   "metadata": {},
   "outputs": [
    {
     "data": {
      "text/plain": [
       "val insert_at : 'a -> int -> 'a list -> 'a list = <fun>\n"
      ]
     },
     "execution_count": 34,
     "metadata": {},
     "output_type": "execute_result"
    },
    {
     "data": {
      "text/plain": [
       "- : unit = ()\n"
      ]
     },
     "execution_count": 34,
     "metadata": {},
     "output_type": "execute_result"
    },
    {
     "data": {
      "text/plain": [
       "- : unit = ()\n"
      ]
     },
     "execution_count": 34,
     "metadata": {},
     "output_type": "execute_result"
    },
    {
     "data": {
      "text/plain": [
       "- : unit = ()\n"
      ]
     },
     "execution_count": 34,
     "metadata": {},
     "output_type": "execute_result"
    }
   ],
   "source": [
    "let rec insert_at elem i = function\n",
    "    | [] -> [elem]\n",
    "    | (h :: t as l) -> if i = 0 then elem :: l else h :: insert_at elem (i-1) t ;;\n",
    "\n",
    "\n",
    "assert ((insert_at \"alfa\" 1 [\"a\";\"b\";\"c\";\"d\"]) = [\"a\"; \"alfa\"; \"b\"; \"c\"; \"d\"]) ;;\n",
    "assert ((insert_at \"alfa\" 3 [\"a\";\"b\";\"c\";\"d\"]) = [\"a\"; \"b\"; \"c\"; \"alfa\"; \"d\"]) ;;\n",
    "assert ((insert_at \"alfa\" 4 [\"a\";\"b\";\"c\";\"d\"]) = [\"a\"; \"b\"; \"c\"; \"d\"; \"alfa\"]) ;;"
   ]
  },
  {
   "cell_type": "markdown",
   "metadata": {},
   "source": [
    "## 22. Create a list containing all integers within a given range. (easy)\n",
    "\n",
    "If first argument is greater than second, produce a list in decreasing order."
   ]
  },
  {
   "cell_type": "code",
   "execution_count": 35,
   "metadata": {},
   "outputs": [
    {
     "data": {
      "text/plain": [
       "val range : int -> int -> int list = <fun>\n"
      ]
     },
     "execution_count": 35,
     "metadata": {},
     "output_type": "execute_result"
    },
    {
     "data": {
      "text/plain": [
       "- : unit = ()\n"
      ]
     },
     "execution_count": 35,
     "metadata": {},
     "output_type": "execute_result"
    },
    {
     "data": {
      "text/plain": [
       "- : unit = ()\n"
      ]
     },
     "execution_count": 35,
     "metadata": {},
     "output_type": "execute_result"
    }
   ],
   "source": [
    "let rec range i j =\n",
    "    let step = if i < j then -1 else 1 in\n",
    "    if j = i then [j]\n",
    "    else range i (j + step) @ [j] ;;\n",
    "\n",
    "\n",
    "assert ((range 4 9) = [4; 5; 6; 7; 8; 9]) ;;\n",
    "assert ((range 9 4) = [9; 8; 7; 6; 5; 4]) ;;"
   ]
  },
  {
   "cell_type": "code",
   "execution_count": 36,
   "metadata": {},
   "outputs": [
    {
     "data": {
      "text/plain": [
       "val range : int -> int -> int list = <fun>\n"
      ]
     },
     "execution_count": 36,
     "metadata": {},
     "output_type": "execute_result"
    },
    {
     "data": {
      "text/plain": [
       "- : unit = ()\n"
      ]
     },
     "execution_count": 36,
     "metadata": {},
     "output_type": "execute_result"
    },
    {
     "data": {
      "text/plain": [
       "- : unit = ()\n"
      ]
     },
     "execution_count": 36,
     "metadata": {},
     "output_type": "execute_result"
    }
   ],
   "source": [
    "let range i j =\n",
    "    let rec aux n step = \n",
    "        if n = i then [i] else n :: aux (n + step) step\n",
    "    in\n",
    "    List.rev (aux j (if i < j then -1 else 1)) ;;\n",
    "\n",
    "\n",
    "assert ((range 4 9) = [4; 5; 6; 7; 8; 9]) ;;\n",
    "assert ((range 9 4) = [9; 8; 7; 6; 5; 4]) ;;"
   ]
  },
  {
   "cell_type": "markdown",
   "metadata": {},
   "source": [
    "*Solutions:*"
   ]
  },
  {
   "cell_type": "code",
   "execution_count": 37,
   "metadata": {},
   "outputs": [
    {
     "data": {
      "text/plain": [
       "val range : int -> int -> int list = <fun>\n"
      ]
     },
     "execution_count": 37,
     "metadata": {},
     "output_type": "execute_result"
    }
   ],
   "source": [
    "let range a b =\n",
    "    let rec aux a b =\n",
    "      if a > b then [] else a :: aux (a+1) b  in\n",
    "    if a > b then List.rev (aux b a) else aux a b ;;"
   ]
  },
  {
   "cell_type": "code",
   "execution_count": 38,
   "metadata": {},
   "outputs": [
    {
     "data": {
      "text/plain": [
       "val range : int -> int -> int list = <fun>\n"
      ]
     },
     "execution_count": 38,
     "metadata": {},
     "output_type": "execute_result"
    }
   ],
   "source": [
    "let range a b =\n",
    "    let rec aux acc high low =\n",
    "      if high >= low then\n",
    "        aux (high::acc) (high - 1) low\n",
    "      else acc\n",
    "    in if a < b then aux [] b a else List.rev (aux [] a b) ;;"
   ]
  },
  {
   "cell_type": "code",
   "execution_count": null,
   "metadata": {},
   "outputs": [],
   "source": [
    "(* Partial solution with pattern matching, would need if & List.rev as above *)\n",
    "\n",
    "let range a b =\n",
    "    let rec aux acc a b = match b with\n",
    "        | b when a = b -> b :: acc\n",
    "        | b -> aux (b :: acc) a (b - 1)\n",
    "    in aux [] a b ;;"
   ]
  },
  {
   "cell_type": "markdown",
   "metadata": {},
   "source": [
    "## 23. Extract a given number of randomly selected elements from a list. (medium)\n",
    "\n",
    "The selected items shall be returned in a list. We use the `Random` module but do not initialize it with `Random.self_init` for reproducibility."
   ]
  },
  {
   "cell_type": "code",
   "execution_count": 39,
   "metadata": {},
   "outputs": [
    {
     "data": {
      "text/plain": [
       "val rand_select : 'a list -> int -> 'a list = <fun>\n"
      ]
     },
     "execution_count": 39,
     "metadata": {},
     "output_type": "execute_result"
    },
    {
     "data": {
      "text/plain": [
       "- : string list = [\"g\"; \"f\"; \"a\"]\n"
      ]
     },
     "execution_count": 39,
     "metadata": {},
     "output_type": "execute_result"
    }
   ],
   "source": [
    "(* I assumed that we're sampling with replacement *)\n",
    "\n",
    "let rec rand_select lst n =\n",
    "    let rec get i = function\n",
    "        | [] -> raise Not_found\n",
    "        | h :: t -> if i = 0 then h else get (i-1) t\n",
    "    in\n",
    "    if n = 0 then []\n",
    "    else get (Random.int (List.length lst)) lst :: rand_select lst (n-1) ;;\n",
    "    \n",
    "    \n",
    "rand_select [\"a\";\"b\";\"c\";\"d\";\"e\";\"f\";\"g\";\"h\"] 3 ;;"
   ]
  },
  {
   "cell_type": "markdown",
   "metadata": {},
   "source": [
    "*Solution:*"
   ]
  },
  {
   "cell_type": "code",
   "execution_count": 40,
   "metadata": {},
   "outputs": [
    {
     "data": {
      "text/plain": [
       "val rand_select : 'a list -> int -> 'a list = <fun>\n"
      ]
     },
     "execution_count": 40,
     "metadata": {},
     "output_type": "execute_result"
    }
   ],
   "source": [
    "let rand_select list n =\n",
    "    let rec extract acc n = function\n",
    "      | [] -> raise Not_found\n",
    "      | h :: t -> if n = 0 then (h, acc @ t) else extract (h::acc) (n-1) t\n",
    "    in\n",
    "    let extract_rand list len =\n",
    "      extract [] (Random.int len) list\n",
    "    in\n",
    "    let rec aux n acc list len =\n",
    "      if n = 0 then acc else\n",
    "        let picked, rest = extract_rand list len in\n",
    "        aux (n-1) (picked :: acc) rest (len-1)\n",
    "    in\n",
    "    let len = List.length list in\n",
    "    aux (min n len) [] list len ;;"
   ]
  },
  {
   "cell_type": "markdown",
   "metadata": {},
   "source": [
    "## 24. Lotto: Draw N different random numbers from the set 1..M. (easy)\n",
    "\n",
    "The selected numbers shall be returned in a list."
   ]
  },
  {
   "cell_type": "code",
   "execution_count": 41,
   "metadata": {},
   "outputs": [
    {
     "data": {
      "text/plain": [
       "val lotto_select : int -> int -> int list = <fun>\n"
      ]
     },
     "execution_count": 41,
     "metadata": {},
     "output_type": "execute_result"
    },
    {
     "data": {
      "text/plain": [
       "- : int list = [11; 23; 44; 20; 41; 2]\n"
      ]
     },
     "execution_count": 41,
     "metadata": {},
     "output_type": "execute_result"
    }
   ],
   "source": [
    "let lotto_select n m = \n",
    "    let rec range i n = if i = n then [i] else i :: range (i+1) n in\n",
    "    let rec get i rem = function\n",
    "        | [] -> raise Not_found\n",
    "        | h :: t -> if i = 0 then h, (List.rev rem) @ t else get (i-1) (h :: rem) t\n",
    "    in\n",
    "    let rec aux urn sel m =\n",
    "        if m = 0 then sel\n",
    "        else\n",
    "            let v, urn = get (Random.int (List.length urn)) [] urn in\n",
    "            aux urn (v :: sel) (m-1)\n",
    "    in\n",
    "    aux (range 1 m) [] n ;;\n",
    "\n",
    "\n",
    "lotto_select 6 49 ;;"
   ]
  },
  {
   "cell_type": "markdown",
   "metadata": {},
   "source": [
    "## 25. Generate a random permutation of the elements of a list. (easy)"
   ]
  },
  {
   "cell_type": "code",
   "execution_count": 42,
   "metadata": {},
   "outputs": [
    {
     "data": {
      "text/plain": [
       "val permutation : 'a list -> 'a list = <fun>\n"
      ]
     },
     "execution_count": 42,
     "metadata": {},
     "output_type": "execute_result"
    },
    {
     "data": {
      "text/plain": [
       "- : string list = [\"c\"; \"d\"; \"b\"; \"f\"; \"e\"; \"a\"]\n"
      ]
     },
     "execution_count": 42,
     "metadata": {},
     "output_type": "execute_result"
    }
   ],
   "source": [
    "let permutation lst = \n",
    "    let randi = function\n",
    "        | [] -> 0\n",
    "        | l -> Random.int (List.length l)\n",
    "    in\n",
    "    let rec aux i acc = function\n",
    "        | [] -> []\n",
    "        | h :: t ->\n",
    "            if i = 0 then\n",
    "                let l = acc @ t in\n",
    "                h :: (aux (randi l) [] l)\n",
    "            else aux (i-1) (h :: acc) t\n",
    "    in aux (randi lst) [] lst ;;\n",
    "\n",
    "\n",
    "permutation [\"a\"; \"b\"; \"c\"; \"d\"; \"e\"; \"f\"] ;;"
   ]
  },
  {
   "cell_type": "markdown",
   "metadata": {},
   "source": [
    "*Solution:*"
   ]
  },
  {
   "cell_type": "code",
   "execution_count": 43,
   "metadata": {},
   "outputs": [
    {
     "data": {
      "text/plain": [
       "val permutation : 'a list -> 'a list = <fun>\n"
      ]
     },
     "execution_count": 43,
     "metadata": {},
     "output_type": "execute_result"
    }
   ],
   "source": [
    "let rec permutation list =\n",
    "    let rec extract acc n = function\n",
    "      | [] -> raise Not_found\n",
    "      | h :: t -> if n = 0 then (h, acc @ t) else extract (h::acc) (n-1) t\n",
    "    in\n",
    "    let extract_rand list len =\n",
    "      extract [] (Random.int len) list\n",
    "    in\n",
    "    let rec aux acc list len =\n",
    "      if len = 0 then acc else\n",
    "        let picked, rest = extract_rand list len in\n",
    "        aux (picked :: acc) rest (len-1)\n",
    "    in\n",
    "    aux [] list (List.length list) ;;"
   ]
  },
  {
   "cell_type": "markdown",
   "metadata": {},
   "source": [
    "## 26. Generate the combinations of K distinct objects chosen from the N elements of a list. (medium)\n",
    "\n",
    "In how many ways can a committee of 3 be chosen from a group of 12 people? We all know that there are C(12,3) = 220 possibilities (C(N,K) denotes the well-known binomial coefficients). For pure mathematicians, this result may be great. But we want to really generate all the possibilities in a list."
   ]
  },
  {
   "cell_type": "code",
   "execution_count": 44,
   "metadata": {},
   "outputs": [
    {
     "data": {
      "text/plain": [
       "val extract : int -> 'a list -> 'a list list = <fun>\n"
      ]
     },
     "execution_count": 44,
     "metadata": {},
     "output_type": "execute_result"
    },
    {
     "data": {
      "text/plain": [
       "- : unit = ()\n"
      ]
     },
     "execution_count": 44,
     "metadata": {},
     "output_type": "execute_result"
    }
   ],
   "source": [
    "let extract n lst =\n",
    "    let rec aux depth acc lst =\n",
    "        if depth = 0 then [List.rev acc]\n",
    "        else match lst with\n",
    "            | [] -> []\n",
    "            | h :: t -> (aux (depth-1) (h :: acc) t) @ (aux depth acc t)\n",
    "    in aux n [] lst ;;\n",
    "    \n",
    "\n",
    "assert ((extract 2 [\"a\";\"b\";\"c\";\"d\"]) = [[\"a\"; \"b\"]; [\"a\"; \"c\"]; [\"a\"; \"d\"]; [\"b\"; \"c\"]; [\"b\"; \"d\"]; [\"c\"; \"d\"]]) ;;"
   ]
  },
  {
   "cell_type": "markdown",
   "metadata": {},
   "source": [
    "*Solution:*"
   ]
  },
  {
   "cell_type": "code",
   "execution_count": 45,
   "metadata": {},
   "outputs": [
    {
     "data": {
      "text/plain": [
       "val extract : int -> 'a list -> 'a list list = <fun>\n"
      ]
     },
     "execution_count": 45,
     "metadata": {},
     "output_type": "execute_result"
    }
   ],
   "source": [
    "let rec extract k list =\n",
    "    if k <= 0 then [ [] ]\n",
    "    else match list with\n",
    "         | [] -> []\n",
    "         | h :: tl ->\n",
    "            let with_h = List.map (fun l -> h :: l) (extract (k-1) tl) in\n",
    "            let without_h = extract k tl in\n",
    "            with_h @ without_h ;;"
   ]
  },
  {
   "cell_type": "markdown",
   "metadata": {},
   "source": [
    "## 27. Group the elements of a set into disjoint subsets. (medium)\n",
    "\n",
    "1. In how many ways can a group of 9 people work in 3 disjoint subgroups of 2, 3 and 4 persons? Write a function that generates all the possibilities and returns them in a list.\n",
    "2. Generalize the above function in a way that we can specify a list of group sizes and the function will return a list of groups."
   ]
  },
  {
   "cell_type": "code",
   "execution_count": 46,
   "metadata": {},
   "outputs": [],
   "source": [
    "(* skip *)\n",
    "\n",
    "\n",
    "(* assert ((group [\"a\";\"b\";\"c\";\"d\"] [2;1]) = [\n",
    "    [[\"a\"; \"b\"]; [\"c\"]]; [[\"a\"; \"c\"]; [\"b\"]]; [[\"b\"; \"c\"]; [\"a\"]];\n",
    "    [[\"a\"; \"b\"]; [\"d\"]]; [[\"a\"; \"c\"]; [\"d\"]]; [[\"b\"; \"c\"]; [\"d\"]];\n",
    "    [[\"a\"; \"d\"]; [\"b\"]]; [[\"b\"; \"d\"]; [\"a\"]]; [[\"a\"; \"d\"]; [\"c\"]];\n",
    "    [[\"b\"; \"d\"]; [\"c\"]]; [[\"c\"; \"d\"]; [\"a\"]]; [[\"c\"; \"d\"]; [\"b\"]]\n",
    "]) ;; *)"
   ]
  },
  {
   "cell_type": "markdown",
   "metadata": {},
   "source": [
    "## 28. Sorting a list of lists according to length of sublists. (medium)\n",
    "\n",
    "1. We suppose that a list contains elements that are lists themselves. The objective is to sort the elements of this list according to their length. E.g. short lists first, longer lists later, or vice versa.\n",
    "\n",
    "2. Again, we suppose that a list contains elements that are lists themselves. But this time the objective is to sort the elements of this list according to their length frequency; i.e., in the default, where sorting is done ascendingly, lists with rare lengths are placed first, others with a more frequent length come later."
   ]
  },
  {
   "cell_type": "code",
   "execution_count": 47,
   "metadata": {},
   "outputs": [],
   "source": [
    "(* skip *)\n",
    "\n",
    "\n",
    "(* assert ((length_sort [ [\"a\";\"b\";\"c\"]; [\"d\";\"e\"]; [\"f\";\"g\";\"h\"]; [\"d\";\"e\"]; [\"i\";\"j\";\"k\";\"l\"]; [\"m\";\"n\"]; [\"o\"] ]) =\n",
    "        [[\"o\"]; [\"d\"; \"e\"]; [\"d\"; \"e\"]; [\"m\"; \"n\"]; [\"a\"; \"b\"; \"c\"]; [\"f\"; \"g\"; \"h\"]; [\"i\"; \"j\"; \"k\"; \"l\"]]) ;;\n",
    "                \n",
    "assert ((frequency_sort [ [\"a\";\"b\";\"c\"]; [\"d\";\"e\"]; [\"f\";\"g\";\"h\"]; [\"d\";\"e\"]; [\"i\";\"j\";\"k\";\"l\"]; [\"m\";\"n\"]; [\"o\"] ]) =\n",
    "        [[\"i\"; \"j\"; \"k\"; \"l\"]; [\"o\"]; [\"a\"; \"b\"; \"c\"]; [\"f\"; \"g\"; \"h\"]; [\"d\"; \"e\"]; [\"d\"; \"e\"]; [\"m\"; \"n\"]]) ;; *)"
   ]
  },
  {
   "cell_type": "markdown",
   "metadata": {},
   "source": [
    "# Arithmetic\n",
    "\n",
    "## 31. Determine whether a given integer number is prime. (medium)"
   ]
  },
  {
   "cell_type": "code",
   "execution_count": 48,
   "metadata": {},
   "outputs": [
    {
     "data": {
      "text/plain": [
       "val is_prime : int -> bool = <fun>\n"
      ]
     },
     "execution_count": 48,
     "metadata": {},
     "output_type": "execute_result"
    },
    {
     "data": {
      "text/plain": [
       "- : unit = ()\n"
      ]
     },
     "execution_count": 48,
     "metadata": {},
     "output_type": "execute_result"
    },
    {
     "data": {
      "text/plain": [
       "- : unit = ()\n"
      ]
     },
     "execution_count": 48,
     "metadata": {},
     "output_type": "execute_result"
    },
    {
     "data": {
      "text/plain": [
       "- : unit = ()\n"
      ]
     },
     "execution_count": 48,
     "metadata": {},
     "output_type": "execute_result"
    }
   ],
   "source": [
    "let is_prime x =\n",
    "    let rec is_divisable x n =\n",
    "        (n < x) && (((x mod n) = 0) || (is_divisable x (n+1)))\n",
    "    in\n",
    "    (x <> 1) && not (is_divisable x 2) ;;\n",
    "\n",
    "\n",
    "assert (not (is_prime 1)) ;;\n",
    "assert (is_prime 7) ;;\n",
    "assert (not (is_prime 12)) ;;"
   ]
  },
  {
   "cell_type": "markdown",
   "metadata": {},
   "source": [
    "## 32. Determine the greatest common divisor of two positive integer numbers. (medium)\n",
    "\n",
    "Use Euclid's algorithm."
   ]
  },
  {
   "cell_type": "code",
   "execution_count": 49,
   "metadata": {},
   "outputs": [
    {
     "data": {
      "text/plain": [
       "val gcd : int -> int -> int = <fun>\n"
      ]
     },
     "execution_count": 49,
     "metadata": {},
     "output_type": "execute_result"
    },
    {
     "data": {
      "text/plain": [
       "- : unit = ()\n"
      ]
     },
     "execution_count": 49,
     "metadata": {},
     "output_type": "execute_result"
    },
    {
     "data": {
      "text/plain": [
       "- : unit = ()\n"
      ]
     },
     "execution_count": 49,
     "metadata": {},
     "output_type": "execute_result"
    }
   ],
   "source": [
    "let rec gcd a b =\n",
    "    if b = 0 then a else gcd b (a mod b) ;;\n",
    "\n",
    "\n",
    "assert ((gcd 13 27) = 1) ;;\n",
    "assert ((gcd 20536 7826) = 2) ;;"
   ]
  },
  {
   "cell_type": "markdown",
   "metadata": {},
   "source": [
    "## 33. Determine whether two positive integer numbers are coprime. (easy)\n",
    "\n",
    "Two numbers are coprime if their greatest common divisor equals 1."
   ]
  },
  {
   "cell_type": "code",
   "execution_count": 50,
   "metadata": {},
   "outputs": [
    {
     "data": {
      "text/plain": [
       "val coprime : int -> int -> bool = <fun>\n"
      ]
     },
     "execution_count": 50,
     "metadata": {},
     "output_type": "execute_result"
    },
    {
     "data": {
      "text/plain": [
       "- : unit = ()\n"
      ]
     },
     "execution_count": 50,
     "metadata": {},
     "output_type": "execute_result"
    },
    {
     "data": {
      "text/plain": [
       "- : unit = ()\n"
      ]
     },
     "execution_count": 50,
     "metadata": {},
     "output_type": "execute_result"
    }
   ],
   "source": [
    "let coprime a b = (gcd a b) = 1 ;;\n",
    "\n",
    "\n",
    "assert (coprime 13 27) ;;\n",
    "assert (not (coprime 20536 7826)) ;;"
   ]
  },
  {
   "cell_type": "markdown",
   "metadata": {},
   "source": [
    "## 34. Calculate Euler's totient function φ(m). (medium)\n",
    "\n",
    "Euler's so-called totient function φ(m) is defined as the number of positive integers r (1 ≤ r < m) that are coprime to m. We let φ(1) = 1.\n",
    "\n",
    "Find out what the value of φ(m) is if m is a prime number. Euler's totient function plays an important role in one of the most widely used public key cryptography methods (RSA). In this exercise you should use the most primitive method to calculate this function (there are smarter ways that we shall discuss later)."
   ]
  },
  {
   "cell_type": "code",
   "execution_count": 51,
   "metadata": {},
   "outputs": [
    {
     "data": {
      "text/plain": [
       "val phi : int -> int = <fun>\n"
      ]
     },
     "execution_count": 51,
     "metadata": {},
     "output_type": "execute_result"
    },
    {
     "data": {
      "text/plain": [
       "- : unit = ()\n"
      ]
     },
     "execution_count": 51,
     "metadata": {},
     "output_type": "execute_result"
    },
    {
     "data": {
      "text/plain": [
       "- : unit = ()\n"
      ]
     },
     "execution_count": 51,
     "metadata": {},
     "output_type": "execute_result"
    },
    {
     "data": {
      "text/plain": [
       "- : unit = ()\n"
      ]
     },
     "execution_count": 51,
     "metadata": {},
     "output_type": "execute_result"
    }
   ],
   "source": [
    "let phi x =\n",
    "    let int_of_bool b = if b then 1 else 0 in \n",
    "    let rec aux r n = \n",
    "        if r < x then aux (r+1) (n + int_of_bool (coprime x r)) else n\n",
    "    in aux 0 0 ;;\n",
    "\n",
    "\n",
    "assert ((phi 1) = 1) ;;\n",
    "assert ((phi 10) = 4) ;;\n",
    "assert ((phi 13) = 12) ;;"
   ]
  },
  {
   "cell_type": "markdown",
   "metadata": {},
   "source": [
    "## 35. Determine the prime factors of a given positive integer. (medium)\n",
    "\n",
    "Construct a flat list containing the prime factors in ascending order."
   ]
  },
  {
   "cell_type": "code",
   "execution_count": 52,
   "metadata": {},
   "outputs": [
    {
     "data": {
      "text/plain": [
       "val factors : int -> int list = <fun>\n"
      ]
     },
     "execution_count": 52,
     "metadata": {},
     "output_type": "execute_result"
    },
    {
     "data": {
      "text/plain": [
       "- : unit = ()\n"
      ]
     },
     "execution_count": 52,
     "metadata": {},
     "output_type": "execute_result"
    },
    {
     "data": {
      "text/plain": [
       "- : unit = ()\n"
      ]
     },
     "execution_count": 52,
     "metadata": {},
     "output_type": "execute_result"
    },
    {
     "data": {
      "text/plain": [
       "- : unit = ()\n"
      ]
     },
     "execution_count": 52,
     "metadata": {},
     "output_type": "execute_result"
    }
   ],
   "source": [
    "let factors x =\n",
    "    let rec aux x r =\n",
    "        if x = 1 then [] else \n",
    "            if (x mod r) = 0 then r :: (aux (x / r) 2)\n",
    "            else aux x (r+1)\n",
    "    in aux x 2 ;;\n",
    "\n",
    "\n",
    "assert ((factors 315) = [3; 3; 5; 7]) ;;\n",
    "assert ((factors 100) = [2; 2; 5; 5]) ;;\n",
    "assert ((factors 12345) = [3; 5; 823]) ;;"
   ]
  },
  {
   "cell_type": "markdown",
   "metadata": {},
   "source": [
    "## 36. Determine the prime factors of a given positive integer (2). (medium)\n",
    "\n",
    "Construct a list containing the prime factors and their multiplicity. Hint: The problem is similar to problem Run-length encoding of a list (direct solution)."
   ]
  },
  {
   "cell_type": "code",
   "execution_count": 53,
   "metadata": {},
   "outputs": [
    {
     "data": {
      "text/plain": [
       "val factors : int -> (int * int) list = <fun>\n"
      ]
     },
     "execution_count": 53,
     "metadata": {},
     "output_type": "execute_result"
    },
    {
     "data": {
      "text/plain": [
       "- : unit = ()\n"
      ]
     },
     "execution_count": 53,
     "metadata": {},
     "output_type": "execute_result"
    }
   ],
   "source": [
    "let factors x =\n",
    "    let rec aux x r (p, c) =\n",
    "        if x = 1 then [(p, c)] else \n",
    "            if (x mod r) = 0 then\n",
    "                if (c = 0) || (r = p) then aux (x / r) 2 (r, c+1)\n",
    "                else (p, c) :: (aux (x / r) 2 (r, 1))\n",
    "            else aux x (r+1) (p, c)\n",
    "    in aux x 2 (0, 0) ;;\n",
    "\n",
    "\n",
    "assert ((factors 315) = [(3, 2); (5, 1); (7, 1)]) ;;"
   ]
  },
  {
   "cell_type": "markdown",
   "metadata": {},
   "source": [
    "*Solution:*"
   ]
  },
  {
   "cell_type": "code",
   "execution_count": 54,
   "metadata": {},
   "outputs": [
    {
     "data": {
      "text/plain": [
       "val factors : int -> (int * int) list = <fun>\n"
      ]
     },
     "execution_count": 54,
     "metadata": {},
     "output_type": "execute_result"
    }
   ],
   "source": [
    "let factors n =\n",
    "    let rec aux d n =\n",
    "      if n = 1 then [] else\n",
    "        if n mod d = 0 then\n",
    "          match aux d (n / d) with\n",
    "          | (h,n) :: t when h = d -> (h,n+1) :: t\n",
    "          | l -> (d,1) :: l\n",
    "        else aux (d+1) n\n",
    "    in\n",
    "    aux 2 n ;;"
   ]
  },
  {
   "cell_type": "markdown",
   "metadata": {},
   "source": [
    "## 37. Calculate Euler's totient function φ(m) (improved). (medium)\n",
    "\n",
    "See problem \"Calculate Euler's totient function φ(m)\" for the definition of Euler's totient function. If the list of the prime factors of a number m is known in the form of the previous problem then the function phi(m) can be efficiently calculated as follows: Let `[(p1, m1); (p2, m2); (p3, m3); ...]` be the list of prime factors (and their multiplicities) of a given number m. Then φ(m) can be calculated with the following formula:\n",
    "\n",
    "$$\n",
    "\\varphi(m) = (p_1 - 1) \\times p_1^{m_1 - 1} \\times (p_2 - 1) \\times p_2^{m_2 - 1} \\times (p_3 - 1) \\times p_3^{m_3 - 1} \\times \\dots\n",
    "$$"
   ]
  },
  {
   "cell_type": "code",
   "execution_count": 55,
   "metadata": {},
   "outputs": [
    {
     "data": {
      "text/plain": [
       "val pow : int -> int -> int = <fun>\n"
      ]
     },
     "execution_count": 55,
     "metadata": {},
     "output_type": "execute_result"
    },
    {
     "data": {
      "text/plain": [
       "val phi_improved : int -> int = <fun>\n"
      ]
     },
     "execution_count": 55,
     "metadata": {},
     "output_type": "execute_result"
    },
    {
     "data": {
      "text/plain": [
       "- : unit = ()\n"
      ]
     },
     "execution_count": 55,
     "metadata": {},
     "output_type": "execute_result"
    },
    {
     "data": {
      "text/plain": [
       "- : unit = ()\n"
      ]
     },
     "execution_count": 55,
     "metadata": {},
     "output_type": "execute_result"
    }
   ],
   "source": [
    "let rec pow n p = if p < 1 then 1 else n * pow n (p-1) ;;\n",
    "\n",
    "let phi_improved x =\n",
    "    let rec aux = function\n",
    "        | [] -> 1\n",
    "        | (p, m) :: t -> (p - 1) * (pow p (m-1)) * (aux t)\n",
    "    in\n",
    "    aux (factors x) ;;\n",
    "\n",
    "\n",
    "assert ((phi_improved 10) = 4) ;;\n",
    "assert ((phi_improved 13) = 12) ;;"
   ]
  },
  {
   "cell_type": "markdown",
   "metadata": {},
   "source": [
    "## 38. Compare the two methods of calculating Euler's totient function. (easy)\n",
    "\n",
    "Use the solutions of problems \"Calculate Euler's totient function φ(m)\" and \"Calculate Euler's totient function φ(m) (improved)\" to compare the algorithms. Take the number of logical inferences as a measure for efficiency. Try to calculate φ(10090) as an example."
   ]
  },
  {
   "cell_type": "markdown",
   "metadata": {},
   "source": [
    "*Solution:*"
   ]
  },
  {
   "cell_type": "code",
   "execution_count": 56,
   "metadata": {},
   "outputs": [
    {
     "data": {
      "text/plain": [
       "val timeit : ('a -> 'b) -> 'a -> float = <fun>\n"
      ]
     },
     "execution_count": 56,
     "metadata": {},
     "output_type": "execute_result"
    }
   ],
   "source": [
    "(* Naive [timeit] function.  It requires the [Unix] module to be loaded. *)\n",
    "let timeit f a =\n",
    "    let t0 = Unix.gettimeofday() in\n",
    "    ignore(f a);\n",
    "    let t1 = Unix.gettimeofday() in\n",
    "    t1 -. t0 ;;"
   ]
  },
  {
   "cell_type": "markdown",
   "metadata": {},
   "source": [
    "## 39. A list of prime numbers. (easy)\n",
    "\n",
    "Given a range of integers by its lower and upper limit, construct a list of all prime numbers in that range."
   ]
  },
  {
   "cell_type": "code",
   "execution_count": 57,
   "metadata": {},
   "outputs": [
    {
     "data": {
      "text/plain": [
       "val all_primes : int -> int -> int list = <fun>\n"
      ]
     },
     "execution_count": 57,
     "metadata": {},
     "output_type": "execute_result"
    },
    {
     "data": {
      "text/plain": [
       "- : unit = ()\n"
      ]
     },
     "execution_count": 57,
     "metadata": {},
     "output_type": "execute_result"
    }
   ],
   "source": [
    "let rec all_primes a b =\n",
    "    if a > b then []\n",
    "    else\n",
    "        if is_prime a then a :: all_primes (a+1) b\n",
    "        else all_primes (a+1) b ;;\n",
    "\n",
    "\n",
    "assert ((List.length (all_primes 2 7920)) = 1000) ;;"
   ]
  },
  {
   "cell_type": "markdown",
   "metadata": {},
   "source": [
    "## 40. Goldbach's conjecture. (medium)\n",
    "\n",
    "Goldbach's conjecture says that every positive even number greater than 2 is the sum of two prime numbers. Example: 28 = 5 + 23. It is one of the most famous facts in number theory that has not been proved to be correct in the general case. It has been *numerically confirmed* up to very large numbers. Write a function to find the two prime numbers that sum up to a given even integer."
   ]
  },
  {
   "cell_type": "code",
   "execution_count": 58,
   "metadata": {},
   "outputs": [
    {
     "data": {
      "text/plain": [
       "val goldbach : int -> int * int = <fun>\n"
      ]
     },
     "execution_count": 58,
     "metadata": {},
     "output_type": "execute_result"
    },
    {
     "data": {
      "text/plain": [
       "- : unit = ()\n"
      ]
     },
     "execution_count": 58,
     "metadata": {},
     "output_type": "execute_result"
    }
   ],
   "source": [
    "let goldbach x =\n",
    "    let rec aux a =\n",
    "        if (is_prime a) && (is_prime (x-a)) then (a, x-a)\n",
    "        else aux (a+1)\n",
    "    in\n",
    "    aux 2 ;;\n",
    "\n",
    "\n",
    "assert ((goldbach 28) = (5, 23)) ;;"
   ]
  },
  {
   "cell_type": "markdown",
   "metadata": {},
   "source": [
    "## 41. A list of Goldbach compositions. (medium)\n",
    "\n",
    "Given a range of integers by its lower and upper limit, print a list of all even numbers and their Goldbach composition.\n",
    "\n",
    "In most cases, if an even number is written as the sum of two prime numbers, one of them is very small. Very rarely, the primes are both bigger than say 50. Try to find out how many such cases there are in the range 2..3000."
   ]
  },
  {
   "cell_type": "code",
   "execution_count": 59,
   "metadata": {},
   "outputs": [
    {
     "data": {
      "text/plain": [
       "val goldbach_list : int -> int -> (int * (int * int)) list = <fun>\n"
      ]
     },
     "execution_count": 59,
     "metadata": {},
     "output_type": "execute_result"
    },
    {
     "data": {
      "text/plain": [
       "- : unit = ()\n"
      ]
     },
     "execution_count": 59,
     "metadata": {},
     "output_type": "execute_result"
    }
   ],
   "source": [
    "let rec goldbach_list a b =\n",
    "    let a = a + 1 in\n",
    "    if a <= b then (a, (goldbach a)) :: (goldbach_list (a+1) b) else [] ;;\n",
    "\n",
    "\n",
    "assert ((goldbach_list 9 20) = [(10, (3, 7)); (12, (5, 7)); (14, (3, 11)); (16, (3, 13)); (18, (5, 13));\n",
    " (20, (3, 17))]) ;;"
   ]
  },
  {
   "cell_type": "code",
   "execution_count": 60,
   "metadata": {},
   "outputs": [
    {
     "data": {
      "text/plain": [
       "val goldbach_limit : int -> int -> int -> (int * (int * int)) list = <fun>\n"
      ]
     },
     "execution_count": 60,
     "metadata": {},
     "output_type": "execute_result"
    },
    {
     "data": {
      "text/plain": [
       "- : unit = ()\n"
      ]
     },
     "execution_count": 60,
     "metadata": {},
     "output_type": "execute_result"
    }
   ],
   "source": [
    "let rec goldbach_limit a b lim =\n",
    "    if a <= b then\n",
    "        let x, y = goldbach a in\n",
    "        if (x > lim) && (y > lim) then (a, (x, y)) :: (goldbach_limit (a+1) b lim)\n",
    "        else goldbach_limit (a+1) b lim\n",
    "    else [] ;;\n",
    "\n",
    "\n",
    "assert ((goldbach_limit 1 2000 50) = [(992, (73, 919)); (1382, (61, 1321)); (1856, (67, 1789));\n",
    " (1928, (61, 1867))]) ;;"
   ]
  },
  {
   "cell_type": "markdown",
   "metadata": {},
   "source": [
    "# Logic and Codes\n",
    "\n",
    "Let us define a small \"language\" for boolean expressions containing variables:"
   ]
  },
  {
   "cell_type": "code",
   "execution_count": 61,
   "metadata": {},
   "outputs": [
    {
     "data": {
      "text/plain": [
       "type bool_expr =\n",
       "    Var of string\n",
       "  | Not of bool_expr\n",
       "  | And of bool_expr * bool_expr\n",
       "  | Or of bool_expr * bool_expr\n"
      ]
     },
     "execution_count": 61,
     "metadata": {},
     "output_type": "execute_result"
    }
   ],
   "source": [
    "type bool_expr =\n",
    "    | Var of string\n",
    "    | Not of bool_expr\n",
    "    | And of bool_expr * bool_expr\n",
    "    | Or of bool_expr * bool_expr ;;"
   ]
  },
  {
   "cell_type": "markdown",
   "metadata": {},
   "source": [
    "A logical expression in two variables can then be written in prefix notation. For example, (a ∨ b) ∧ (a ∧ b) is written:"
   ]
  },
  {
   "cell_type": "code",
   "execution_count": 62,
   "metadata": {},
   "outputs": [
    {
     "data": {
      "text/plain": [
       "- : bool_expr = And (Or (Var \"a\", Var \"b\"), And (Var \"a\", Var \"b\"))\n"
      ]
     },
     "execution_count": 62,
     "metadata": {},
     "output_type": "execute_result"
    }
   ],
   "source": [
    "And(Or(Var \"a\", Var \"b\"), And(Var \"a\", Var \"b\")) ;;"
   ]
  },
  {
   "cell_type": "markdown",
   "metadata": {},
   "source": [
    "## 46 & 47. Truth tables for logical expressions (2 variables). (medium)\n",
    "\n",
    "Define a function, `table2` which returns the truth table of a given logical expression in two variables (specified as arguments). The return value must be a list of triples containing `(value_of_a, value_of_b, value_of_expr)`."
   ]
  },
  {
   "cell_type": "code",
   "execution_count": 63,
   "metadata": {},
   "outputs": [
    {
     "data": {
      "text/plain": [
       "val get : 'a -> ('a * 'b) list -> 'b = <fun>\n"
      ]
     },
     "execution_count": 63,
     "metadata": {},
     "output_type": "execute_result"
    },
    {
     "data": {
      "text/plain": [
       "val eval : (string * bool) list -> bool_expr -> bool = <fun>\n"
      ]
     },
     "execution_count": 63,
     "metadata": {},
     "output_type": "execute_result"
    },
    {
     "data": {
      "text/plain": [
       "val table2 : string -> string -> bool_expr -> (bool * bool * bool) list =\n",
       "  <fun>\n"
      ]
     },
     "execution_count": 63,
     "metadata": {},
     "output_type": "execute_result"
    },
    {
     "data": {
      "text/plain": [
       "- : unit = ()\n"
      ]
     },
     "execution_count": 63,
     "metadata": {},
     "output_type": "execute_result"
    }
   ],
   "source": [
    "let rec get key = function\n",
    "    | [] -> raise Not_found\n",
    "    | (k, v) :: t -> if k = key then v else get key t ;; \n",
    "\n",
    "let rec eval vars = function\n",
    "    | Var x -> get x vars\n",
    "    | Not x -> not (eval vars x)\n",
    "    | And (x, y) -> (eval vars x) && (eval vars y)\n",
    "    | Or (x, y) -> (eval vars x) || (eval vars y) ;;\n",
    "    \n",
    "let table2 a b expr =\n",
    "    let grid = [[(a, true); (b, true)]; [(a, true); (b, false)]; [(a, false); (b, true)]; [(a, false); (b, false)]] in\n",
    "    let rec iter = function\n",
    "        | [] -> []\n",
    "        | h :: t -> (get \"a\" h, get \"b\" h, eval h expr) :: (iter t)\n",
    "    in\n",
    "    iter grid ;;\n",
    "   \n",
    "   \n",
    "assert ((table2 \"a\" \"b\" (And(Var \"a\", Or(Var \"a\", Var \"b\")))) = [(true, true, true); (true, false, true); (false, true, false);\n",
    " (false, false, false)]) ;;"
   ]
  },
  {
   "cell_type": "code",
   "execution_count": 64,
   "metadata": {},
   "outputs": [
    {
     "data": {
      "text/plain": [
       "val string_of_bool_expr : bool_expr -> string = <fun>\n"
      ]
     },
     "execution_count": 64,
     "metadata": {},
     "output_type": "execute_result"
    },
    {
     "data": {
      "text/plain": [
       "- : string = \"~((a | ~b) & (a & b))\"\n"
      ]
     },
     "execution_count": 64,
     "metadata": {},
     "output_type": "execute_result"
    }
   ],
   "source": [
    "let rec string_of_bool_expr expr = \n",
    "    let brackets x = \"(\" ^ x ^ \")\" in\n",
    "    match expr with\n",
    "        | Var x -> x\n",
    "        | Not x -> \"~\" ^ string_of_bool_expr x\n",
    "        | And (x, y) -> brackets ( (string_of_bool_expr x) ^ \" & \" ^ (string_of_bool_expr y) )\n",
    "        | Or (x, y) -> brackets ( (string_of_bool_expr x) ^ \" | \" ^ (string_of_bool_expr y) ) ;;\n",
    "    \n",
    "    \n",
    "string_of_bool_expr (Not (And(Or(Var \"a\", Not (Var \"b\")), And(Var \"a\", Var \"b\"))))"
   ]
  },
  {
   "cell_type": "markdown",
   "metadata": {},
   "source": [
    "## 48. Truth tables for logical expressions. (medium)\n",
    "\n",
    "Generalize the previous problem in such a way that the logical expression may contain any number of logical variables. Define `table` in a way that `table variables expr` returns the truth table for the expression expr, which contains the logical variables enumerated in `variables`."
   ]
  },
  {
   "cell_type": "code",
   "execution_count": 65,
   "metadata": {},
   "outputs": [
    {
     "data": {
      "text/plain": [
       "val table_make :\n",
       "  (string * bool) list ->\n",
       "  string list -> bool_expr -> ((string * bool) list * bool) list = <fun>\n"
      ]
     },
     "execution_count": 65,
     "metadata": {},
     "output_type": "execute_result"
    },
    {
     "data": {
      "text/plain": [
       "val table : string list -> bool_expr -> ((string * bool) list * bool) list =\n",
       "  <fun>\n"
      ]
     },
     "execution_count": 65,
     "metadata": {},
     "output_type": "execute_result"
    },
    {
     "data": {
      "text/plain": [
       "- : unit = ()\n"
      ]
     },
     "execution_count": 65,
     "metadata": {},
     "output_type": "execute_result"
    },
    {
     "data": {
      "text/plain": [
       "- : unit = ()\n"
      ]
     },
     "execution_count": 65,
     "metadata": {},
     "output_type": "execute_result"
    }
   ],
   "source": [
    "(* My eval works with the example in the solution! *)\n",
    "\n",
    "let rec table_make val_vars vars expr =\n",
    "    match vars with\n",
    "    | [] -> [(List.rev val_vars, eval val_vars expr)]\n",
    "    | v :: tl ->\n",
    "       table_make ((v, true) :: val_vars) tl expr\n",
    "       @ table_make ((v, false) :: val_vars) tl expr ;;\n",
    "       \n",
    "let table vars expr = table_make [] vars expr ;;\n",
    "\n",
    "\n",
    "assert ((table [\"a\"; \"b\"] (And(Var \"a\", Or(Var \"a\", Var \"b\")))) =\n",
    "[([(\"a\", true); (\"b\", true)], true); ([(\"a\", true); (\"b\", false)], true);\n",
    " ([(\"a\", false); (\"b\", true)], false); ([(\"a\", false); (\"b\", false)], false)]) ;;\n",
    "assert ((let a = Var \"a\" and b = Var \"b\" and c = Var \"c\" in\n",
    "  table [\"a\"; \"b\"; \"c\"] (Or(And(a, Or(b,c)), Or(And(a,b), And(a,c))))) =\n",
    "[([(\"a\", true); (\"b\", true); (\"c\", true)], true);\n",
    " ([(\"a\", true); (\"b\", true); (\"c\", false)], true);\n",
    " ([(\"a\", true); (\"b\", false); (\"c\", true)], true);\n",
    " ([(\"a\", true); (\"b\", false); (\"c\", false)], false);\n",
    " ([(\"a\", false); (\"b\", true); (\"c\", true)], false);\n",
    " ([(\"a\", false); (\"b\", true); (\"c\", false)], false);\n",
    " ([(\"a\", false); (\"b\", false); (\"c\", true)], false);\n",
    " ([(\"a\", false); (\"b\", false); (\"c\", false)], false)]) ;;"
   ]
  },
  {
   "cell_type": "markdown",
   "metadata": {},
   "source": [
    "## 49. Gray code. (medium)\n",
    "\n",
    "An n-bit Gray code is a sequence of n-bit strings constructed according to certain rules. For example,"
   ]
  },
  {
   "cell_type": "raw",
   "metadata": {},
   "source": [
    "n = 1: C(1) = ['0','1'].\n",
    "n = 2: C(2) = ['00','01','11','10'].\n",
    "n = 3: C(3) = ['000','001','011','010',´110´,´111´,´101´,´100´]."
   ]
  },
  {
   "cell_type": "markdown",
   "metadata": {},
   "source": [
    "Find out the construction rules and write a function with the following specification: gray n returns the n-bit Gray code."
   ]
  },
  {
   "cell_type": "code",
   "execution_count": 66,
   "metadata": {},
   "outputs": [
    {
     "data": {
      "text/plain": [
       "val string_of_list : int list -> string = <fun>\n"
      ]
     },
     "execution_count": 66,
     "metadata": {},
     "output_type": "execute_result"
    },
    {
     "data": {
      "text/plain": [
       "- : string = \"101\"\n"
      ]
     },
     "execution_count": 66,
     "metadata": {},
     "output_type": "execute_result"
    }
   ],
   "source": [
    "let rec string_of_list = function\n",
    "    | [] -> \"\"\n",
    "    | h :: t -> string_of_int h ^ (string_of_list t) ;;\n",
    "\n",
    "string_of_list [1;0;1]"
   ]
  },
  {
   "cell_type": "code",
   "execution_count": 67,
   "metadata": {},
   "outputs": [
    {
     "data": {
      "text/plain": [
       "val gray : int -> string list = <fun>\n"
      ]
     },
     "execution_count": 67,
     "metadata": {},
     "output_type": "execute_result"
    },
    {
     "data": {
      "text/plain": [
       "- : unit = ()\n"
      ]
     },
     "execution_count": 67,
     "metadata": {},
     "output_type": "execute_result"
    },
    {
     "data": {
      "text/plain": [
       "- : unit = ()\n"
      ]
     },
     "execution_count": 67,
     "metadata": {},
     "output_type": "execute_result"
    },
    {
     "data": {
      "text/plain": [
       "- : unit = ()\n"
      ]
     },
     "execution_count": 67,
     "metadata": {},
     "output_type": "execute_result"
    }
   ],
   "source": [
    "let gray n =\n",
    "    let init = [[0];[1]] in\n",
    "    let rec map_fold f = function\n",
    "        | [] -> []\n",
    "        | h :: t -> (f h) @ (map_fold f t)\n",
    "    in\n",
    "    let prefix lst x =\n",
    "        let l = if x = 1 then lst else List.rev lst in\n",
    "        List.rev (List.map (fun h -> x :: h) l)\n",
    "    in\n",
    "    let rec iter n acc =\n",
    "        if n < 2 then acc\n",
    "        else iter (n-1) (map_fold (prefix acc) [0;1])\n",
    "    in\n",
    "    let gray_list n =\n",
    "        if n = 1 then init\n",
    "        else iter n init\n",
    "    in List.map string_of_list (gray_list n) ;;\n",
    "    \n",
    "\n",
    "assert ((gray 1) = [\"0\"; \"1\"]) ;;\n",
    "assert ((gray 2) = [\"00\"; \"01\"; \"11\"; \"10\"]) ;;\n",
    "assert ((gray 3) = [\"000\"; \"001\"; \"011\"; \"010\"; \"110\"; \"111\"; \"101\"; \"100\"]) ;;"
   ]
  },
  {
   "cell_type": "markdown",
   "metadata": {},
   "source": [
    "## 50. Huffman code (hard)\n",
    "\n",
    "First of all, consult a good book on discrete mathematics or algorithms for a detailed description of Huffman codes (you can start with the [Wikipedia page](https://en.wikipedia.org/wiki/Huffman_coding))!\n",
    "\n",
    "We consider a set of symbols with their frequencies. For example, if the alphabet is `\"a\"`,..., `\"f\"` (represented as the positions 0,...5) and respective frequencies are 45, 13, 12, 16, 9, 5:"
   ]
  },
  {
   "cell_type": "code",
   "execution_count": 68,
   "metadata": {},
   "outputs": [
    {
     "data": {
      "text/plain": [
       "val fs : (string * int) list =\n",
       "  [(\"a\", 45); (\"b\", 13); (\"c\", 12); (\"d\", 16); (\"e\", 9); (\"f\", 5)]\n"
      ]
     },
     "execution_count": 68,
     "metadata": {},
     "output_type": "execute_result"
    }
   ],
   "source": [
    "let fs = [ (\"a\", 45); (\"b\", 13); (\"c\", 12); (\"d\", 16);\n",
    "             (\"e\", 9); (\"f\", 5) ] ;;"
   ]
  },
  {
   "cell_type": "code",
   "execution_count": null,
   "metadata": {},
   "outputs": [],
   "source": []
  },
  {
   "cell_type": "code",
   "execution_count": 69,
   "metadata": {},
   "outputs": [
    {
     "data": {
      "text/plain": [
       "type tree = Leaf of int * string | Node of int * tree * tree\n"
      ]
     },
     "execution_count": 69,
     "metadata": {},
     "output_type": "execute_result"
    },
    {
     "data": {
      "text/plain": [
       "- : tree = Node (3, Leaf (1, \"a\"), Leaf (2, \"b\"))\n"
      ]
     },
     "execution_count": 69,
     "metadata": {},
     "output_type": "execute_result"
    }
   ],
   "source": [
    "type tree = \n",
    "    | Leaf of int * string\n",
    "    | Node of int * tree * tree ;;\n",
    "    \n",
    "Node (3, Leaf (1, \"a\"), Leaf (2, \"b\"))"
   ]
  },
  {
   "cell_type": "code",
   "execution_count": 70,
   "metadata": {},
   "outputs": [
    {
     "data": {
      "text/plain": [
       "val leafs : tree list =\n",
       "  [Leaf (45, \"a\"); Leaf (13, \"b\"); Leaf (12, \"c\"); Leaf (16, \"d\");\n",
       "   Leaf (9, \"e\"); Leaf (5, \"f\")]\n"
      ]
     },
     "execution_count": 70,
     "metadata": {},
     "output_type": "execute_result"
    }
   ],
   "source": [
    "let leafs = List.map (fun (s, n) -> Leaf (n, s)) fs ;;"
   ]
  },
  {
   "cell_type": "code",
   "execution_count": 71,
   "metadata": {},
   "outputs": [
    {
     "data": {
      "text/plain": [
       "val get_count : tree -> int = <fun>\n"
      ]
     },
     "execution_count": 71,
     "metadata": {},
     "output_type": "execute_result"
    },
    {
     "data": {
      "text/plain": [
       "- : int list = [45; 13; 12; 16; 9; 5]\n"
      ]
     },
     "execution_count": 71,
     "metadata": {},
     "output_type": "execute_result"
    }
   ],
   "source": [
    "let get_count = function\n",
    "    | Leaf (n, _) -> n\n",
    "    | Node (n, _, _) -> n ;;\n",
    "    \n",
    "List.map get_count leafs"
   ]
  },
  {
   "cell_type": "code",
   "execution_count": 72,
   "metadata": {},
   "outputs": [
    {
     "data": {
      "text/plain": [
       "val sort_leafs : tree list -> tree list = <fun>\n"
      ]
     },
     "execution_count": 72,
     "metadata": {},
     "output_type": "execute_result"
    },
    {
     "data": {
      "text/plain": [
       "- : tree list =\n",
       "[Leaf (5, \"f\"); Leaf (9, \"e\"); Leaf (12, \"c\"); Leaf (13, \"b\");\n",
       " Leaf (16, \"d\"); Leaf (45, \"a\")]\n"
      ]
     },
     "execution_count": 72,
     "metadata": {},
     "output_type": "execute_result"
    }
   ],
   "source": [
    "let sort_leafs lst = List.sort (fun x y -> if (get_count x) < (get_count y) then -1 else 1 ) lst ;;\n",
    "\n",
    "sort_leafs leafs"
   ]
  },
  {
   "cell_type": "code",
   "execution_count": 73,
   "metadata": {},
   "outputs": [
    {
     "data": {
      "text/plain": [
       "val combine : tree -> tree -> tree = <fun>\n"
      ]
     },
     "execution_count": 73,
     "metadata": {},
     "output_type": "execute_result"
    },
    {
     "data": {
      "text/plain": [
       "- : tree = Node (25, Leaf (13, \"b\"), Leaf (12, \"c\"))\n"
      ]
     },
     "execution_count": 73,
     "metadata": {},
     "output_type": "execute_result"
    }
   ],
   "source": [
    "let combine x y =\n",
    "    Node (get_count x + get_count y, x, y) ;;\n",
    "    \n",
    "combine (List.nth leafs 1) (List.nth leafs 2)"
   ]
  },
  {
   "cell_type": "code",
   "execution_count": 74,
   "metadata": {},
   "outputs": [
    {
     "data": {
      "text/plain": [
       "val build_tree : tree list -> tree = <fun>\n"
      ]
     },
     "execution_count": 74,
     "metadata": {},
     "output_type": "execute_result"
    },
    {
     "data": {
      "text/plain": [
       "- : tree =\n",
       "Node (100, Leaf (45, \"a\"),\n",
       " Node (55, Node (25, Leaf (12, \"c\"), Leaf (13, \"b\")),\n",
       "  Node (30, Node (14, Leaf (5, \"f\"), Leaf (9, \"e\")), Leaf (16, \"d\"))))\n"
      ]
     },
     "execution_count": 74,
     "metadata": {},
     "output_type": "execute_result"
    }
   ],
   "source": [
    "let rec build_tree lst =\n",
    "    let sorted = sort_leafs lst in\n",
    "    match sorted with\n",
    "        | x :: y :: t -> build_tree (combine x y :: t)\n",
    "        | x -> List.nth x 0 ;;\n",
    "    \n",
    "build_tree leafs"
   ]
  },
  {
   "cell_type": "code",
   "execution_count": 80,
   "metadata": {},
   "outputs": [
    {
     "data": {
      "text/plain": [
       "val get_codes : tree -> string -> (string * string) list = <fun>\n"
      ]
     },
     "execution_count": 80,
     "metadata": {},
     "output_type": "execute_result"
    },
    {
     "data": {
      "text/plain": [
       "- : (string * string) list =\n",
       "[(\"a\", \"0\"); (\"c\", \"100\"); (\"b\", \"101\"); (\"f\", \"1100\"); (\"e\", \"1101\");\n",
       " (\"d\", \"111\")]\n"
      ]
     },
     "execution_count": 80,
     "metadata": {},
     "output_type": "execute_result"
    }
   ],
   "source": [
    "let rec get_codes node code =\n",
    "    match node with\n",
    "    | Leaf (_, x) -> [(x, code)]\n",
    "    | Node (_, x, y) -> (get_codes x (code ^ \"0\")) @ (get_codes y (code ^ \"1\")) ;;\n",
    "    \n",
    "get_codes (build_tree leafs) \"\""
   ]
  },
  {
   "cell_type": "markdown",
   "metadata": {},
   "source": [
    "Our objective is to construct the Huffman code `c` word for all symbols `s`. In our example, the result could be `hs = [(\"a\", \"0\"); (\"b\", \"101\"); (\"c\", \"100\"); (\"d\", \"111\"); (\"e\", \"1101\"); (\"f\", \"1100\")]` (or `hs = [ (\"a\", \"1\");...]`). The task shall be performed by the function huffman defined as follows: `huffman(fs)` returns the Huffman code table for the frequency table `fs`"
   ]
  },
  {
   "cell_type": "code",
   "execution_count": 82,
   "metadata": {},
   "outputs": [
    {
     "data": {
      "text/plain": [
       "val huffman : (string * int) list -> (string * string) list = <fun>\n"
      ]
     },
     "execution_count": 82,
     "metadata": {},
     "output_type": "execute_result"
    },
    {
     "data": {
      "text/plain": [
       "- : unit = ()\n"
      ]
     },
     "execution_count": 82,
     "metadata": {},
     "output_type": "execute_result"
    },
    {
     "data": {
      "text/plain": [
       "- : unit = ()\n"
      ]
     },
     "execution_count": 82,
     "metadata": {},
     "output_type": "execute_result"
    }
   ],
   "source": [
    "let huffman fs =\n",
    "    let leafs = List.map (fun (s, n) -> Leaf (n, s)) fs in\n",
    "    get_codes (build_tree leafs) \"\" ;;\n",
    "\n",
    "\n",
    "assert ((huffman fs) = [(\"a\", \"0\"); (\"c\", \"100\"); (\"b\", \"101\"); (\"f\", \"1100\"); (\"e\", \"1101\"); (\"d\", \"111\")]) ;;\n",
    "assert ((huffman [\"a\", 10;  \"b\", 15;  \"c\", 30;  \"d\", 16;  \"e\", 29]) = [(\"d\", \"00\"); (\"a\", \"010\"); (\"b\", \"011\"); (\"e\", \"10\"); (\"c\", \"11\")]) ;;"
   ]
  },
  {
   "cell_type": "markdown",
   "metadata": {},
   "source": [
    "## 95. English number words. (medium)\n",
    "\n",
    "On financial documents, like cheques, numbers must sometimes be written in full words. Example: 175 must be written as one-seven-five. Write a function full_words to print (non-negative) integer numbers in `full words`."
   ]
  },
  {
   "cell_type": "code",
   "execution_count": 77,
   "metadata": {},
   "outputs": [
    {
     "data": {
      "text/plain": [
       "val full_words : int -> string = <fun>\n"
      ]
     },
     "execution_count": 77,
     "metadata": {},
     "output_type": "execute_result"
    },
    {
     "data": {
      "text/plain": [
       "- : unit = ()\n"
      ]
     },
     "execution_count": 77,
     "metadata": {},
     "output_type": "execute_result"
    },
    {
     "data": {
      "text/plain": [
       "- : unit = ()\n"
      ]
     },
     "execution_count": 77,
     "metadata": {},
     "output_type": "execute_result"
    },
    {
     "data": {
      "text/plain": [
       "- : unit = ()\n"
      ]
     },
     "execution_count": 77,
     "metadata": {},
     "output_type": "execute_result"
    }
   ],
   "source": [
    "let rec full_words =\n",
    "    let rec digits x i =\n",
    "        let d = x mod (i*10) in\n",
    "        if x = 0 then []\n",
    "        else (d/i) :: (digits (x-d) (i*10))\n",
    "    in function\n",
    "    | 0 -> \"zero\"\n",
    "    | 1 -> \"one\"\n",
    "    | 2 -> \"two\"\n",
    "    | 3 -> \"three\"\n",
    "    | 4 -> \"four\"\n",
    "    | 5 -> \"five\"\n",
    "    | 6 -> \"six\"\n",
    "    | 7 -> \"seven\"\n",
    "    | 8 -> \"eight\"\n",
    "    | 9 -> \"nine\"\n",
    "    | big -> List.rev (digits big 1) |>\n",
    "             List.map full_words |>\n",
    "             String.concat \"-\" ;;\n",
    "\n",
    "\n",
    "assert ((full_words 175) = \"one-seven-five\") ;;\n",
    "assert ((full_words 23485) = \"two-three-four-eight-five\") ;;\n",
    "assert ((full_words 0) = \"zero\") ;;"
   ]
  },
  {
   "cell_type": "markdown",
   "metadata": {},
   "source": [
    "## 96. Syntax checker. (medium)\n",
    "\n",
    "![Syntax graph](https://ocaml.org/img/syntax-graph.gif)\n",
    "\n",
    "In a certain programming language (Ada) identifiers are defined by the syntax diagram (railroad chart) opposite. Transform the syntax diagram into a system of syntax diagrams which do not contain loops; i.e. which are purely recursive. Using these modified diagrams, write a function `identifier : string -> bool` that can check whether or not a given string is a legal identifier."
   ]
  },
  {
   "cell_type": "code",
   "execution_count": 78,
   "metadata": {},
   "outputs": [
    {
     "data": {
      "text/plain": [
       "type lang = C | D | H\n"
      ]
     },
     "execution_count": 78,
     "metadata": {},
     "output_type": "execute_result"
    },
    {
     "data": {
      "text/plain": [
       "exception Value_error\n"
      ]
     },
     "execution_count": 78,
     "metadata": {},
     "output_type": "execute_result"
    },
    {
     "data": {
      "text/plain": [
       "val lang_of_string : string -> lang list = <fun>\n"
      ]
     },
     "execution_count": 78,
     "metadata": {},
     "output_type": "execute_result"
    },
    {
     "data": {
      "text/plain": [
       "val identifier : string -> bool = <fun>\n"
      ]
     },
     "execution_count": 78,
     "metadata": {},
     "output_type": "execute_result"
    },
    {
     "data": {
      "text/plain": [
       "- : unit = ()\n"
      ]
     },
     "execution_count": 78,
     "metadata": {},
     "output_type": "execute_result"
    },
    {
     "data": {
      "text/plain": [
       "- : unit = ()\n"
      ]
     },
     "execution_count": 78,
     "metadata": {},
     "output_type": "execute_result"
    },
    {
     "data": {
      "text/plain": [
       "- : unit = ()\n"
      ]
     },
     "execution_count": 78,
     "metadata": {},
     "output_type": "execute_result"
    },
    {
     "data": {
      "text/plain": [
       "- : unit = ()\n"
      ]
     },
     "execution_count": 78,
     "metadata": {},
     "output_type": "execute_result"
    },
    {
     "data": {
      "text/plain": [
       "- : unit = ()\n"
      ]
     },
     "execution_count": 78,
     "metadata": {},
     "output_type": "execute_result"
    }
   ],
   "source": [
    "type lang = C | D | H ;;\n",
    "    \n",
    "exception Value_error ;;\n",
    "    \n",
    "let lang_of_string str = \n",
    "    let lang_of_char c = \n",
    "        if (c >= 'a') && (c <= 'z') then C\n",
    "        else if (c >= '0') && (c <= '9') then D\n",
    "            else if c = '-' then H\n",
    "                else raise Value_error    \n",
    "    in \n",
    "    let n = String.length str in\n",
    "    let rec aux i =\n",
    "        if i < n then (lang_of_char str.[i]) :: (aux (i+1))\n",
    "        else []\n",
    "    in aux 0 ;;\n",
    "    \n",
    "let identifier str = \n",
    "    try\n",
    "        let lst = lang_of_string str in\n",
    "        let rec aux = function\n",
    "            | [] | [C] | [D] -> true\n",
    "            | C :: t -> aux t\n",
    "            | D :: (C :: t as r) -> aux r\n",
    "            | H :: (C :: t as r) -> aux r\n",
    "            | H :: (D :: t as r) -> aux r\n",
    "            | _ -> false\n",
    "        in ((List.hd lst) <> H) && (aux lst)\n",
    "    with Value_error -> false ;;\n",
    "\n",
    "\n",
    "assert ((identifier \"this-is-a-long-identifier\")) ;;\n",
    "assert ((not (identifier \"this-ends-in-\"))) ;;\n",
    "assert ((not (identifier \"two--hyphens\"))) ;;\n",
    "assert ((not (identifier \"-dash-first\"))) ;;\n",
    "assert ((not (identifier \"I'm wrong!\"))) ;;"
   ]
  }
 ],
 "metadata": {
  "kernelspec": {
   "display_name": "OCaml default",
   "language": "OCaml",
   "name": "ocaml-jupyter"
  },
  "language_info": {
   "codemirror_mode": "text/x-ocaml",
   "file_extension": ".ml",
   "mimetype": "text/x-ocaml",
   "name": "OCaml",
   "nbconverter_exporter": null,
   "pygments_lexer": "OCaml",
   "version": "4.08.1"
  }
 },
 "nbformat": 4,
 "nbformat_minor": 4
}
