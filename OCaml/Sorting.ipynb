{
 "cells": [
  {
   "cell_type": "markdown",
   "metadata": {},
   "source": [
    "# Sorting algorithms implemented in OCaml"
   ]
  },
  {
   "cell_type": "markdown",
   "metadata": {},
   "source": [
    "## Naive sorting algorithm"
   ]
  },
  {
   "cell_type": "code",
   "execution_count": 72,
   "metadata": {},
   "outputs": [
    {
     "data": {
      "text/plain": [
       "val naivesort : 'a list -> 'a list = <fun>\n"
      ]
     },
     "execution_count": 72,
     "metadata": {},
     "output_type": "execute_result"
    },
    {
     "data": {
      "text/plain": [
       "- : unit = ()\n"
      ]
     },
     "execution_count": 72,
     "metadata": {},
     "output_type": "execute_result"
    },
    {
     "data": {
      "text/plain": [
       "- : unit = ()\n"
      ]
     },
     "execution_count": 72,
     "metadata": {},
     "output_type": "execute_result"
    },
    {
     "data": {
      "text/plain": [
       "- : unit = ()\n"
      ]
     },
     "execution_count": 72,
     "metadata": {},
     "output_type": "execute_result"
    },
    {
     "data": {
      "text/plain": [
       "- : unit = ()\n"
      ]
     },
     "execution_count": 72,
     "metadata": {},
     "output_type": "execute_result"
    },
    {
     "data": {
      "text/plain": [
       "- : unit = ()\n"
      ]
     },
     "execution_count": 72,
     "metadata": {},
     "output_type": "execute_result"
    },
    {
     "data": {
      "text/plain": [
       "- : unit = ()\n"
      ]
     },
     "execution_count": 72,
     "metadata": {},
     "output_type": "execute_result"
    },
    {
     "data": {
      "text/plain": [
       "- : unit = ()\n"
      ]
     },
     "execution_count": 72,
     "metadata": {},
     "output_type": "execute_result"
    }
   ],
   "source": [
    "let rec naivesort lst = \n",
    "    let rec sort m acc = function\n",
    "        | [] -> m :: (naivesort acc)\n",
    "        | h :: t ->\n",
    "            if h < m then sort h (m :: acc) t\n",
    "            else sort m (h :: acc) t\n",
    "    in\n",
    "    match lst with\n",
    "        | [] -> []\n",
    "        | h :: t -> (sort h [] t) ;;\n",
    "\n",
    "\n",
    "assert ((naivesort []) = []) ;;\n",
    "assert ((naivesort [1]) = [1]) ;;\n",
    "assert ((naivesort [1;1;1;1]) = [1;1;1;1]) ;;\n",
    "assert ((naivesort [1;2;3;4]) = [1;2;3;4]) ;;\n",
    "assert ((naivesort [5;2;1;1;3;6;4]) = [1;1;2;3;4;5;6]) ;;\n",
    "assert ((naivesort [5;1;2;3;4]) = [1;2;3;4;5]) ;;\n",
    "assert ((naivesort [5;4;3;2;1]) = [1;2;3;4;5]) ;;"
   ]
  },
  {
   "cell_type": "markdown",
   "metadata": {},
   "source": [
    "## Bubble sort"
   ]
  },
  {
   "cell_type": "code",
   "execution_count": 73,
   "metadata": {},
   "outputs": [
    {
     "data": {
      "text/plain": [
       "val bubblesort : 'a list -> 'a list = <fun>\n"
      ]
     },
     "execution_count": 73,
     "metadata": {},
     "output_type": "execute_result"
    },
    {
     "data": {
      "text/plain": [
       "- : unit = ()\n"
      ]
     },
     "execution_count": 73,
     "metadata": {},
     "output_type": "execute_result"
    },
    {
     "data": {
      "text/plain": [
       "- : unit = ()\n"
      ]
     },
     "execution_count": 73,
     "metadata": {},
     "output_type": "execute_result"
    },
    {
     "data": {
      "text/plain": [
       "- : unit = ()\n"
      ]
     },
     "execution_count": 73,
     "metadata": {},
     "output_type": "execute_result"
    },
    {
     "data": {
      "text/plain": [
       "- : unit = ()\n"
      ]
     },
     "execution_count": 73,
     "metadata": {},
     "output_type": "execute_result"
    },
    {
     "data": {
      "text/plain": [
       "- : unit = ()\n"
      ]
     },
     "execution_count": 73,
     "metadata": {},
     "output_type": "execute_result"
    },
    {
     "data": {
      "text/plain": [
       "- : unit = ()\n"
      ]
     },
     "execution_count": 73,
     "metadata": {},
     "output_type": "execute_result"
    },
    {
     "data": {
      "text/plain": [
       "- : unit = ()\n"
      ]
     },
     "execution_count": 73,
     "metadata": {},
     "output_type": "execute_result"
    }
   ],
   "source": [
    "let bubblesort lst = \n",
    "    let rec sort acc = function\n",
    "        | [] -> []\n",
    "        | [a] -> a :: (sort [] (List.rev acc))\n",
    "        | a :: b :: t -> \n",
    "            if a < b then sort (a :: acc) (b :: t)\n",
    "            else sort (b :: acc) (a :: t)\n",
    "    in\n",
    "    List.rev (sort [] lst) ;;\n",
    "\n",
    "\n",
    "assert ((bubblesort []) = []) ;;\n",
    "assert ((bubblesort [1]) = [1]) ;;\n",
    "assert ((bubblesort [1;1;1;1]) = [1;1;1;1]) ;;\n",
    "assert ((bubblesort [1;2;3;4]) = [1;2;3;4]) ;;\n",
    "assert ((bubblesort [5;2;1;1;3;6;4]) = [1;1;2;3;4;5;6]) ;;\n",
    "assert ((bubblesort [5;1;2;3;4]) = [1;2;3;4;5]) ;;\n",
    "assert ((bubblesort [5;4;3;2;1]) = [1;2;3;4;5]) ;;"
   ]
  },
  {
   "cell_type": "markdown",
   "metadata": {},
   "source": [
    "## Quick sort"
   ]
  },
  {
   "cell_type": "code",
   "execution_count": 74,
   "metadata": {},
   "outputs": [
    {
     "data": {
      "text/plain": [
       "val quicksort : 'a list -> 'a list = <fun>\n"
      ]
     },
     "execution_count": 74,
     "metadata": {},
     "output_type": "execute_result"
    },
    {
     "data": {
      "text/plain": [
       "- : unit = ()\n"
      ]
     },
     "execution_count": 74,
     "metadata": {},
     "output_type": "execute_result"
    },
    {
     "data": {
      "text/plain": [
       "- : unit = ()\n"
      ]
     },
     "execution_count": 74,
     "metadata": {},
     "output_type": "execute_result"
    },
    {
     "data": {
      "text/plain": [
       "- : unit = ()\n"
      ]
     },
     "execution_count": 74,
     "metadata": {},
     "output_type": "execute_result"
    },
    {
     "data": {
      "text/plain": [
       "- : unit = ()\n"
      ]
     },
     "execution_count": 74,
     "metadata": {},
     "output_type": "execute_result"
    },
    {
     "data": {
      "text/plain": [
       "- : unit = ()\n"
      ]
     },
     "execution_count": 74,
     "metadata": {},
     "output_type": "execute_result"
    },
    {
     "data": {
      "text/plain": [
       "- : unit = ()\n"
      ]
     },
     "execution_count": 74,
     "metadata": {},
     "output_type": "execute_result"
    },
    {
     "data": {
      "text/plain": [
       "- : unit = ()\n"
      ]
     },
     "execution_count": 74,
     "metadata": {},
     "output_type": "execute_result"
    }
   ],
   "source": [
    "let rec quicksort lst =\n",
    "    let rec group lo hi pv = function\n",
    "        | [] -> (quicksort lo) @ (quicksort hi)\n",
    "        | h :: t ->\n",
    "            if h < pv then group (h :: lo) hi pv t\n",
    "            else group lo (h :: hi) pv t\n",
    "    in\n",
    "    match lst with\n",
    "        | [] -> []\n",
    "        | [x] -> [x]\n",
    "        | h :: t -> group [h] [] h t ;;\n",
    "        \n",
    "\n",
    "assert ((bubblesort []) = []) ;;\n",
    "assert ((bubblesort [1]) = [1]) ;;\n",
    "assert ((bubblesort [1;1;1;1]) = [1;1;1;1]) ;;\n",
    "assert ((bubblesort [1;2;3;4]) = [1;2;3;4]) ;;\n",
    "assert ((bubblesort [5;2;1;1;3;6;4]) = [1;1;2;3;4;5;6]) ;;\n",
    "assert ((bubblesort [5;1;2;3;4]) = [1;2;3;4;5]) ;;\n",
    "assert ((bubblesort [5;4;3;2;1]) = [1;2;3;4;5]) ;;"
   ]
  }
 ],
 "metadata": {
  "kernelspec": {
   "display_name": "OCaml 4.05.0",
   "language": "OCaml",
   "name": "ocaml-jupyter"
  },
  "language_info": {
   "codemirror_mode": "text/x-ocaml",
   "file_extension": ".ml",
   "mimetype": "text/x-ocaml",
   "name": "OCaml",
   "nbconverter_exporter": null,
   "pygments_lexer": "OCaml",
   "version": "4.05.0"
  }
 },
 "nbformat": 4,
 "nbformat_minor": 4
}
