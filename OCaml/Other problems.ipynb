{
 "cells": [
  {
   "cell_type": "markdown",
   "metadata": {},
   "source": [
    "## FizzBuzz\n",
    "\n",
    "Players take turns to count incrementally, replacing any number divisible by three with the word \"fizz\", and any number divisible by five with the word \"buzz\". "
   ]
  },
  {
   "cell_type": "code",
   "execution_count": 1,
   "metadata": {},
   "outputs": [
    {
     "data": {
      "text/plain": [
       "val range : int -> int -> int list = <fun>\n"
      ]
     },
     "execution_count": 1,
     "metadata": {},
     "output_type": "execute_result"
    },
    {
     "data": {
      "text/plain": [
       "val ( -- ) : int -> int -> int list = <fun>\n"
      ]
     },
     "execution_count": 1,
     "metadata": {},
     "output_type": "execute_result"
    },
    {
     "data": {
      "text/plain": [
       "type fizbuzz = Int of int | String of string\n"
      ]
     },
     "execution_count": 1,
     "metadata": {},
     "output_type": "execute_result"
    },
    {
     "data": {
      "text/plain": [
       "val fizzbuzz : int -> fizbuzz = <fun>\n"
      ]
     },
     "execution_count": 1,
     "metadata": {},
     "output_type": "execute_result"
    },
    {
     "data": {
      "text/plain": [
       "- : fizbuzz list =\n",
       "[Int 1; Int 2; String \"Fizz\"; Int 4; String \"Buzz\"; String \"Fizz\"; Int 7;\n",
       " Int 8; String \"Fizz\"; String \"Buzz\"; Int 11; String \"Fizz\"; Int 13; \n",
       " Int 14; String \"FizzBuzz\"; Int 16; Int 17; String \"Fizz\"; Int 19;\n",
       " String \"Buzz\"; String \"Fizz\"; Int 22; Int 23; String \"Fizz\"; String \"Buzz\";\n",
       " Int 26; String \"Fizz\"; Int 28; Int 29; String \"FizzBuzz\"; Int 31; Int 32;\n",
       " String \"Fizz\"; Int 34; String \"Buzz\"; String \"Fizz\"; Int 37; Int 38;\n",
       " String \"Fizz\"; String \"Buzz\"; Int 41; String \"Fizz\"; Int 43; Int 44;\n",
       " String \"FizzBuzz\"; Int 46; Int 47; String \"Fizz\"; Int 49; String \"Buzz\";\n",
       " String \"Fizz\"; Int 52; Int 53; String \"Fizz\"; String \"Buzz\"; Int 56;\n",
       " String \"Fizz\"; Int 58; Int 59; String \"FizzBuzz\"; Int 61; Int 62;\n",
       " String \"Fizz\"; Int 64; String \"Buzz\"; String \"Fizz\"; Int 67; Int 68;\n",
       " String \"Fizz\"; String \"Buzz\"; Int 71; String \"Fizz\"; Int 73; Int 74;\n",
       " String \"FizzBuzz\"; Int 76; Int 77; String \"Fizz\"; Int 79; String \"Buzz\";\n",
       " String \"Fizz\"; Int 82; Int 83; String \"Fizz\"; String \"Buzz\"; Int 86;\n",
       " String \"Fizz\"; Int 88; Int 89; String \"FizzBuzz\"; Int 91; Int 92;\n",
       " String \"Fizz\"; Int 94; String \"Buzz\"; String \"Fizz\"; Int 97; Int 98;\n",
       " String \"Fizz\"; String \"Buzz\"]\n"
      ]
     },
     "execution_count": 1,
     "metadata": {},
     "output_type": "execute_result"
    },
    {
     "data": {
      "text/plain": [
       "- : unit = ()\n"
      ]
     },
     "execution_count": 1,
     "metadata": {},
     "output_type": "execute_result"
    },
    {
     "data": {
      "text/plain": [
       "- : unit = ()\n"
      ]
     },
     "execution_count": 1,
     "metadata": {},
     "output_type": "execute_result"
    },
    {
     "data": {
      "text/plain": [
       "- : unit = ()\n"
      ]
     },
     "execution_count": 1,
     "metadata": {},
     "output_type": "execute_result"
    },
    {
     "data": {
      "text/plain": [
       "- : unit = ()\n"
      ]
     },
     "execution_count": 1,
     "metadata": {},
     "output_type": "execute_result"
    },
    {
     "data": {
      "text/plain": [
       "- : unit = ()\n"
      ]
     },
     "execution_count": 1,
     "metadata": {},
     "output_type": "execute_result"
    },
    {
     "data": {
      "text/plain": [
       "- : unit = ()\n"
      ]
     },
     "execution_count": 1,
     "metadata": {},
     "output_type": "execute_result"
    },
    {
     "data": {
      "text/plain": [
       "- : unit = ()\n"
      ]
     },
     "execution_count": 1,
     "metadata": {},
     "output_type": "execute_result"
    },
    {
     "data": {
      "text/plain": [
       "- : unit = ()\n"
      ]
     },
     "execution_count": 1,
     "metadata": {},
     "output_type": "execute_result"
    }
   ],
   "source": [
    "let range a b =\n",
    "    let rec aux a b acc =\n",
    "        if b >= a then aux a (b - 1) (b :: acc)\n",
    "        else acc\n",
    "    in aux a b [] ;;\n",
    "\n",
    "let (--) = range\n",
    "\n",
    "type fizbuzz = Int of int | String of string ;;\n",
    "\n",
    "let fizzbuzz n =\n",
    "    match (n mod 3 = 0), (n mod 5 = 0) with\n",
    "        | true, true -> String \"FizzBuzz\"\n",
    "        | true, false -> String \"Fizz\"\n",
    "        | false, true -> String \"Buzz\"\n",
    "        | _ -> Int n ;;\n",
    "\n",
    "List.map fizzbuzz (1 -- 100) ;;\n",
    "\n",
    "assert (fizzbuzz 1 = Int 1) ;;\n",
    "assert (fizzbuzz 3 = String \"Fizz\") ;;\n",
    "assert (fizzbuzz 5 = String \"Buzz\") ;;\n",
    "assert (fizzbuzz 15 = String \"FizzBuzz\") ;;\n",
    "assert (fizzbuzz 30 = String \"FizzBuzz\") ;;\n",
    "assert (fizzbuzz 300 = String \"FizzBuzz\") ;;\n",
    "assert (fizzbuzz 305 = String \"Buzz\") ;;\n",
    "assert (fizzbuzz 31 = Int 31) ;;"
   ]
  },
  {
   "cell_type": "code",
   "execution_count": null,
   "metadata": {},
   "outputs": [],
   "source": []
  }
 ],
 "metadata": {
  "kernelspec": {
   "display_name": "OCaml default",
   "language": "OCaml",
   "name": "ocaml-jupyter"
  },
  "language_info": {
   "codemirror_mode": "text/x-ocaml",
   "file_extension": ".ml",
   "mimetype": "text/x-ocaml",
   "name": "OCaml",
   "nbconverter_exporter": null,
   "pygments_lexer": "OCaml",
   "version": "4.08.1"
  }
 },
 "nbformat": 4,
 "nbformat_minor": 4
}
