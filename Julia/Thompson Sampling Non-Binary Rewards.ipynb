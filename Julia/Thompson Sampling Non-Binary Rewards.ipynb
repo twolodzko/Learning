{
 "cells": [
  {
   "cell_type": "code",
   "execution_count": 1,
   "id": "8f086792",
   "metadata": {},
   "outputs": [
    {
     "data": {
      "text/plain": [
       "MersenneTwister(42)"
      ]
     },
     "execution_count": 1,
     "metadata": {},
     "output_type": "execute_result"
    }
   ],
   "source": [
    "using Distributions\n",
    "import Base.rand\n",
    "import Random\n",
    "using Formatting\n",
    "\n",
    "Random.seed!(42)\n",
    "\n",
    "# See:\n",
    "# Daniel J. Russo et al, \"A Tutorial on Thompson Sampling.\"\n",
    "# https://web.stanford.edu/~bvr/pubs/TS_Tutorial.pdf"
   ]
  },
  {
   "cell_type": "code",
   "execution_count": 2,
   "id": "0f4fe758",
   "metadata": {},
   "outputs": [
    {
     "data": {
      "text/plain": [
       "step! (generic function with 1 method)"
      ]
     },
     "execution_count": 2,
     "metadata": {},
     "output_type": "execute_result"
    }
   ],
   "source": [
    "mutable struct ThompsonSampling\n",
    "    arms::Vector{Distribution}\n",
    "    distr::Vector{LogNormal}\n",
    "    τ::Real\n",
    "    \n",
    "    ThompsonSampling(arms) = new(arms, [LogNormal() for _ in arms], 1)\n",
    "end\n",
    "\n",
    "function rand(sampler::ThompsonSampling)\n",
    "    return map(distr -> rand(distr), sampler.distr)\n",
    "end\n",
    "\n",
    "function posterior(distr::LogNormal, y::Real, τ::Real)\n",
    "    μ_prior = mean(distr)\n",
    "    σ_prior = var(distr)\n",
    "    \n",
    "    σ_post = 1 / (1/σ_prior + 1/τ)\n",
    "    μ_post = μ_prior/σ_prior + log(y + τ/2)/τ\n",
    "    μ_post *= σ_post\n",
    "    \n",
    "    return LogNormal(μ_post, σ_post)\n",
    "end\n",
    "\n",
    "function step!(sampler::ThompsonSampling) \n",
    "    idx = argmax(rand(sampler))\n",
    "    reward = rand(sampler.arms[idx])\n",
    "        \n",
    "    sampler.distr[idx] = posterior(sampler.distr[idx], reward, sampler.τ)\n",
    "    \n",
    "    return reward\n",
    "end"
   ]
  },
  {
   "cell_type": "code",
   "execution_count": 3,
   "id": "164a45a9",
   "metadata": {},
   "outputs": [
    {
     "data": {
      "text/plain": [
       "experiment (generic function with 2 methods)"
      ]
     },
     "execution_count": 3,
     "metadata": {},
     "output_type": "execute_result"
    }
   ],
   "source": [
    "function experiment(iters, trials = 5000)\n",
    "    \n",
    "    total_rewards = zeros(3)\n",
    "\n",
    "    for _ in 1:trials\n",
    "        arms = [Poisson(rand(Uniform(1, 10))) for _ in 1:10]\n",
    "\n",
    "        # pure exploration\n",
    "        for _ in 1:iters\n",
    "            idx = rand(1:length(arms))\n",
    "            total_rewards[1] += rand(arms[idx])\n",
    "        end\n",
    "\n",
    "        # explore first\n",
    "        rewards = zeros(length(arms))\n",
    "        for i in 1:iters\n",
    "            if i < iters // 2\n",
    "                idx = rand(1:length(arms))\n",
    "            else\n",
    "                idx = argmax(rewards)\n",
    "            end\n",
    "\n",
    "            rewards[idx] += rand(arms[idx])\n",
    "        end\n",
    "        total_rewards[2] += sum(rewards)\n",
    "\n",
    "        # thompson sampling\n",
    "        sampler = ThompsonSampling(arms)\n",
    "        for _ in 1:iters\n",
    "            total_rewards[3] += step!(sampler)\n",
    "        end    \n",
    "    end\n",
    "\n",
    "    printfmt(\"\\n\\niterations:        {:d}\\n\", iters)\n",
    "    printfmt(\"explore only:      {:f}\\nexplore first:     {:f}\\nthompson sampling: {:f}\", (total_rewards/iters/trials)...)\n",
    "    \n",
    "end"
   ]
  },
  {
   "cell_type": "code",
   "execution_count": 4,
   "id": "97926a9f",
   "metadata": {},
   "outputs": [
    {
     "name": "stdout",
     "output_type": "stream",
     "text": [
      "\n",
      "\n",
      "iterations:        10\n",
      "explore only:      5.513920\n",
      "explore first:     6.524320\n",
      "thompson sampling: 6.231600\n",
      "\n",
      "iterations:        100\n",
      "explore only:      5.501280\n",
      "explore first:     6.842702\n",
      "thompson sampling: 6.990698\n",
      "\n",
      "iterations:        1000\n",
      "explore only:      5.508589\n",
      "explore first:     7.158247\n",
      "thompson sampling: 7.425364"
     ]
    }
   ],
   "source": [
    "experiment(10)\n",
    "experiment(100)\n",
    "experiment(1000)"
   ]
  },
  {
   "cell_type": "code",
   "execution_count": null,
   "id": "d9f878a0",
   "metadata": {},
   "outputs": [],
   "source": []
  }
 ],
 "metadata": {
  "kernelspec": {
   "display_name": "Julia 1.6.1",
   "language": "julia",
   "name": "julia-1.6"
  },
  "language_info": {
   "file_extension": ".jl",
   "mimetype": "application/julia",
   "name": "julia",
   "version": "1.6.1"
  }
 },
 "nbformat": 4,
 "nbformat_minor": 5
}
