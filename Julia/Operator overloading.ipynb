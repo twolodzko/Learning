{
 "cells": [
  {
   "cell_type": "code",
   "execution_count": 1,
   "metadata": {},
   "outputs": [
    {
     "data": {
      "text/plain": [
       "p (generic function with 1 method)"
      ]
     },
     "execution_count": 1,
     "metadata": {},
     "output_type": "execute_result"
    }
   ],
   "source": [
    "import Base: |, ∪, ∩, size, !\n",
    "\n",
    "struct Event\n",
    "    values::Array{Bool}\n",
    "end\n",
    "\n",
    "size(x::Event) = length(x.values)\n",
    "\n",
    "(|)(lhs::Event, rhs::Event) = Event(lhs.values[rhs.values])\n",
    "(∩)(lhs::Event, rhs::Event) = Event(rhs.values .& lhs.values)\n",
    "(∪)(lhs::Event, rhs::Event) = Event(rhs.values .| lhs.values)\n",
    "(!)(x::Event) = Event((!).(x.values))\n",
    "\n",
    "function p(x::Event)\n",
    "    sum(x.values) / size(x)\n",
    "end"
   ]
  },
  {
   "cell_type": "code",
   "execution_count": 2,
   "metadata": {},
   "outputs": [
    {
     "data": {
      "text/plain": [
       "(0.3333333333333333, 0.16666666666666666, 0.5)"
      ]
     },
     "execution_count": 2,
     "metadata": {},
     "output_type": "execute_result"
    }
   ],
   "source": [
    "A = Event([1,1,1,0,0,0])\n",
    "B = Event([0,0,1,1,1,0])\n",
    "\n",
    "p(A | B), p(A ∩ B), p(A)"
   ]
  },
  {
   "cell_type": "code",
   "execution_count": 3,
   "metadata": {},
   "outputs": [
    {
     "data": {
      "text/plain": [
       "true"
      ]
     },
     "execution_count": 3,
     "metadata": {},
     "output_type": "execute_result"
    }
   ],
   "source": [
    "# The complement rule\n",
    "p(!A) == 1 - p(A)"
   ]
  },
  {
   "cell_type": "code",
   "execution_count": 4,
   "metadata": {},
   "outputs": [
    {
     "data": {
      "text/plain": [
       "true"
      ]
     },
     "execution_count": 4,
     "metadata": {},
     "output_type": "execute_result"
    }
   ],
   "source": [
    "# Conditional probability\n",
    "p(A | B) == p(A ∩ B) / p(B)"
   ]
  },
  {
   "cell_type": "code",
   "execution_count": 5,
   "metadata": {},
   "outputs": [
    {
     "data": {
      "text/plain": [
       "true"
      ]
     },
     "execution_count": 5,
     "metadata": {},
     "output_type": "execute_result"
    }
   ],
   "source": [
    "# Joint probability\n",
    "p(A ∩ B) == p(A | B) * p(B)"
   ]
  },
  {
   "cell_type": "code",
   "execution_count": 6,
   "metadata": {},
   "outputs": [
    {
     "data": {
      "text/plain": [
       "true"
      ]
     },
     "execution_count": 6,
     "metadata": {},
     "output_type": "execute_result"
    }
   ],
   "source": [
    "# Bayes theorem\n",
    "(p(A | B) * p(B)) / p(A) == p(B | A)"
   ]
  },
  {
   "cell_type": "code",
   "execution_count": 7,
   "metadata": {},
   "outputs": [
    {
     "data": {
      "text/plain": [
       "true"
      ]
     },
     "execution_count": 7,
     "metadata": {},
     "output_type": "execute_result"
    }
   ],
   "source": [
    "# Not mutually exclusive events\n",
    "p(A ∪ B) == p(A) + p(B) - p(A ∩ B)"
   ]
  },
  {
   "cell_type": "code",
   "execution_count": 8,
   "metadata": {},
   "outputs": [
    {
     "data": {
      "text/plain": [
       "true"
      ]
     },
     "execution_count": 8,
     "metadata": {},
     "output_type": "execute_result"
    }
   ],
   "source": [
    "# Independence\n",
    "A = Event([1,1,0,0])\n",
    "B = Event([1,0,1,0])\n",
    "\n",
    "p(A ∩ B) == p(A) * p(B)"
   ]
  }
 ],
 "metadata": {
  "kernelspec": {
   "display_name": "Julia 1.5.1",
   "language": "julia",
   "name": "julia-1.5"
  },
  "language_info": {
   "file_extension": ".jl",
   "mimetype": "application/julia",
   "name": "julia",
   "version": "1.5.1"
  }
 },
 "nbformat": 4,
 "nbformat_minor": 4
}
